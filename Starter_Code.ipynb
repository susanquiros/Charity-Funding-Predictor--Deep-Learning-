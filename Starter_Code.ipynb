{
  "nbformat": 4,
  "nbformat_minor": 0,
  "metadata": {
    "kernelspec": {
      "display_name": "Python 3",
      "language": "python",
      "name": "python3"
    },
    "language_info": {
      "codemirror_mode": {
        "name": "ipython",
        "version": 3
      },
      "file_extension": ".py",
      "mimetype": "text/x-python",
      "name": "python",
      "nbconvert_exporter": "python",
      "pygments_lexer": "ipython3",
      "version": "3.7.6"
    },
    "colab": {
      "name": "Starter_Code.ipynb",
      "provenance": [],
      "include_colab_link": true
    }
  },
  "cells": [
    {
      "cell_type": "markdown",
      "metadata": {
        "id": "view-in-github",
        "colab_type": "text"
      },
      "source": [
        "<a href=\"https://colab.research.google.com/github/susanquiros/Charity-Funding-Predictor--Deep-Learning-/blob/main/Starter_Code.ipynb\" target=\"_parent\"><img src=\"https://colab.research.google.com/assets/colab-badge.svg\" alt=\"Open In Colab\"/></a>"
      ]
    },
    {
      "cell_type": "markdown",
      "metadata": {
        "id": "s5SOn3lNmtAs"
      },
      "source": [
        "## Preprocessing"
      ]
    },
    {
      "cell_type": "code",
      "metadata": {
        "colab": {
          "resources": {
            "http://localhost:8080/nbextensions/google.colab/files.js": {
              "data": "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",
              "ok": true,
              "headers": [
                [
                  "content-type",
                  "application/javascript"
                ]
              ],
              "status": 200,
              "status_text": ""
            }
          },
          "base_uri": "https://localhost:8080/",
          "height": 73
        },
        "id": "4pA4GFwmnJbL",
        "outputId": "fbed12df-350f-4a0c-a241-99471928a985"
      },
      "source": [
        "from google.colab import files\n",
        "uploaded = files.upload()"
      ],
      "execution_count": 1,
      "outputs": [
        {
          "output_type": "display_data",
          "data": {
            "text/html": [
              "\n",
              "     <input type=\"file\" id=\"files-f7ef6b51-e9fa-4c2e-b41d-0ec4da4d41e7\" name=\"files[]\" multiple disabled\n",
              "        style=\"border:none\" />\n",
              "     <output id=\"result-f7ef6b51-e9fa-4c2e-b41d-0ec4da4d41e7\">\n",
              "      Upload widget is only available when the cell has been executed in the\n",
              "      current browser session. Please rerun this cell to enable.\n",
              "      </output>\n",
              "      <script src=\"/nbextensions/google.colab/files.js\"></script> "
            ],
            "text/plain": [
              "<IPython.core.display.HTML object>"
            ]
          },
          "metadata": {}
        },
        {
          "output_type": "stream",
          "name": "stdout",
          "text": [
            "Saving charity_data.csv to charity_data.csv\n"
          ]
        }
      ]
    },
    {
      "cell_type": "code",
      "metadata": {
        "colab": {
          "base_uri": "https://localhost:8080/",
          "height": 451
        },
        "id": "RW7V-UdymtA1",
        "outputId": "f0192e89-fae7-4b2d-9103-d2e619b47907"
      },
      "source": [
        "# Import our dependencies\n",
        "from sklearn.model_selection import train_test_split\n",
        "from sklearn.preprocessing import StandardScaler\n",
        "import pandas as pd\n",
        "import tensorflow as tf\n",
        "\n",
        "#  Import and read the charity_data.csv.\n",
        "import pandas as pd \n",
        "# application_df = pd.read_csv(\"Resources/charity_data.csv\")\n",
        "application_df = pd.read_csv('charity_data.csv')\n",
        "application_df.head()"
      ],
      "execution_count": 29,
      "outputs": [
        {
          "output_type": "execute_result",
          "data": {
            "text/html": [
              "<div>\n",
              "<style scoped>\n",
              "    .dataframe tbody tr th:only-of-type {\n",
              "        vertical-align: middle;\n",
              "    }\n",
              "\n",
              "    .dataframe tbody tr th {\n",
              "        vertical-align: top;\n",
              "    }\n",
              "\n",
              "    .dataframe thead th {\n",
              "        text-align: right;\n",
              "    }\n",
              "</style>\n",
              "<table border=\"1\" class=\"dataframe\">\n",
              "  <thead>\n",
              "    <tr style=\"text-align: right;\">\n",
              "      <th></th>\n",
              "      <th>EIN</th>\n",
              "      <th>NAME</th>\n",
              "      <th>APPLICATION_TYPE</th>\n",
              "      <th>AFFILIATION</th>\n",
              "      <th>CLASSIFICATION</th>\n",
              "      <th>USE_CASE</th>\n",
              "      <th>ORGANIZATION</th>\n",
              "      <th>STATUS</th>\n",
              "      <th>INCOME_AMT</th>\n",
              "      <th>SPECIAL_CONSIDERATIONS</th>\n",
              "      <th>ASK_AMT</th>\n",
              "      <th>IS_SUCCESSFUL</th>\n",
              "    </tr>\n",
              "  </thead>\n",
              "  <tbody>\n",
              "    <tr>\n",
              "      <th>0</th>\n",
              "      <td>10520599</td>\n",
              "      <td>BLUE KNIGHTS MOTORCYCLE CLUB</td>\n",
              "      <td>T10</td>\n",
              "      <td>Independent</td>\n",
              "      <td>C1000</td>\n",
              "      <td>ProductDev</td>\n",
              "      <td>Association</td>\n",
              "      <td>1</td>\n",
              "      <td>0</td>\n",
              "      <td>N</td>\n",
              "      <td>5000</td>\n",
              "      <td>1</td>\n",
              "    </tr>\n",
              "    <tr>\n",
              "      <th>1</th>\n",
              "      <td>10531628</td>\n",
              "      <td>AMERICAN CHESAPEAKE CLUB CHARITABLE TR</td>\n",
              "      <td>T3</td>\n",
              "      <td>Independent</td>\n",
              "      <td>C2000</td>\n",
              "      <td>Preservation</td>\n",
              "      <td>Co-operative</td>\n",
              "      <td>1</td>\n",
              "      <td>1-9999</td>\n",
              "      <td>N</td>\n",
              "      <td>108590</td>\n",
              "      <td>1</td>\n",
              "    </tr>\n",
              "    <tr>\n",
              "      <th>2</th>\n",
              "      <td>10547893</td>\n",
              "      <td>ST CLOUD PROFESSIONAL FIREFIGHTERS</td>\n",
              "      <td>T5</td>\n",
              "      <td>CompanySponsored</td>\n",
              "      <td>C3000</td>\n",
              "      <td>ProductDev</td>\n",
              "      <td>Association</td>\n",
              "      <td>1</td>\n",
              "      <td>0</td>\n",
              "      <td>N</td>\n",
              "      <td>5000</td>\n",
              "      <td>0</td>\n",
              "    </tr>\n",
              "    <tr>\n",
              "      <th>3</th>\n",
              "      <td>10553066</td>\n",
              "      <td>SOUTHSIDE ATHLETIC ASSOCIATION</td>\n",
              "      <td>T3</td>\n",
              "      <td>CompanySponsored</td>\n",
              "      <td>C2000</td>\n",
              "      <td>Preservation</td>\n",
              "      <td>Trust</td>\n",
              "      <td>1</td>\n",
              "      <td>10000-24999</td>\n",
              "      <td>N</td>\n",
              "      <td>6692</td>\n",
              "      <td>1</td>\n",
              "    </tr>\n",
              "    <tr>\n",
              "      <th>4</th>\n",
              "      <td>10556103</td>\n",
              "      <td>GENETIC RESEARCH INSTITUTE OF THE DESERT</td>\n",
              "      <td>T3</td>\n",
              "      <td>Independent</td>\n",
              "      <td>C1000</td>\n",
              "      <td>Heathcare</td>\n",
              "      <td>Trust</td>\n",
              "      <td>1</td>\n",
              "      <td>100000-499999</td>\n",
              "      <td>N</td>\n",
              "      <td>142590</td>\n",
              "      <td>1</td>\n",
              "    </tr>\n",
              "  </tbody>\n",
              "</table>\n",
              "</div>"
            ],
            "text/plain": [
              "        EIN                                      NAME  ... ASK_AMT IS_SUCCESSFUL\n",
              "0  10520599              BLUE KNIGHTS MOTORCYCLE CLUB  ...    5000             1\n",
              "1  10531628    AMERICAN CHESAPEAKE CLUB CHARITABLE TR  ...  108590             1\n",
              "2  10547893        ST CLOUD PROFESSIONAL FIREFIGHTERS  ...    5000             0\n",
              "3  10553066            SOUTHSIDE ATHLETIC ASSOCIATION  ...    6692             1\n",
              "4  10556103  GENETIC RESEARCH INSTITUTE OF THE DESERT  ...  142590             1\n",
              "\n",
              "[5 rows x 12 columns]"
            ]
          },
          "metadata": {},
          "execution_count": 29
        }
      ]
    },
    {
      "cell_type": "code",
      "metadata": {
        "colab": {
          "base_uri": "https://localhost:8080/",
          "height": 478
        },
        "id": "aOZfVRkvmtA5",
        "outputId": "6316c55c-7922-405c-bfde-8705ef38d656"
      },
      "source": [
        "# Drop the non-beneficial ID columns, 'EIN' and 'NAME'.\n",
        "#  YOUR CODE GOES HERE\n",
        "application_clean = application_df.drop(columns=['EIN', 'NAME'], axis =1)\n",
        "application_clean"
      ],
      "execution_count": 30,
      "outputs": [
        {
          "output_type": "execute_result",
          "data": {
            "text/html": [
              "<div>\n",
              "<style scoped>\n",
              "    .dataframe tbody tr th:only-of-type {\n",
              "        vertical-align: middle;\n",
              "    }\n",
              "\n",
              "    .dataframe tbody tr th {\n",
              "        vertical-align: top;\n",
              "    }\n",
              "\n",
              "    .dataframe thead th {\n",
              "        text-align: right;\n",
              "    }\n",
              "</style>\n",
              "<table border=\"1\" class=\"dataframe\">\n",
              "  <thead>\n",
              "    <tr style=\"text-align: right;\">\n",
              "      <th></th>\n",
              "      <th>APPLICATION_TYPE</th>\n",
              "      <th>AFFILIATION</th>\n",
              "      <th>CLASSIFICATION</th>\n",
              "      <th>USE_CASE</th>\n",
              "      <th>ORGANIZATION</th>\n",
              "      <th>STATUS</th>\n",
              "      <th>INCOME_AMT</th>\n",
              "      <th>SPECIAL_CONSIDERATIONS</th>\n",
              "      <th>ASK_AMT</th>\n",
              "      <th>IS_SUCCESSFUL</th>\n",
              "    </tr>\n",
              "  </thead>\n",
              "  <tbody>\n",
              "    <tr>\n",
              "      <th>0</th>\n",
              "      <td>T10</td>\n",
              "      <td>Independent</td>\n",
              "      <td>C1000</td>\n",
              "      <td>ProductDev</td>\n",
              "      <td>Association</td>\n",
              "      <td>1</td>\n",
              "      <td>0</td>\n",
              "      <td>N</td>\n",
              "      <td>5000</td>\n",
              "      <td>1</td>\n",
              "    </tr>\n",
              "    <tr>\n",
              "      <th>1</th>\n",
              "      <td>T3</td>\n",
              "      <td>Independent</td>\n",
              "      <td>C2000</td>\n",
              "      <td>Preservation</td>\n",
              "      <td>Co-operative</td>\n",
              "      <td>1</td>\n",
              "      <td>1-9999</td>\n",
              "      <td>N</td>\n",
              "      <td>108590</td>\n",
              "      <td>1</td>\n",
              "    </tr>\n",
              "    <tr>\n",
              "      <th>2</th>\n",
              "      <td>T5</td>\n",
              "      <td>CompanySponsored</td>\n",
              "      <td>C3000</td>\n",
              "      <td>ProductDev</td>\n",
              "      <td>Association</td>\n",
              "      <td>1</td>\n",
              "      <td>0</td>\n",
              "      <td>N</td>\n",
              "      <td>5000</td>\n",
              "      <td>0</td>\n",
              "    </tr>\n",
              "    <tr>\n",
              "      <th>3</th>\n",
              "      <td>T3</td>\n",
              "      <td>CompanySponsored</td>\n",
              "      <td>C2000</td>\n",
              "      <td>Preservation</td>\n",
              "      <td>Trust</td>\n",
              "      <td>1</td>\n",
              "      <td>10000-24999</td>\n",
              "      <td>N</td>\n",
              "      <td>6692</td>\n",
              "      <td>1</td>\n",
              "    </tr>\n",
              "    <tr>\n",
              "      <th>4</th>\n",
              "      <td>T3</td>\n",
              "      <td>Independent</td>\n",
              "      <td>C1000</td>\n",
              "      <td>Heathcare</td>\n",
              "      <td>Trust</td>\n",
              "      <td>1</td>\n",
              "      <td>100000-499999</td>\n",
              "      <td>N</td>\n",
              "      <td>142590</td>\n",
              "      <td>1</td>\n",
              "    </tr>\n",
              "    <tr>\n",
              "      <th>...</th>\n",
              "      <td>...</td>\n",
              "      <td>...</td>\n",
              "      <td>...</td>\n",
              "      <td>...</td>\n",
              "      <td>...</td>\n",
              "      <td>...</td>\n",
              "      <td>...</td>\n",
              "      <td>...</td>\n",
              "      <td>...</td>\n",
              "      <td>...</td>\n",
              "    </tr>\n",
              "    <tr>\n",
              "      <th>34294</th>\n",
              "      <td>T4</td>\n",
              "      <td>Independent</td>\n",
              "      <td>C1000</td>\n",
              "      <td>ProductDev</td>\n",
              "      <td>Association</td>\n",
              "      <td>1</td>\n",
              "      <td>0</td>\n",
              "      <td>N</td>\n",
              "      <td>5000</td>\n",
              "      <td>0</td>\n",
              "    </tr>\n",
              "    <tr>\n",
              "      <th>34295</th>\n",
              "      <td>T4</td>\n",
              "      <td>CompanySponsored</td>\n",
              "      <td>C3000</td>\n",
              "      <td>ProductDev</td>\n",
              "      <td>Association</td>\n",
              "      <td>1</td>\n",
              "      <td>0</td>\n",
              "      <td>N</td>\n",
              "      <td>5000</td>\n",
              "      <td>0</td>\n",
              "    </tr>\n",
              "    <tr>\n",
              "      <th>34296</th>\n",
              "      <td>T3</td>\n",
              "      <td>CompanySponsored</td>\n",
              "      <td>C2000</td>\n",
              "      <td>Preservation</td>\n",
              "      <td>Association</td>\n",
              "      <td>1</td>\n",
              "      <td>0</td>\n",
              "      <td>N</td>\n",
              "      <td>5000</td>\n",
              "      <td>0</td>\n",
              "    </tr>\n",
              "    <tr>\n",
              "      <th>34297</th>\n",
              "      <td>T5</td>\n",
              "      <td>Independent</td>\n",
              "      <td>C3000</td>\n",
              "      <td>ProductDev</td>\n",
              "      <td>Association</td>\n",
              "      <td>1</td>\n",
              "      <td>0</td>\n",
              "      <td>N</td>\n",
              "      <td>5000</td>\n",
              "      <td>1</td>\n",
              "    </tr>\n",
              "    <tr>\n",
              "      <th>34298</th>\n",
              "      <td>T3</td>\n",
              "      <td>Independent</td>\n",
              "      <td>C1000</td>\n",
              "      <td>Preservation</td>\n",
              "      <td>Co-operative</td>\n",
              "      <td>1</td>\n",
              "      <td>1M-5M</td>\n",
              "      <td>N</td>\n",
              "      <td>36500179</td>\n",
              "      <td>0</td>\n",
              "    </tr>\n",
              "  </tbody>\n",
              "</table>\n",
              "<p>34299 rows × 10 columns</p>\n",
              "</div>"
            ],
            "text/plain": [
              "      APPLICATION_TYPE       AFFILIATION  ...   ASK_AMT IS_SUCCESSFUL\n",
              "0                  T10       Independent  ...      5000             1\n",
              "1                   T3       Independent  ...    108590             1\n",
              "2                   T5  CompanySponsored  ...      5000             0\n",
              "3                   T3  CompanySponsored  ...      6692             1\n",
              "4                   T3       Independent  ...    142590             1\n",
              "...                ...               ...  ...       ...           ...\n",
              "34294               T4       Independent  ...      5000             0\n",
              "34295               T4  CompanySponsored  ...      5000             0\n",
              "34296               T3  CompanySponsored  ...      5000             0\n",
              "34297               T5       Independent  ...      5000             1\n",
              "34298               T3       Independent  ...  36500179             0\n",
              "\n",
              "[34299 rows x 10 columns]"
            ]
          },
          "metadata": {},
          "execution_count": 30
        }
      ]
    },
    {
      "cell_type": "code",
      "metadata": {
        "colab": {
          "base_uri": "https://localhost:8080/"
        },
        "id": "eOwEcDM_mtA6",
        "outputId": "3d4315b3-933e-4508-e2ac-ec10c710e75f"
      },
      "source": [
        "# Determine the number of unique values in each column.\n",
        "application_clean.nunique()"
      ],
      "execution_count": 31,
      "outputs": [
        {
          "output_type": "execute_result",
          "data": {
            "text/plain": [
              "APPLICATION_TYPE            17\n",
              "AFFILIATION                  6\n",
              "CLASSIFICATION              71\n",
              "USE_CASE                     5\n",
              "ORGANIZATION                 4\n",
              "STATUS                       2\n",
              "INCOME_AMT                   9\n",
              "SPECIAL_CONSIDERATIONS       2\n",
              "ASK_AMT                   8747\n",
              "IS_SUCCESSFUL                2\n",
              "dtype: int64"
            ]
          },
          "metadata": {},
          "execution_count": 31
        }
      ]
    },
    {
      "cell_type": "code",
      "metadata": {
        "colab": {
          "base_uri": "https://localhost:8080/",
          "height": 291
        },
        "id": "ISXh51SjmtA7",
        "outputId": "33550ba2-fcc5-418e-b4ab-2d04327f250f"
      },
      "source": [
        "# Look at APPLICATION_TYPE value counts for binning\n",
        "application_clean.APPLICATION_TYPE.value_counts().plot(kind= 'bar')"
      ],
      "execution_count": 32,
      "outputs": [
        {
          "output_type": "execute_result",
          "data": {
            "text/plain": [
              "<matplotlib.axes._subplots.AxesSubplot at 0x7fa42467cf90>"
            ]
          },
          "metadata": {},
          "execution_count": 32
        },
        {
          "output_type": "display_data",
          "data": {
            "image/png": "[encoded data removed]",
            "text/plain": [
              "<Figure size 432x288 with 1 Axes>"
            ]
          },
          "metadata": {
            "needs_background": "light"
          }
        }
      ]
    },
    {
      "cell_type": "code",
      "metadata": {
        "colab": {
          "base_uri": "https://localhost:8080/"
        },
        "id": "G-odhubqso0e",
        "outputId": "4320d2d5-e9e3-4fb7-9ad5-c60955575f7b"
      },
      "source": [
        "application_clean.APPLICATION_TYPE.value_counts()"
      ],
      "execution_count": 33,
      "outputs": [
        {
          "output_type": "execute_result",
          "data": {
            "text/plain": [
              "T3     27037\n",
              "T4      1542\n",
              "T6      1216\n",
              "T5      1173\n",
              "T19     1065\n",
              "T8       737\n",
              "T7       725\n",
              "T10      528\n",
              "T9       156\n",
              "T13       66\n",
              "T12       27\n",
              "T2        16\n",
              "T14        3\n",
              "T25        3\n",
              "T15        2\n",
              "T29        2\n",
              "T17        1\n",
              "Name: APPLICATION_TYPE, dtype: int64"
            ]
          },
          "metadata": {},
          "execution_count": 33
        }
      ]
    },
    {
      "cell_type": "code",
      "metadata": {
        "colab": {
          "base_uri": "https://localhost:8080/",
          "height": 283
        },
        "id": "fq6oosbZrIsA",
        "outputId": "855e8ec5-e6da-4611-e09e-42f6cd490e0a"
      },
      "source": [
        "#Density plot- https://www.geeksforgeeks.org/density-plots-with-pandas-in-python/\n",
        "application_clean.APPLICATION_TYPE.value_counts().plot.density()"
      ],
      "execution_count": 34,
      "outputs": [
        {
          "output_type": "execute_result",
          "data": {
            "text/plain": [
              "<matplotlib.axes._subplots.AxesSubplot at 0x7fa4243d22d0>"
            ]
          },
          "metadata": {},
          "execution_count": 34
        },
        {
          "output_type": "display_data",
          "data": {
            "image/png": "[encoded data removed]",
            "text/plain": [
              "<Figure size 432x288 with 1 Axes>"
            ]
          },
          "metadata": {
            "needs_background": "light"
          }
        }
      ]
    },
    {
      "cell_type": "code",
      "metadata": {
        "colab": {
          "base_uri": "https://localhost:8080/"
        },
        "id": "g5KzEpJ8mtA8",
        "outputId": "744fc8c7-4614-4360-a106-4dbcf5173372"
      },
      "source": [
        "# Choose a cutoff value and create a list of application types to be replaced\n",
        "# use the variable name `application_types_to_replace`-- My cutoff is for aplication types > 500\n",
        "application_types_to_replace = ['T9','T13','T12','T2', 'T25', 'T14', 'T29', \"T15\", 'T17']\n",
        "\n",
        "\n",
        "# Replace in dataframe\n",
        "for app in application_types_to_replace:\n",
        "    application_clean['APPLICATION_TYPE'] = application_clean['APPLICATION_TYPE'].replace(app,\"Other\")\n",
        "\n",
        "# Check to make sure binning was successful\n",
        "application_clean['APPLICATION_TYPE'].value_counts()"
      ],
      "execution_count": 35,
      "outputs": [
        {
          "output_type": "execute_result",
          "data": {
            "text/plain": [
              "T3       27037\n",
              "T4        1542\n",
              "T6        1216\n",
              "T5        1173\n",
              "T19       1065\n",
              "T8         737\n",
              "T7         725\n",
              "T10        528\n",
              "Other      276\n",
              "Name: APPLICATION_TYPE, dtype: int64"
            ]
          },
          "metadata": {},
          "execution_count": 35
        }
      ]
    },
    {
      "cell_type": "code",
      "metadata": {
        "colab": {
          "base_uri": "https://localhost:8080/"
        },
        "id": "eKBnuyiQmtA-",
        "outputId": "1b486b67-7a37-41f0-8cff-c3cb3bb7696f"
      },
      "source": [
        "# Look at CLASSIFICATION value counts for binning\n",
        "application_clean.CLASSIFICATION.value_counts()"
      ],
      "execution_count": 36,
      "outputs": [
        {
          "output_type": "execute_result",
          "data": {
            "text/plain": [
              "C1000    17326\n",
              "C2000     6074\n",
              "C1200     4837\n",
              "C3000     1918\n",
              "C2100     1883\n",
              "         ...  \n",
              "C2570        1\n",
              "C2170        1\n",
              "C1900        1\n",
              "C1728        1\n",
              "C1732        1\n",
              "Name: CLASSIFICATION, Length: 71, dtype: int64"
            ]
          },
          "metadata": {},
          "execution_count": 36
        }
      ]
    },
    {
      "cell_type": "code",
      "metadata": {
        "id": "PldQulW-mtA_"
      },
      "source": [
        "# You may find it helpful to look at CLASSIFICATION value counts >1\n",
        "# application_clean['CLASSIFICATION'].value_counts().loc[lambda x : x>1]"
      ],
      "execution_count": 37,
      "outputs": []
    },
    {
      "cell_type": "code",
      "metadata": {
        "id": "LM-mz6FG2w9m",
        "colab": {
          "base_uri": "https://localhost:8080/"
        },
        "outputId": "0100df43-d549-4811-fb44-e0dfbb2437c6"
      },
      "source": [
        "classification_value = application_df.loc[:, 'CLASSIFICATION'].value_counts()\n",
        "classification_value"
      ],
      "execution_count": 38,
      "outputs": [
        {
          "output_type": "execute_result",
          "data": {
            "text/plain": [
              "C1000    17326\n",
              "C2000     6074\n",
              "C1200     4837\n",
              "C3000     1918\n",
              "C2100     1883\n",
              "         ...  \n",
              "C2570        1\n",
              "C2170        1\n",
              "C1900        1\n",
              "C1728        1\n",
              "C1732        1\n",
              "Name: CLASSIFICATION, Length: 71, dtype: int64"
            ]
          },
          "metadata": {},
          "execution_count": 38
        }
      ]
    },
    {
      "cell_type": "code",
      "metadata": {
        "colab": {
          "base_uri": "https://localhost:8080/",
          "height": 283
        },
        "id": "a7PA4VSu1dhf",
        "outputId": "8b64afb3-ab79-4147-e8ba-d4130ee28479"
      },
      "source": [
        "application_clean.CLASSIFICATION.value_counts().plot.density()"
      ],
      "execution_count": 39,
      "outputs": [
        {
          "output_type": "execute_result",
          "data": {
            "text/plain": [
              "<matplotlib.axes._subplots.AxesSubplot at 0x7fa4243a4d10>"
            ]
          },
          "metadata": {},
          "execution_count": 39
        },
        {
          "output_type": "display_data",
          "data": {
            "image/png": "[encoded data removed]",
            "text/plain": [
              "<Figure size 432x288 with 1 Axes>"
            ]
          },
          "metadata": {
            "needs_background": "light"
          }
        }
      ]
    },
    {
      "cell_type": "code",
      "metadata": {
        "colab": {
          "base_uri": "https://localhost:8080/"
        },
        "id": "lVQlH-p9mtBA",
        "outputId": "4f91638b-b841-4fcf-e4ed-05456c8f26c8"
      },
      "source": [
        "# Choose a cutoff value and create a list of classifications to be replaced\n",
        "# use the variable name `classifications_to_replace`\n",
        "classifications_to_replace = list(classification_value[classification_value<500].index)\n",
        "# Replace in dataframe\n",
        "for cls in classifications_to_replace:\n",
        "    application_clean['CLASSIFICATION'] = application_clean['CLASSIFICATION'].replace(cls,\"Other\")\n",
        "    \n",
        "# Check to make sure binning was successful\n",
        "application_clean['CLASSIFICATION'].value_counts()"
      ],
      "execution_count": 40,
      "outputs": [
        {
          "output_type": "execute_result",
          "data": {
            "text/plain": [
              "C1000    17326\n",
              "C2000     6074\n",
              "C1200     4837\n",
              "C3000     1918\n",
              "C2100     1883\n",
              "Other     1484\n",
              "C7000      777\n",
              "Name: CLASSIFICATION, dtype: int64"
            ]
          },
          "metadata": {},
          "execution_count": 40
        }
      ]
    },
    {
      "cell_type": "code",
      "metadata": {
        "id": "TnO30wq6mtBB",
        "colab": {
          "base_uri": "https://localhost:8080/",
          "height": 461
        },
        "outputId": "e4ffd5d1-4d64-417b-972b-cc80e68b6fbe"
      },
      "source": [
        "# Convert categorical data to numeric with `pd.get_dummies`\n",
        "application_clean = pd.get_dummies(application_clean, dtype=float)\n",
        "application_clean"
      ],
      "execution_count": 41,
      "outputs": [
        {
          "output_type": "execute_result",
          "data": {
            "text/html": [
              "<div>\n",
              "<style scoped>\n",
              "    .dataframe tbody tr th:only-of-type {\n",
              "        vertical-align: middle;\n",
              "    }\n",
              "\n",
              "    .dataframe tbody tr th {\n",
              "        vertical-align: top;\n",
              "    }\n",
              "\n",
              "    .dataframe thead th {\n",
              "        text-align: right;\n",
              "    }\n",
              "</style>\n",
              "<table border=\"1\" class=\"dataframe\">\n",
              "  <thead>\n",
              "    <tr style=\"text-align: right;\">\n",
              "      <th></th>\n",
              "      <th>STATUS</th>\n",
              "      <th>ASK_AMT</th>\n",
              "      <th>IS_SUCCESSFUL</th>\n",
              "      <th>APPLICATION_TYPE_Other</th>\n",
              "      <th>APPLICATION_TYPE_T10</th>\n",
              "      <th>APPLICATION_TYPE_T19</th>\n",
              "      <th>APPLICATION_TYPE_T3</th>\n",
              "      <th>APPLICATION_TYPE_T4</th>\n",
              "      <th>APPLICATION_TYPE_T5</th>\n",
              "      <th>APPLICATION_TYPE_T6</th>\n",
              "      <th>APPLICATION_TYPE_T7</th>\n",
              "      <th>APPLICATION_TYPE_T8</th>\n",
              "      <th>AFFILIATION_CompanySponsored</th>\n",
              "      <th>AFFILIATION_Family/Parent</th>\n",
              "      <th>AFFILIATION_Independent</th>\n",
              "      <th>AFFILIATION_National</th>\n",
              "      <th>AFFILIATION_Other</th>\n",
              "      <th>AFFILIATION_Regional</th>\n",
              "      <th>CLASSIFICATION_C1000</th>\n",
              "      <th>CLASSIFICATION_C1200</th>\n",
              "      <th>CLASSIFICATION_C2000</th>\n",
              "      <th>CLASSIFICATION_C2100</th>\n",
              "      <th>CLASSIFICATION_C3000</th>\n",
              "      <th>CLASSIFICATION_C7000</th>\n",
              "      <th>CLASSIFICATION_Other</th>\n",
              "      <th>USE_CASE_CommunityServ</th>\n",
              "      <th>USE_CASE_Heathcare</th>\n",
              "      <th>USE_CASE_Other</th>\n",
              "      <th>USE_CASE_Preservation</th>\n",
              "      <th>USE_CASE_ProductDev</th>\n",
              "      <th>ORGANIZATION_Association</th>\n",
              "      <th>ORGANIZATION_Co-operative</th>\n",
              "      <th>ORGANIZATION_Corporation</th>\n",
              "      <th>ORGANIZATION_Trust</th>\n",
              "      <th>INCOME_AMT_0</th>\n",
              "      <th>INCOME_AMT_1-9999</th>\n",
              "      <th>INCOME_AMT_10000-24999</th>\n",
              "      <th>INCOME_AMT_100000-499999</th>\n",
              "      <th>INCOME_AMT_10M-50M</th>\n",
              "      <th>INCOME_AMT_1M-5M</th>\n",
              "      <th>INCOME_AMT_25000-99999</th>\n",
              "      <th>INCOME_AMT_50M+</th>\n",
              "      <th>INCOME_AMT_5M-10M</th>\n",
              "      <th>SPECIAL_CONSIDERATIONS_N</th>\n",
              "      <th>SPECIAL_CONSIDERATIONS_Y</th>\n",
              "    </tr>\n",
              "  </thead>\n",
              "  <tbody>\n",
              "    <tr>\n",
              "      <th>0</th>\n",
              "      <td>1</td>\n",
              "      <td>5000</td>\n",
              "      <td>1</td>\n",
              "      <td>0.0</td>\n",
              "      <td>1.0</td>\n",
              "      <td>0.0</td>\n",
              "      <td>0.0</td>\n",
              "      <td>0.0</td>\n",
              "      <td>0.0</td>\n",
              "      <td>0.0</td>\n",
              "      <td>0.0</td>\n",
              "      <td>0.0</td>\n",
              "      <td>0.0</td>\n",
              "      <td>0.0</td>\n",
              "      <td>1.0</td>\n",
              "      <td>0.0</td>\n",
              "      <td>0.0</td>\n",
              "      <td>0.0</td>\n",
              "      <td>1.0</td>\n",
              "      <td>0.0</td>\n",
              "      <td>0.0</td>\n",
              "      <td>0.0</td>\n",
              "      <td>0.0</td>\n",
              "      <td>0.0</td>\n",
              "      <td>0.0</td>\n",
              "      <td>0.0</td>\n",
              "      <td>0.0</td>\n",
              "      <td>0.0</td>\n",
              "      <td>0.0</td>\n",
              "      <td>1.0</td>\n",
              "      <td>1.0</td>\n",
              "      <td>0.0</td>\n",
              "      <td>0.0</td>\n",
              "      <td>0.0</td>\n",
              "      <td>1.0</td>\n",
              "      <td>0.0</td>\n",
              "      <td>0.0</td>\n",
              "      <td>0.0</td>\n",
              "      <td>0.0</td>\n",
              "      <td>0.0</td>\n",
              "      <td>0.0</td>\n",
              "      <td>0.0</td>\n",
              "      <td>0.0</td>\n",
              "      <td>1.0</td>\n",
              "      <td>0.0</td>\n",
              "    </tr>\n",
              "    <tr>\n",
              "      <th>1</th>\n",
              "      <td>1</td>\n",
              "      <td>108590</td>\n",
              "      <td>1</td>\n",
              "      <td>0.0</td>\n",
              "      <td>0.0</td>\n",
              "      <td>0.0</td>\n",
              "      <td>1.0</td>\n",
              "      <td>0.0</td>\n",
              "      <td>0.0</td>\n",
              "      <td>0.0</td>\n",
              "      <td>0.0</td>\n",
              "      <td>0.0</td>\n",
              "      <td>0.0</td>\n",
              "      <td>0.0</td>\n",
              "      <td>1.0</td>\n",
              "      <td>0.0</td>\n",
              "      <td>0.0</td>\n",
              "      <td>0.0</td>\n",
              "      <td>0.0</td>\n",
              "      <td>0.0</td>\n",
              "      <td>1.0</td>\n",
              "      <td>0.0</td>\n",
              "      <td>0.0</td>\n",
              "      <td>0.0</td>\n",
              "      <td>0.0</td>\n",
              "      <td>0.0</td>\n",
              "      <td>0.0</td>\n",
              "      <td>0.0</td>\n",
              "      <td>1.0</td>\n",
              "      <td>0.0</td>\n",
              "      <td>0.0</td>\n",
              "      <td>1.0</td>\n",
              "      <td>0.0</td>\n",
              "      <td>0.0</td>\n",
              "      <td>0.0</td>\n",
              "      <td>1.0</td>\n",
              "      <td>0.0</td>\n",
              "      <td>0.0</td>\n",
              "      <td>0.0</td>\n",
              "      <td>0.0</td>\n",
              "      <td>0.0</td>\n",
              "      <td>0.0</td>\n",
              "      <td>0.0</td>\n",
              "      <td>1.0</td>\n",
              "      <td>0.0</td>\n",
              "    </tr>\n",
              "    <tr>\n",
              "      <th>2</th>\n",
              "      <td>1</td>\n",
              "      <td>5000</td>\n",
              "      <td>0</td>\n",
              "      <td>0.0</td>\n",
              "      <td>0.0</td>\n",
              "      <td>0.0</td>\n",
              "      <td>0.0</td>\n",
              "      <td>0.0</td>\n",
              "      <td>1.0</td>\n",
              "      <td>0.0</td>\n",
              "      <td>0.0</td>\n",
              "      <td>0.0</td>\n",
              "      <td>1.0</td>\n",
              "      <td>0.0</td>\n",
              "      <td>0.0</td>\n",
              "      <td>0.0</td>\n",
              "      <td>0.0</td>\n",
              "      <td>0.0</td>\n",
              "      <td>0.0</td>\n",
              "      <td>0.0</td>\n",
              "      <td>0.0</td>\n",
              "      <td>0.0</td>\n",
              "      <td>1.0</td>\n",
              "      <td>0.0</td>\n",
              "      <td>0.0</td>\n",
              "      <td>0.0</td>\n",
              "      <td>0.0</td>\n",
              "      <td>0.0</td>\n",
              "      <td>0.0</td>\n",
              "      <td>1.0</td>\n",
              "      <td>1.0</td>\n",
              "      <td>0.0</td>\n",
              "      <td>0.0</td>\n",
              "      <td>0.0</td>\n",
              "      <td>1.0</td>\n",
              "      <td>0.0</td>\n",
              "      <td>0.0</td>\n",
              "      <td>0.0</td>\n",
              "      <td>0.0</td>\n",
              "      <td>0.0</td>\n",
              "      <td>0.0</td>\n",
              "      <td>0.0</td>\n",
              "      <td>0.0</td>\n",
              "      <td>1.0</td>\n",
              "      <td>0.0</td>\n",
              "    </tr>\n",
              "    <tr>\n",
              "      <th>3</th>\n",
              "      <td>1</td>\n",
              "      <td>6692</td>\n",
              "      <td>1</td>\n",
              "      <td>0.0</td>\n",
              "      <td>0.0</td>\n",
              "      <td>0.0</td>\n",
              "      <td>1.0</td>\n",
              "      <td>0.0</td>\n",
              "      <td>0.0</td>\n",
              "      <td>0.0</td>\n",
              "      <td>0.0</td>\n",
              "      <td>0.0</td>\n",
              "      <td>1.0</td>\n",
              "      <td>0.0</td>\n",
              "      <td>0.0</td>\n",
              "      <td>0.0</td>\n",
              "      <td>0.0</td>\n",
              "      <td>0.0</td>\n",
              "      <td>0.0</td>\n",
              "      <td>0.0</td>\n",
              "      <td>1.0</td>\n",
              "      <td>0.0</td>\n",
              "      <td>0.0</td>\n",
              "      <td>0.0</td>\n",
              "      <td>0.0</td>\n",
              "      <td>0.0</td>\n",
              "      <td>0.0</td>\n",
              "      <td>0.0</td>\n",
              "      <td>1.0</td>\n",
              "      <td>0.0</td>\n",
              "      <td>0.0</td>\n",
              "      <td>0.0</td>\n",
              "      <td>0.0</td>\n",
              "      <td>1.0</td>\n",
              "      <td>0.0</td>\n",
              "      <td>0.0</td>\n",
              "      <td>1.0</td>\n",
              "      <td>0.0</td>\n",
              "      <td>0.0</td>\n",
              "      <td>0.0</td>\n",
              "      <td>0.0</td>\n",
              "      <td>0.0</td>\n",
              "      <td>0.0</td>\n",
              "      <td>1.0</td>\n",
              "      <td>0.0</td>\n",
              "    </tr>\n",
              "    <tr>\n",
              "      <th>4</th>\n",
              "      <td>1</td>\n",
              "      <td>142590</td>\n",
              "      <td>1</td>\n",
              "      <td>0.0</td>\n",
              "      <td>0.0</td>\n",
              "      <td>0.0</td>\n",
              "      <td>1.0</td>\n",
              "      <td>0.0</td>\n",
              "      <td>0.0</td>\n",
              "      <td>0.0</td>\n",
              "      <td>0.0</td>\n",
              "      <td>0.0</td>\n",
              "      <td>0.0</td>\n",
              "      <td>0.0</td>\n",
              "      <td>1.0</td>\n",
              "      <td>0.0</td>\n",
              "      <td>0.0</td>\n",
              "      <td>0.0</td>\n",
              "      <td>1.0</td>\n",
              "      <td>0.0</td>\n",
              "      <td>0.0</td>\n",
              "      <td>0.0</td>\n",
              "      <td>0.0</td>\n",
              "      <td>0.0</td>\n",
              "      <td>0.0</td>\n",
              "      <td>0.0</td>\n",
              "      <td>1.0</td>\n",
              "      <td>0.0</td>\n",
              "      <td>0.0</td>\n",
              "      <td>0.0</td>\n",
              "      <td>0.0</td>\n",
              "      <td>0.0</td>\n",
              "      <td>0.0</td>\n",
              "      <td>1.0</td>\n",
              "      <td>0.0</td>\n",
              "      <td>0.0</td>\n",
              "      <td>0.0</td>\n",
              "      <td>1.0</td>\n",
              "      <td>0.0</td>\n",
              "      <td>0.0</td>\n",
              "      <td>0.0</td>\n",
              "      <td>0.0</td>\n",
              "      <td>0.0</td>\n",
              "      <td>1.0</td>\n",
              "      <td>0.0</td>\n",
              "    </tr>\n",
              "    <tr>\n",
              "      <th>...</th>\n",
              "      <td>...</td>\n",
              "      <td>...</td>\n",
              "      <td>...</td>\n",
              "      <td>...</td>\n",
              "      <td>...</td>\n",
              "      <td>...</td>\n",
              "      <td>...</td>\n",
              "      <td>...</td>\n",
              "      <td>...</td>\n",
              "      <td>...</td>\n",
              "      <td>...</td>\n",
              "      <td>...</td>\n",
              "      <td>...</td>\n",
              "      <td>...</td>\n",
              "      <td>...</td>\n",
              "      <td>...</td>\n",
              "      <td>...</td>\n",
              "      <td>...</td>\n",
              "      <td>...</td>\n",
              "      <td>...</td>\n",
              "      <td>...</td>\n",
              "      <td>...</td>\n",
              "      <td>...</td>\n",
              "      <td>...</td>\n",
              "      <td>...</td>\n",
              "      <td>...</td>\n",
              "      <td>...</td>\n",
              "      <td>...</td>\n",
              "      <td>...</td>\n",
              "      <td>...</td>\n",
              "      <td>...</td>\n",
              "      <td>...</td>\n",
              "      <td>...</td>\n",
              "      <td>...</td>\n",
              "      <td>...</td>\n",
              "      <td>...</td>\n",
              "      <td>...</td>\n",
              "      <td>...</td>\n",
              "      <td>...</td>\n",
              "      <td>...</td>\n",
              "      <td>...</td>\n",
              "      <td>...</td>\n",
              "      <td>...</td>\n",
              "      <td>...</td>\n",
              "      <td>...</td>\n",
              "    </tr>\n",
              "    <tr>\n",
              "      <th>34294</th>\n",
              "      <td>1</td>\n",
              "      <td>5000</td>\n",
              "      <td>0</td>\n",
              "      <td>0.0</td>\n",
              "      <td>0.0</td>\n",
              "      <td>0.0</td>\n",
              "      <td>0.0</td>\n",
              "      <td>1.0</td>\n",
              "      <td>0.0</td>\n",
              "      <td>0.0</td>\n",
              "      <td>0.0</td>\n",
              "      <td>0.0</td>\n",
              "      <td>0.0</td>\n",
              "      <td>0.0</td>\n",
              "      <td>1.0</td>\n",
              "      <td>0.0</td>\n",
              "      <td>0.0</td>\n",
              "      <td>0.0</td>\n",
              "      <td>1.0</td>\n",
              "      <td>0.0</td>\n",
              "      <td>0.0</td>\n",
              "      <td>0.0</td>\n",
              "      <td>0.0</td>\n",
              "      <td>0.0</td>\n",
              "      <td>0.0</td>\n",
              "      <td>0.0</td>\n",
              "      <td>0.0</td>\n",
              "      <td>0.0</td>\n",
              "      <td>0.0</td>\n",
              "      <td>1.0</td>\n",
              "      <td>1.0</td>\n",
              "      <td>0.0</td>\n",
              "      <td>0.0</td>\n",
              "      <td>0.0</td>\n",
              "      <td>1.0</td>\n",
              "      <td>0.0</td>\n",
              "      <td>0.0</td>\n",
              "      <td>0.0</td>\n",
              "      <td>0.0</td>\n",
              "      <td>0.0</td>\n",
              "      <td>0.0</td>\n",
              "      <td>0.0</td>\n",
              "      <td>0.0</td>\n",
              "      <td>1.0</td>\n",
              "      <td>0.0</td>\n",
              "    </tr>\n",
              "    <tr>\n",
              "      <th>34295</th>\n",
              "      <td>1</td>\n",
              "      <td>5000</td>\n",
              "      <td>0</td>\n",
              "      <td>0.0</td>\n",
              "      <td>0.0</td>\n",
              "      <td>0.0</td>\n",
              "      <td>0.0</td>\n",
              "      <td>1.0</td>\n",
              "      <td>0.0</td>\n",
              "      <td>0.0</td>\n",
              "      <td>0.0</td>\n",
              "      <td>0.0</td>\n",
              "      <td>1.0</td>\n",
              "      <td>0.0</td>\n",
              "      <td>0.0</td>\n",
              "      <td>0.0</td>\n",
              "      <td>0.0</td>\n",
              "      <td>0.0</td>\n",
              "      <td>0.0</td>\n",
              "      <td>0.0</td>\n",
              "      <td>0.0</td>\n",
              "      <td>0.0</td>\n",
              "      <td>1.0</td>\n",
              "      <td>0.0</td>\n",
              "      <td>0.0</td>\n",
              "      <td>0.0</td>\n",
              "      <td>0.0</td>\n",
              "      <td>0.0</td>\n",
              "      <td>0.0</td>\n",
              "      <td>1.0</td>\n",
              "      <td>1.0</td>\n",
              "      <td>0.0</td>\n",
              "      <td>0.0</td>\n",
              "      <td>0.0</td>\n",
              "      <td>1.0</td>\n",
              "      <td>0.0</td>\n",
              "      <td>0.0</td>\n",
              "      <td>0.0</td>\n",
              "      <td>0.0</td>\n",
              "      <td>0.0</td>\n",
              "      <td>0.0</td>\n",
              "      <td>0.0</td>\n",
              "      <td>0.0</td>\n",
              "      <td>1.0</td>\n",
              "      <td>0.0</td>\n",
              "    </tr>\n",
              "    <tr>\n",
              "      <th>34296</th>\n",
              "      <td>1</td>\n",
              "      <td>5000</td>\n",
              "      <td>0</td>\n",
              "      <td>0.0</td>\n",
              "      <td>0.0</td>\n",
              "      <td>0.0</td>\n",
              "      <td>1.0</td>\n",
              "      <td>0.0</td>\n",
              "      <td>0.0</td>\n",
              "      <td>0.0</td>\n",
              "      <td>0.0</td>\n",
              "      <td>0.0</td>\n",
              "      <td>1.0</td>\n",
              "      <td>0.0</td>\n",
              "      <td>0.0</td>\n",
              "      <td>0.0</td>\n",
              "      <td>0.0</td>\n",
              "      <td>0.0</td>\n",
              "      <td>0.0</td>\n",
              "      <td>0.0</td>\n",
              "      <td>1.0</td>\n",
              "      <td>0.0</td>\n",
              "      <td>0.0</td>\n",
              "      <td>0.0</td>\n",
              "      <td>0.0</td>\n",
              "      <td>0.0</td>\n",
              "      <td>0.0</td>\n",
              "      <td>0.0</td>\n",
              "      <td>1.0</td>\n",
              "      <td>0.0</td>\n",
              "      <td>1.0</td>\n",
              "      <td>0.0</td>\n",
              "      <td>0.0</td>\n",
              "      <td>0.0</td>\n",
              "      <td>1.0</td>\n",
              "      <td>0.0</td>\n",
              "      <td>0.0</td>\n",
              "      <td>0.0</td>\n",
              "      <td>0.0</td>\n",
              "      <td>0.0</td>\n",
              "      <td>0.0</td>\n",
              "      <td>0.0</td>\n",
              "      <td>0.0</td>\n",
              "      <td>1.0</td>\n",
              "      <td>0.0</td>\n",
              "    </tr>\n",
              "    <tr>\n",
              "      <th>34297</th>\n",
              "      <td>1</td>\n",
              "      <td>5000</td>\n",
              "      <td>1</td>\n",
              "      <td>0.0</td>\n",
              "      <td>0.0</td>\n",
              "      <td>0.0</td>\n",
              "      <td>0.0</td>\n",
              "      <td>0.0</td>\n",
              "      <td>1.0</td>\n",
              "      <td>0.0</td>\n",
              "      <td>0.0</td>\n",
              "      <td>0.0</td>\n",
              "      <td>0.0</td>\n",
              "      <td>0.0</td>\n",
              "      <td>1.0</td>\n",
              "      <td>0.0</td>\n",
              "      <td>0.0</td>\n",
              "      <td>0.0</td>\n",
              "      <td>0.0</td>\n",
              "      <td>0.0</td>\n",
              "      <td>0.0</td>\n",
              "      <td>0.0</td>\n",
              "      <td>1.0</td>\n",
              "      <td>0.0</td>\n",
              "      <td>0.0</td>\n",
              "      <td>0.0</td>\n",
              "      <td>0.0</td>\n",
              "      <td>0.0</td>\n",
              "      <td>0.0</td>\n",
              "      <td>1.0</td>\n",
              "      <td>1.0</td>\n",
              "      <td>0.0</td>\n",
              "      <td>0.0</td>\n",
              "      <td>0.0</td>\n",
              "      <td>1.0</td>\n",
              "      <td>0.0</td>\n",
              "      <td>0.0</td>\n",
              "      <td>0.0</td>\n",
              "      <td>0.0</td>\n",
              "      <td>0.0</td>\n",
              "      <td>0.0</td>\n",
              "      <td>0.0</td>\n",
              "      <td>0.0</td>\n",
              "      <td>1.0</td>\n",
              "      <td>0.0</td>\n",
              "    </tr>\n",
              "    <tr>\n",
              "      <th>34298</th>\n",
              "      <td>1</td>\n",
              "      <td>36500179</td>\n",
              "      <td>0</td>\n",
              "      <td>0.0</td>\n",
              "      <td>0.0</td>\n",
              "      <td>0.0</td>\n",
              "      <td>1.0</td>\n",
              "      <td>0.0</td>\n",
              "      <td>0.0</td>\n",
              "      <td>0.0</td>\n",
              "      <td>0.0</td>\n",
              "      <td>0.0</td>\n",
              "      <td>0.0</td>\n",
              "      <td>0.0</td>\n",
              "      <td>1.0</td>\n",
              "      <td>0.0</td>\n",
              "      <td>0.0</td>\n",
              "      <td>0.0</td>\n",
              "      <td>1.0</td>\n",
              "      <td>0.0</td>\n",
              "      <td>0.0</td>\n",
              "      <td>0.0</td>\n",
              "      <td>0.0</td>\n",
              "      <td>0.0</td>\n",
              "      <td>0.0</td>\n",
              "      <td>0.0</td>\n",
              "      <td>0.0</td>\n",
              "      <td>0.0</td>\n",
              "      <td>1.0</td>\n",
              "      <td>0.0</td>\n",
              "      <td>0.0</td>\n",
              "      <td>1.0</td>\n",
              "      <td>0.0</td>\n",
              "      <td>0.0</td>\n",
              "      <td>0.0</td>\n",
              "      <td>0.0</td>\n",
              "      <td>0.0</td>\n",
              "      <td>0.0</td>\n",
              "      <td>0.0</td>\n",
              "      <td>1.0</td>\n",
              "      <td>0.0</td>\n",
              "      <td>0.0</td>\n",
              "      <td>0.0</td>\n",
              "      <td>1.0</td>\n",
              "      <td>0.0</td>\n",
              "    </tr>\n",
              "  </tbody>\n",
              "</table>\n",
              "<p>34299 rows × 45 columns</p>\n",
              "</div>"
            ],
            "text/plain": [
              "       STATUS   ASK_AMT  ...  SPECIAL_CONSIDERATIONS_N  SPECIAL_CONSIDERATIONS_Y\n",
              "0           1      5000  ...                       1.0                       0.0\n",
              "1           1    108590  ...                       1.0                       0.0\n",
              "2           1      5000  ...                       1.0                       0.0\n",
              "3           1      6692  ...                       1.0                       0.0\n",
              "4           1    142590  ...                       1.0                       0.0\n",
              "...       ...       ...  ...                       ...                       ...\n",
              "34294       1      5000  ...                       1.0                       0.0\n",
              "34295       1      5000  ...                       1.0                       0.0\n",
              "34296       1      5000  ...                       1.0                       0.0\n",
              "34297       1      5000  ...                       1.0                       0.0\n",
              "34298       1  36500179  ...                       1.0                       0.0\n",
              "\n",
              "[34299 rows x 45 columns]"
            ]
          },
          "metadata": {},
          "execution_count": 41
        }
      ]
    },
    {
      "cell_type": "code",
      "metadata": {
        "colab": {
          "base_uri": "https://localhost:8080/"
        },
        "id": "OW9BjjEizcob",
        "outputId": "1f3f5076-7712-4de3-9f92-7e7f0797bb83"
      },
      "source": [
        "application_clean.dtypes"
      ],
      "execution_count": 42,
      "outputs": [
        {
          "output_type": "execute_result",
          "data": {
            "text/plain": [
              "STATUS                            int64\n",
              "ASK_AMT                           int64\n",
              "IS_SUCCESSFUL                     int64\n",
              "APPLICATION_TYPE_Other          float64\n",
              "APPLICATION_TYPE_T10            float64\n",
              "APPLICATION_TYPE_T19            float64\n",
              "APPLICATION_TYPE_T3             float64\n",
              "APPLICATION_TYPE_T4             float64\n",
              "APPLICATION_TYPE_T5             float64\n",
              "APPLICATION_TYPE_T6             float64\n",
              "APPLICATION_TYPE_T7             float64\n",
              "APPLICATION_TYPE_T8             float64\n",
              "AFFILIATION_CompanySponsored    float64\n",
              "AFFILIATION_Family/Parent       float64\n",
              "AFFILIATION_Independent         float64\n",
              "AFFILIATION_National            float64\n",
              "AFFILIATION_Other               float64\n",
              "AFFILIATION_Regional            float64\n",
              "CLASSIFICATION_C1000            float64\n",
              "CLASSIFICATION_C1200            float64\n",
              "CLASSIFICATION_C2000            float64\n",
              "CLASSIFICATION_C2100            float64\n",
              "CLASSIFICATION_C3000            float64\n",
              "CLASSIFICATION_C7000            float64\n",
              "CLASSIFICATION_Other            float64\n",
              "USE_CASE_CommunityServ          float64\n",
              "USE_CASE_Heathcare              float64\n",
              "USE_CASE_Other                  float64\n",
              "USE_CASE_Preservation           float64\n",
              "USE_CASE_ProductDev             float64\n",
              "ORGANIZATION_Association        float64\n",
              "ORGANIZATION_Co-operative       float64\n",
              "ORGANIZATION_Corporation        float64\n",
              "ORGANIZATION_Trust              float64\n",
              "INCOME_AMT_0                    float64\n",
              "INCOME_AMT_1-9999               float64\n",
              "INCOME_AMT_10000-24999          float64\n",
              "INCOME_AMT_100000-499999        float64\n",
              "INCOME_AMT_10M-50M              float64\n",
              "INCOME_AMT_1M-5M                float64\n",
              "INCOME_AMT_25000-99999          float64\n",
              "INCOME_AMT_50M+                 float64\n",
              "INCOME_AMT_5M-10M               float64\n",
              "SPECIAL_CONSIDERATIONS_N        float64\n",
              "SPECIAL_CONSIDERATIONS_Y        float64\n",
              "dtype: object"
            ]
          },
          "metadata": {},
          "execution_count": 42
        }
      ]
    },
    {
      "cell_type": "code",
      "metadata": {
        "id": "woDK1bMwmtBC"
      },
      "source": [
        "# Split our preprocessed data into our features and target arrays\n",
        "y = application_clean.IS_SUCCESSFUL.values\n",
        "X = application_clean.drop('IS_SUCCESSFUL', axis=1).values\n",
        "\n",
        "# Split the preprocessed data into a training and testing dataset\n",
        "X_train, X_test, y_train, y_test = train_test_split(X,y,random_state= 42)"
      ],
      "execution_count": 43,
      "outputs": []
    },
    {
      "cell_type": "code",
      "metadata": {
        "id": "I_poFaeRmtBC"
      },
      "source": [
        "# Create a StandardScaler instances\n",
        "scaler = StandardScaler()\n",
        "\n",
        "# Fit the StandardScaler\n",
        "X_scaler = scaler.fit(X_train)\n",
        "\n",
        "# Scale the data\n",
        "X_train_scaled = X_scaler.transform(X_train)\n",
        "X_test_scaled = X_scaler.transform(X_test)"
      ],
      "execution_count": 44,
      "outputs": []
    },
    {
      "cell_type": "code",
      "metadata": {
        "colab": {
          "base_uri": "https://localhost:8080/"
        },
        "id": "B56A3t768VxD",
        "outputId": "00c47632-0980-4b41-e1bc-436879516c7c"
      },
      "source": [
        "X_train.shape"
      ],
      "execution_count": 45,
      "outputs": [
        {
          "output_type": "execute_result",
          "data": {
            "text/plain": [
              "(25724, 44)"
            ]
          },
          "metadata": {},
          "execution_count": 45
        }
      ]
    },
    {
      "cell_type": "markdown",
      "metadata": {
        "id": "I0QoeD9FmtBD"
      },
      "source": [
        "## Compile, Train and Evaluate the Model"
      ]
    },
    {
      "cell_type": "markdown",
      "metadata": {
        "id": "gaWODXbqH2LB"
      },
      "source": [
        "# Model 1\n"
      ]
    },
    {
      "cell_type": "code",
      "metadata": {
        "id": "4NOEI_uYmtBD",
        "colab": {
          "base_uri": "https://localhost:8080/"
        },
        "outputId": "c298ddf2-5690-48db-f80e-bd320fd06154"
      },
      "source": [
        "# Define the model - deep neural net, i.e., the number of input features and hidden nodes for each layer.\n",
        "number_input_features = len( X_train_scaled[0])\n",
        "hidden_nodes_layer1= 20\n",
        "hidden_nodes_layer2= 40\n",
        "hidden_nodes_layer3= 60\n",
        "\n",
        "nn = tf.keras.models.Sequential()\n",
        "\n",
        "# First hidden layer\n",
        "nn.add(tf.keras.layers.Dense(units=hidden_nodes_layer1, input_dim=number_input_features, activation='relu'))\n",
        "\n",
        "# Second hidden layer\n",
        "nn.add(tf.keras.layers.Dense(units=hidden_nodes_layer2, activation='relu'))\n",
        "\n",
        "# Third hidden layer\n",
        "nn.add(tf.keras.layers.Dense(units=hidden_nodes_layer3, activation='relu'))\n",
        "\n",
        "# Output layer\n",
        "nn.add(tf.keras.layers.Dense(units=1, activation='sigmoid'))\n",
        "\n",
        "# Check the structure of the model\n",
        "nn.summary()"
      ],
      "execution_count": 48,
      "outputs": [
        {
          "output_type": "stream",
          "name": "stdout",
          "text": [
            "Model: \"sequential_2\"\n",
            "_________________________________________________________________\n",
            "Layer (type)                 Output Shape              Param #   \n",
            "=================================================================\n",
            "dense (Dense)                (None, 20)                900       \n",
            "_________________________________________________________________\n",
            "dense_1 (Dense)              (None, 40)                840       \n",
            "_________________________________________________________________\n",
            "dense_2 (Dense)              (None, 60)                2460      \n",
            "_________________________________________________________________\n",
            "dense_3 (Dense)              (None, 1)                 61        \n",
            "=================================================================\n",
            "Total params: 4,261\n",
            "Trainable params: 4,261\n",
            "Non-trainable params: 0\n",
            "_________________________________________________________________\n"
          ]
        }
      ]
    },
    {
      "cell_type": "code",
      "metadata": {
        "id": "Zn6zRs5xmtBE"
      },
      "source": [
        "# Compile the model\n",
        "nn.compile(loss = 'binary_crossentropy', optimizer = 'adam', metrics=['accuracy', tf.keras.metrics.Recall()])"
      ],
      "execution_count": 50,
      "outputs": []
    },
    {
      "cell_type": "code",
      "metadata": {
        "id": "iK60_Mp_mtBF",
        "colab": {
          "base_uri": "https://localhost:8080/"
        },
        "outputId": "91bc2024-d170-45fa-e24d-56690485fef7"
      },
      "source": [
        "# Train the model\n",
        "fit_model = nn.fit(X_train_scaled,y_train,validation_split=0.15, epochs=100)"
      ],
      "execution_count": 51,
      "outputs": [
        {
          "output_type": "stream",
          "name": "stdout",
          "text": [
            "Epoch 1/100\n",
            "684/684 [==============================] - 3s 3ms/step - loss: 0.5834 - accuracy: 0.7040 - recall: 0.7680 - val_loss: 0.5472 - val_accuracy: 0.7359 - val_recall: 0.7845\n",
            "Epoch 2/100\n",
            "684/684 [==============================] - 2s 2ms/step - loss: 0.5574 - accuracy: 0.7262 - recall: 0.7891 - val_loss: 0.5511 - val_accuracy: 0.7380 - val_recall: 0.7576\n",
            "Epoch 3/100\n",
            "684/684 [==============================] - 2s 2ms/step - loss: 0.5539 - accuracy: 0.7290 - recall: 0.7901 - val_loss: 0.5457 - val_accuracy: 0.7326 - val_recall: 0.7969\n",
            "Epoch 4/100\n",
            "684/684 [==============================] - 2s 2ms/step - loss: 0.5516 - accuracy: 0.7290 - recall: 0.7913 - val_loss: 0.5457 - val_accuracy: 0.7349 - val_recall: 0.7641\n",
            "Epoch 5/100\n",
            "684/684 [==============================] - 2s 2ms/step - loss: 0.5498 - accuracy: 0.7298 - recall: 0.7936 - val_loss: 0.5472 - val_accuracy: 0.7349 - val_recall: 0.7835\n",
            "Epoch 6/100\n",
            "684/684 [==============================] - 2s 2ms/step - loss: 0.5495 - accuracy: 0.7302 - recall: 0.7911 - val_loss: 0.5467 - val_accuracy: 0.7370 - val_recall: 0.7561\n",
            "Epoch 7/100\n",
            "684/684 [==============================] - 2s 2ms/step - loss: 0.5482 - accuracy: 0.7311 - recall: 0.7951 - val_loss: 0.5453 - val_accuracy: 0.7365 - val_recall: 0.7641\n",
            "Epoch 8/100\n",
            "684/684 [==============================] - 2s 2ms/step - loss: 0.5476 - accuracy: 0.7316 - recall: 0.7954 - val_loss: 0.5444 - val_accuracy: 0.7315 - val_recall: 0.7984\n",
            "Epoch 9/100\n",
            "684/684 [==============================] - 2s 2ms/step - loss: 0.5464 - accuracy: 0.7312 - recall: 0.7915 - val_loss: 0.5463 - val_accuracy: 0.7344 - val_recall: 0.7735\n",
            "Epoch 10/100\n",
            "684/684 [==============================] - 2s 2ms/step - loss: 0.5458 - accuracy: 0.7331 - recall: 0.7961 - val_loss: 0.5443 - val_accuracy: 0.7302 - val_recall: 0.8029\n",
            "Epoch 11/100\n",
            "684/684 [==============================] - 2s 2ms/step - loss: 0.5460 - accuracy: 0.7325 - recall: 0.7924 - val_loss: 0.5433 - val_accuracy: 0.7352 - val_recall: 0.7715\n",
            "Epoch 12/100\n",
            "684/684 [==============================] - 2s 2ms/step - loss: 0.5460 - accuracy: 0.7320 - recall: 0.7907 - val_loss: 0.5442 - val_accuracy: 0.7344 - val_recall: 0.7929\n",
            "Epoch 13/100\n",
            "684/684 [==============================] - 2s 2ms/step - loss: 0.5450 - accuracy: 0.7331 - recall: 0.7964 - val_loss: 0.5430 - val_accuracy: 0.7346 - val_recall: 0.7885\n",
            "Epoch 14/100\n",
            "684/684 [==============================] - 2s 2ms/step - loss: 0.5444 - accuracy: 0.7328 - recall: 0.7984 - val_loss: 0.5445 - val_accuracy: 0.7318 - val_recall: 0.7646\n",
            "Epoch 15/100\n",
            "684/684 [==============================] - 2s 2ms/step - loss: 0.5442 - accuracy: 0.7343 - recall: 0.8054 - val_loss: 0.5456 - val_accuracy: 0.7308 - val_recall: 0.7616\n",
            "Epoch 16/100\n",
            "684/684 [==============================] - 2s 2ms/step - loss: 0.5440 - accuracy: 0.7343 - recall: 0.7952 - val_loss: 0.5433 - val_accuracy: 0.7336 - val_recall: 0.7576\n",
            "Epoch 17/100\n",
            "684/684 [==============================] - 2s 2ms/step - loss: 0.5439 - accuracy: 0.7339 - recall: 0.7863 - val_loss: 0.5465 - val_accuracy: 0.7349 - val_recall: 0.7820\n",
            "Epoch 18/100\n",
            "684/684 [==============================] - 2s 2ms/step - loss: 0.5439 - accuracy: 0.7330 - recall: 0.7947 - val_loss: 0.5462 - val_accuracy: 0.7341 - val_recall: 0.7800\n",
            "Epoch 19/100\n",
            "684/684 [==============================] - 2s 2ms/step - loss: 0.5432 - accuracy: 0.7352 - recall: 0.7929 - val_loss: 0.5436 - val_accuracy: 0.7326 - val_recall: 0.7730\n",
            "Epoch 20/100\n",
            "684/684 [==============================] - 2s 2ms/step - loss: 0.5430 - accuracy: 0.7331 - recall: 0.7917 - val_loss: 0.5482 - val_accuracy: 0.7341 - val_recall: 0.7670\n",
            "Epoch 21/100\n",
            "684/684 [==============================] - 2s 2ms/step - loss: 0.5426 - accuracy: 0.7351 - recall: 0.7973 - val_loss: 0.5460 - val_accuracy: 0.7341 - val_recall: 0.7775\n",
            "Epoch 22/100\n",
            "684/684 [==============================] - 2s 2ms/step - loss: 0.5430 - accuracy: 0.7335 - recall: 0.7910 - val_loss: 0.5452 - val_accuracy: 0.7339 - val_recall: 0.7695\n",
            "Epoch 23/100\n",
            "684/684 [==============================] - 2s 3ms/step - loss: 0.5423 - accuracy: 0.7352 - recall: 0.7937 - val_loss: 0.5445 - val_accuracy: 0.7344 - val_recall: 0.7730\n",
            "Epoch 24/100\n",
            "684/684 [==============================] - 2s 3ms/step - loss: 0.5421 - accuracy: 0.7348 - recall: 0.7950 - val_loss: 0.5447 - val_accuracy: 0.7323 - val_recall: 0.7631\n",
            "Epoch 25/100\n",
            "684/684 [==============================] - 2s 3ms/step - loss: 0.5416 - accuracy: 0.7359 - recall: 0.7924 - val_loss: 0.5432 - val_accuracy: 0.7349 - val_recall: 0.7621\n",
            "Epoch 26/100\n",
            "684/684 [==============================] - 2s 3ms/step - loss: 0.5416 - accuracy: 0.7343 - recall: 0.7911 - val_loss: 0.5466 - val_accuracy: 0.7321 - val_recall: 0.7402\n",
            "Epoch 27/100\n",
            "684/684 [==============================] - 2s 3ms/step - loss: 0.5422 - accuracy: 0.7350 - recall: 0.7907 - val_loss: 0.5445 - val_accuracy: 0.7331 - val_recall: 0.7601\n",
            "Epoch 28/100\n",
            "684/684 [==============================] - 2s 2ms/step - loss: 0.5410 - accuracy: 0.7360 - recall: 0.7937 - val_loss: 0.5436 - val_accuracy: 0.7344 - val_recall: 0.7661\n",
            "Epoch 29/100\n",
            "684/684 [==============================] - 2s 3ms/step - loss: 0.5409 - accuracy: 0.7354 - recall: 0.7948 - val_loss: 0.5463 - val_accuracy: 0.7287 - val_recall: 0.7865\n",
            "Epoch 30/100\n",
            "684/684 [==============================] - 2s 3ms/step - loss: 0.5406 - accuracy: 0.7358 - recall: 0.7887 - val_loss: 0.5443 - val_accuracy: 0.7339 - val_recall: 0.7735\n",
            "Epoch 31/100\n",
            "684/684 [==============================] - 2s 3ms/step - loss: 0.5407 - accuracy: 0.7368 - recall: 0.7961 - val_loss: 0.5467 - val_accuracy: 0.7334 - val_recall: 0.7651\n",
            "Epoch 32/100\n",
            "684/684 [==============================] - 2s 3ms/step - loss: 0.5402 - accuracy: 0.7364 - recall: 0.7926 - val_loss: 0.5430 - val_accuracy: 0.7362 - val_recall: 0.7581\n",
            "Epoch 33/100\n",
            "684/684 [==============================] - 2s 2ms/step - loss: 0.5404 - accuracy: 0.7362 - recall: 0.7914 - val_loss: 0.5439 - val_accuracy: 0.7339 - val_recall: 0.7641\n",
            "Epoch 34/100\n",
            "684/684 [==============================] - 2s 2ms/step - loss: 0.5402 - accuracy: 0.7363 - recall: 0.7945 - val_loss: 0.5451 - val_accuracy: 0.7339 - val_recall: 0.7596\n",
            "Epoch 35/100\n",
            "684/684 [==============================] - 2s 2ms/step - loss: 0.5399 - accuracy: 0.7362 - recall: 0.7928 - val_loss: 0.5466 - val_accuracy: 0.7331 - val_recall: 0.7680\n",
            "Epoch 36/100\n",
            "684/684 [==============================] - 2s 2ms/step - loss: 0.5400 - accuracy: 0.7359 - recall: 0.7910 - val_loss: 0.5449 - val_accuracy: 0.7349 - val_recall: 0.7680\n",
            "Epoch 37/100\n",
            "684/684 [==============================] - 2s 2ms/step - loss: 0.5398 - accuracy: 0.7366 - recall: 0.7942 - val_loss: 0.5461 - val_accuracy: 0.7331 - val_recall: 0.7651\n",
            "Epoch 38/100\n",
            "684/684 [==============================] - 2s 2ms/step - loss: 0.5397 - accuracy: 0.7370 - recall: 0.7936 - val_loss: 0.5432 - val_accuracy: 0.7344 - val_recall: 0.7476\n",
            "Epoch 39/100\n",
            "684/684 [==============================] - 2s 2ms/step - loss: 0.5396 - accuracy: 0.7375 - recall: 0.7990 - val_loss: 0.5438 - val_accuracy: 0.7359 - val_recall: 0.7765\n",
            "Epoch 40/100\n",
            "684/684 [==============================] - 2s 2ms/step - loss: 0.5390 - accuracy: 0.7371 - recall: 0.7978 - val_loss: 0.5427 - val_accuracy: 0.7362 - val_recall: 0.7765\n",
            "Epoch 41/100\n",
            "684/684 [==============================] - 2s 2ms/step - loss: 0.5396 - accuracy: 0.7367 - recall: 0.7950 - val_loss: 0.5438 - val_accuracy: 0.7344 - val_recall: 0.7606\n",
            "Epoch 42/100\n",
            "684/684 [==============================] - 2s 2ms/step - loss: 0.5393 - accuracy: 0.7382 - recall: 0.7961 - val_loss: 0.5445 - val_accuracy: 0.7328 - val_recall: 0.7631\n",
            "Epoch 43/100\n",
            "684/684 [==============================] - 2s 2ms/step - loss: 0.5393 - accuracy: 0.7368 - recall: 0.7931 - val_loss: 0.5433 - val_accuracy: 0.7328 - val_recall: 0.7651\n",
            "Epoch 44/100\n",
            "684/684 [==============================] - 2s 2ms/step - loss: 0.5391 - accuracy: 0.7378 - recall: 0.7937 - val_loss: 0.5463 - val_accuracy: 0.7331 - val_recall: 0.7631\n",
            "Epoch 45/100\n",
            "684/684 [==============================] - 2s 2ms/step - loss: 0.5389 - accuracy: 0.7373 - recall: 0.7942 - val_loss: 0.5447 - val_accuracy: 0.7328 - val_recall: 0.7536\n",
            "Epoch 46/100\n",
            "684/684 [==============================] - 2s 2ms/step - loss: 0.5389 - accuracy: 0.7381 - recall: 0.7992 - val_loss: 0.5445 - val_accuracy: 0.7336 - val_recall: 0.7651\n",
            "Epoch 47/100\n",
            "684/684 [==============================] - 2s 2ms/step - loss: 0.5385 - accuracy: 0.7374 - recall: 0.7948 - val_loss: 0.5447 - val_accuracy: 0.7344 - val_recall: 0.7591\n",
            "Epoch 48/100\n",
            "684/684 [==============================] - 2s 2ms/step - loss: 0.5382 - accuracy: 0.7373 - recall: 0.7942 - val_loss: 0.5467 - val_accuracy: 0.7339 - val_recall: 0.7526\n",
            "Epoch 49/100\n",
            "684/684 [==============================] - 2s 2ms/step - loss: 0.5385 - accuracy: 0.7377 - recall: 0.7967 - val_loss: 0.5441 - val_accuracy: 0.7331 - val_recall: 0.7670\n",
            "Epoch 50/100\n",
            "684/684 [==============================] - 2s 2ms/step - loss: 0.5382 - accuracy: 0.7373 - recall: 0.7963 - val_loss: 0.5449 - val_accuracy: 0.7323 - val_recall: 0.7601\n",
            "Epoch 51/100\n",
            "684/684 [==============================] - 2s 3ms/step - loss: 0.5377 - accuracy: 0.7383 - recall: 0.7979 - val_loss: 0.5458 - val_accuracy: 0.7336 - val_recall: 0.7636\n",
            "Epoch 52/100\n",
            "684/684 [==============================] - 2s 2ms/step - loss: 0.5380 - accuracy: 0.7385 - recall: 0.7966 - val_loss: 0.5450 - val_accuracy: 0.7357 - val_recall: 0.7680\n",
            "Epoch 53/100\n",
            "684/684 [==============================] - 2s 2ms/step - loss: 0.5379 - accuracy: 0.7383 - recall: 0.7955 - val_loss: 0.5460 - val_accuracy: 0.7354 - val_recall: 0.7685\n",
            "Epoch 54/100\n",
            "684/684 [==============================] - 2s 2ms/step - loss: 0.5379 - accuracy: 0.7383 - recall: 0.7963 - val_loss: 0.5438 - val_accuracy: 0.7341 - val_recall: 0.7695\n",
            "Epoch 55/100\n",
            "684/684 [==============================] - 1s 2ms/step - loss: 0.5376 - accuracy: 0.7388 - recall: 0.7986 - val_loss: 0.5442 - val_accuracy: 0.7357 - val_recall: 0.7770\n",
            "Epoch 56/100\n",
            "684/684 [==============================] - 2s 2ms/step - loss: 0.5377 - accuracy: 0.7382 - recall: 0.7972 - val_loss: 0.5427 - val_accuracy: 0.7367 - val_recall: 0.7760\n",
            "Epoch 57/100\n",
            "684/684 [==============================] - 2s 2ms/step - loss: 0.5373 - accuracy: 0.7383 - recall: 0.8032 - val_loss: 0.5442 - val_accuracy: 0.7344 - val_recall: 0.7656\n",
            "Epoch 58/100\n",
            "684/684 [==============================] - 2s 2ms/step - loss: 0.5373 - accuracy: 0.7368 - recall: 0.7929 - val_loss: 0.5450 - val_accuracy: 0.7352 - val_recall: 0.7715\n",
            "Epoch 59/100\n",
            "684/684 [==============================] - 2s 2ms/step - loss: 0.5374 - accuracy: 0.7386 - recall: 0.7988 - val_loss: 0.5427 - val_accuracy: 0.7378 - val_recall: 0.7855\n",
            "Epoch 60/100\n",
            "684/684 [==============================] - 2s 2ms/step - loss: 0.5372 - accuracy: 0.7394 - recall: 0.7972 - val_loss: 0.5444 - val_accuracy: 0.7346 - val_recall: 0.7785\n",
            "Epoch 61/100\n",
            "684/684 [==============================] - 2s 3ms/step - loss: 0.5371 - accuracy: 0.7378 - recall: 0.7955 - val_loss: 0.5456 - val_accuracy: 0.7341 - val_recall: 0.7715\n",
            "Epoch 62/100\n",
            "684/684 [==============================] - 2s 2ms/step - loss: 0.5367 - accuracy: 0.7389 - recall: 0.7998 - val_loss: 0.5471 - val_accuracy: 0.7339 - val_recall: 0.7576\n",
            "Epoch 63/100\n",
            "684/684 [==============================] - 2s 2ms/step - loss: 0.5372 - accuracy: 0.7389 - recall: 0.7968 - val_loss: 0.5447 - val_accuracy: 0.7357 - val_recall: 0.7720\n",
            "Epoch 64/100\n",
            "684/684 [==============================] - 2s 2ms/step - loss: 0.5373 - accuracy: 0.7388 - recall: 0.7961 - val_loss: 0.5459 - val_accuracy: 0.7334 - val_recall: 0.7685\n",
            "Epoch 65/100\n",
            "684/684 [==============================] - 2s 3ms/step - loss: 0.5366 - accuracy: 0.7384 - recall: 0.7943 - val_loss: 0.5487 - val_accuracy: 0.7336 - val_recall: 0.7651\n",
            "Epoch 66/100\n",
            "684/684 [==============================] - 2s 3ms/step - loss: 0.5366 - accuracy: 0.7392 - recall: 0.7955 - val_loss: 0.5459 - val_accuracy: 0.7365 - val_recall: 0.7695\n",
            "Epoch 67/100\n",
            "684/684 [==============================] - 2s 3ms/step - loss: 0.5365 - accuracy: 0.7370 - recall: 0.7997 - val_loss: 0.5456 - val_accuracy: 0.7352 - val_recall: 0.7561\n",
            "Epoch 68/100\n",
            "684/684 [==============================] - 2s 3ms/step - loss: 0.5364 - accuracy: 0.7392 - recall: 0.7970 - val_loss: 0.5470 - val_accuracy: 0.7344 - val_recall: 0.7680\n",
            "Epoch 69/100\n",
            "684/684 [==============================] - 2s 3ms/step - loss: 0.5364 - accuracy: 0.7383 - recall: 0.7961 - val_loss: 0.5442 - val_accuracy: 0.7344 - val_recall: 0.7666\n",
            "Epoch 70/100\n",
            "684/684 [==============================] - 2s 3ms/step - loss: 0.5365 - accuracy: 0.7390 - recall: 0.7983 - val_loss: 0.5438 - val_accuracy: 0.7352 - val_recall: 0.7626\n",
            "Epoch 71/100\n",
            "684/684 [==============================] - 2s 3ms/step - loss: 0.5365 - accuracy: 0.7395 - recall: 0.7976 - val_loss: 0.5478 - val_accuracy: 0.7344 - val_recall: 0.7661\n",
            "Epoch 72/100\n",
            "684/684 [==============================] - 2s 2ms/step - loss: 0.5365 - accuracy: 0.7393 - recall: 0.8032 - val_loss: 0.5449 - val_accuracy: 0.7328 - val_recall: 0.7606\n",
            "Epoch 73/100\n",
            "684/684 [==============================] - 2s 2ms/step - loss: 0.5365 - accuracy: 0.7383 - recall: 0.7954 - val_loss: 0.5449 - val_accuracy: 0.7341 - val_recall: 0.7651\n",
            "Epoch 74/100\n",
            "684/684 [==============================] - 2s 2ms/step - loss: 0.5362 - accuracy: 0.7389 - recall: 0.7962 - val_loss: 0.5472 - val_accuracy: 0.7334 - val_recall: 0.7621\n",
            "Epoch 75/100\n",
            "684/684 [==============================] - 2s 2ms/step - loss: 0.5365 - accuracy: 0.7389 - recall: 0.7979 - val_loss: 0.5452 - val_accuracy: 0.7349 - val_recall: 0.7715\n",
            "Epoch 76/100\n",
            "684/684 [==============================] - 2s 3ms/step - loss: 0.5362 - accuracy: 0.7396 - recall: 0.7950 - val_loss: 0.5443 - val_accuracy: 0.7336 - val_recall: 0.7680\n",
            "Epoch 77/100\n",
            "684/684 [==============================] - 2s 2ms/step - loss: 0.5360 - accuracy: 0.7385 - recall: 0.7974 - val_loss: 0.5480 - val_accuracy: 0.7323 - val_recall: 0.7601\n",
            "Epoch 78/100\n",
            "684/684 [==============================] - 2s 2ms/step - loss: 0.5358 - accuracy: 0.7390 - recall: 0.8064 - val_loss: 0.5450 - val_accuracy: 0.7326 - val_recall: 0.7626\n",
            "Epoch 79/100\n",
            "684/684 [==============================] - 2s 2ms/step - loss: 0.5363 - accuracy: 0.7398 - recall: 0.7949 - val_loss: 0.5469 - val_accuracy: 0.7339 - val_recall: 0.7805\n",
            "Epoch 80/100\n",
            "684/684 [==============================] - 2s 2ms/step - loss: 0.5358 - accuracy: 0.7389 - recall: 0.7979 - val_loss: 0.5453 - val_accuracy: 0.7326 - val_recall: 0.7611\n",
            "Epoch 81/100\n",
            "684/684 [==============================] - 2s 2ms/step - loss: 0.5356 - accuracy: 0.7389 - recall: 0.7965 - val_loss: 0.5476 - val_accuracy: 0.7318 - val_recall: 0.7611\n",
            "Epoch 82/100\n",
            "684/684 [==============================] - 2s 2ms/step - loss: 0.5356 - accuracy: 0.7402 - recall: 0.7986 - val_loss: 0.5445 - val_accuracy: 0.7362 - val_recall: 0.7775\n",
            "Epoch 83/100\n",
            "684/684 [==============================] - 2s 2ms/step - loss: 0.5359 - accuracy: 0.7389 - recall: 0.7985 - val_loss: 0.5444 - val_accuracy: 0.7334 - val_recall: 0.7641\n",
            "Epoch 84/100\n",
            "684/684 [==============================] - 2s 2ms/step - loss: 0.5354 - accuracy: 0.7398 - recall: 0.8017 - val_loss: 0.5437 - val_accuracy: 0.7352 - val_recall: 0.7715\n",
            "Epoch 85/100\n",
            "684/684 [==============================] - 2s 3ms/step - loss: 0.5354 - accuracy: 0.7386 - recall: 0.8000 - val_loss: 0.5497 - val_accuracy: 0.7297 - val_recall: 0.7904\n",
            "Epoch 86/100\n",
            "684/684 [==============================] - 2s 2ms/step - loss: 0.5355 - accuracy: 0.7390 - recall: 0.7959 - val_loss: 0.5443 - val_accuracy: 0.7328 - val_recall: 0.7626\n",
            "Epoch 87/100\n",
            "684/684 [==============================] - 2s 2ms/step - loss: 0.5355 - accuracy: 0.7394 - recall: 0.7996 - val_loss: 0.5475 - val_accuracy: 0.7339 - val_recall: 0.7651\n",
            "Epoch 88/100\n",
            "684/684 [==============================] - 2s 2ms/step - loss: 0.5351 - accuracy: 0.7391 - recall: 0.7963 - val_loss: 0.5467 - val_accuracy: 0.7334 - val_recall: 0.7636\n",
            "Epoch 89/100\n",
            "684/684 [==============================] - 2s 2ms/step - loss: 0.5354 - accuracy: 0.7393 - recall: 0.7970 - val_loss: 0.5493 - val_accuracy: 0.7323 - val_recall: 0.7964\n",
            "Epoch 90/100\n",
            "684/684 [==============================] - 2s 2ms/step - loss: 0.5350 - accuracy: 0.7396 - recall: 0.7995 - val_loss: 0.5491 - val_accuracy: 0.7354 - val_recall: 0.7661\n",
            "Epoch 91/100\n",
            "684/684 [==============================] - 2s 2ms/step - loss: 0.5351 - accuracy: 0.7402 - recall: 0.7991 - val_loss: 0.5456 - val_accuracy: 0.7341 - val_recall: 0.7760\n",
            "Epoch 92/100\n",
            "684/684 [==============================] - 2s 2ms/step - loss: 0.5350 - accuracy: 0.7393 - recall: 0.7944 - val_loss: 0.5467 - val_accuracy: 0.7341 - val_recall: 0.7685\n",
            "Epoch 93/100\n",
            "684/684 [==============================] - 2s 2ms/step - loss: 0.5348 - accuracy: 0.7399 - recall: 0.7976 - val_loss: 0.5478 - val_accuracy: 0.7331 - val_recall: 0.7616\n",
            "Epoch 94/100\n",
            "684/684 [==============================] - 2s 2ms/step - loss: 0.5353 - accuracy: 0.7387 - recall: 0.7975 - val_loss: 0.5480 - val_accuracy: 0.7331 - val_recall: 0.7586\n",
            "Epoch 95/100\n",
            "684/684 [==============================] - 2s 3ms/step - loss: 0.5349 - accuracy: 0.7387 - recall: 0.7946 - val_loss: 0.5459 - val_accuracy: 0.7341 - val_recall: 0.7680\n",
            "Epoch 96/100\n",
            "684/684 [==============================] - 2s 3ms/step - loss: 0.5349 - accuracy: 0.7395 - recall: 0.7973 - val_loss: 0.5458 - val_accuracy: 0.7321 - val_recall: 0.7641\n",
            "Epoch 97/100\n",
            "684/684 [==============================] - 2s 3ms/step - loss: 0.5346 - accuracy: 0.7394 - recall: 0.7956 - val_loss: 0.5468 - val_accuracy: 0.7331 - val_recall: 0.7666\n",
            "Epoch 98/100\n",
            "684/684 [==============================] - 2s 2ms/step - loss: 0.5345 - accuracy: 0.7394 - recall: 0.7975 - val_loss: 0.5458 - val_accuracy: 0.7341 - val_recall: 0.7636\n",
            "Epoch 99/100\n",
            "684/684 [==============================] - 2s 3ms/step - loss: 0.5344 - accuracy: 0.7399 - recall: 0.7961 - val_loss: 0.5469 - val_accuracy: 0.7365 - val_recall: 0.7765\n",
            "Epoch 100/100\n",
            "684/684 [==============================] - 2s 2ms/step - loss: 0.5345 - accuracy: 0.7395 - recall: 0.7989 - val_loss: 0.5493 - val_accuracy: 0.7341 - val_recall: 0.7591\n"
          ]
        }
      ]
    },
    {
      "cell_type": "code",
      "metadata": {
        "id": "vQhCtav7mtBF",
        "colab": {
          "base_uri": "https://localhost:8080/"
        },
        "outputId": "459a2a81-deb0-4b22-a76b-95fb718709fa"
      },
      "source": [
        "# Evaluate the model using the test data\n",
        "model_loss, model_accuracy, Recall = nn.evaluate(X_test_scaled,y_test,verbose=2)\n",
        "print(f\"Loss: {model_loss}, Accuracy: {model_accuracy}, Recall: {Recall}\" )"
      ],
      "execution_count": 54,
      "outputs": [
        {
          "output_type": "stream",
          "name": "stdout",
          "text": [
            "268/268 - 0s - loss: 0.5649 - accuracy: 0.7240 - recall: 0.7726\n",
            "Loss: 0.5649186372756958, Accuracy: 0.7239649891853333, Recall: 0.7725883722305298\n"
          ]
        }
      ]
    },
    {
      "cell_type": "code",
      "metadata": {
        "colab": {
          "base_uri": "https://localhost:8080/",
          "height": 295
        },
        "id": "xfFqBisXEsWc",
        "outputId": "3d6b4cf6-1a9b-4ea7-88dd-691521ed6c81"
      },
      "source": [
        "import matplotlib.pyplot as plt\n",
        "plt.plot(fit_model.history['accuracy'], 'palevioletred', label='Training Accuracy')\n",
        "plt.plot(fit_model.history['val_accuracy'], 'blue',label='Validation Accuracy')\n",
        "plt.xlabel('Number of Epochs')\n",
        "plt.ylabel('Loss')\n",
        "plt.title('Accuracy')\n",
        "plt.legend()\n",
        "plt.show()"
      ],
      "execution_count": 60,
      "outputs": [
        {
          "output_type": "display_data",
          "data": {
            "image/png": "[encoded data removed]",
            "text/plain": [
              "<Figure size 432x288 with 1 Axes>"
            ]
          },
          "metadata": {
            "needs_background": "light"
          }
        }
      ]
    },
    {
      "cell_type": "code",
      "metadata": {
        "colab": {
          "base_uri": "https://localhost:8080/",
          "height": 300
        },
        "id": "4SbvmIREGSF7",
        "outputId": "4ba6ca22-4d25-4be5-b9ba-0350b38ef76b"
      },
      "source": [
        "plt.title('Loss',fontsize=20)\n",
        "plt.plot(fit_model.history['loss'], 'palevioletred', label='Training Loss')\n",
        "plt.plot(fit_model.history['val_loss'],'blue', label='Validation Loss')\n",
        "plt.xlabel('Number of Epochs')\n",
        "plt.ylabel('Loss')\n",
        "plt.legend()\n",
        "plt.show()"
      ],
      "execution_count": 61,
      "outputs": [
        {
          "output_type": "display_data",
          "data": {
            "image/png": "[encoded data removed]",
            "text/plain": [
              "<Figure size 432x288 with 1 Axes>"
            ]
          },
          "metadata": {
            "needs_background": "light"
          }
        }
      ]
    },
    {
      "cell_type": "code",
      "metadata": {
        "id": "iu44_iGImtBG",
        "colab": {
          "base_uri": "https://localhost:8080/",
          "height": 17
        },
        "outputId": "27520add-1436-421e-e323-48dd6772d0be"
      },
      "source": [
        "# Export our model to HDF5 file\n",
        "from google.colab import files\n",
        "\n",
        "nn.save('/content/ModelOne.h5')\n",
        "files.download('/content/ModelOne.h5')\n"
      ],
      "execution_count": 63,
      "outputs": [
        {
          "output_type": "display_data",
          "data": {
            "application/javascript": [
              "\n",
              "    async function download(id, filename, size) {\n",
              "      if (!google.colab.kernel.accessAllowed) {\n",
              "        return;\n",
              "      }\n",
              "      const div = document.createElement('div');\n",
              "      const label = document.createElement('label');\n",
              "      label.textContent = `Downloading \"${filename}\": `;\n",
              "      div.appendChild(label);\n",
              "      const progress = document.createElement('progress');\n",
              "      progress.max = size;\n",
              "      div.appendChild(progress);\n",
              "      document.body.appendChild(div);\n",
              "\n",
              "      const buffers = [];\n",
              "      let downloaded = 0;\n",
              "\n",
              "      const channel = await google.colab.kernel.comms.open(id);\n",
              "      // Send a message to notify the kernel that we're ready.\n",
              "      channel.send({})\n",
              "\n",
              "      for await (const message of channel.messages) {\n",
              "        // Send a message to notify the kernel that we're ready.\n",
              "        channel.send({})\n",
              "        if (message.buffers) {\n",
              "          for (const buffer of message.buffers) {\n",
              "            buffers.push(buffer);\n",
              "            downloaded += buffer.byteLength;\n",
              "            progress.value = downloaded;\n",
              "          }\n",
              "        }\n",
              "      }\n",
              "      const blob = new Blob(buffers, {type: 'application/binary'});\n",
              "      const a = document.createElement('a');\n",
              "      a.href = window.URL.createObjectURL(blob);\n",
              "      a.download = filename;\n",
              "      div.appendChild(a);\n",
              "      a.click();\n",
              "      div.remove();\n",
              "    }\n",
              "  "
            ],
            "text/plain": [
              "<IPython.core.display.Javascript object>"
            ]
          },
          "metadata": {}
        },
        {
          "output_type": "display_data",
          "data": {
            "application/javascript": [
              "download(\"download_46df1aab-c5c1-48d1-bbed-fb95cc4cbf9a\", \"ModelOne.h5\", 88976)"
            ],
            "text/plain": [
              "<IPython.core.display.Javascript object>"
            ]
          },
          "metadata": {}
        }
      ]
    },
    {
      "cell_type": "markdown",
      "metadata": {
        "id": "4FxNEhlrL0F2"
      },
      "source": [
        "# Model 2\n"
      ]
    },
    {
      "cell_type": "code",
      "metadata": {
        "colab": {
          "base_uri": "https://localhost:8080/"
        },
        "id": "FAT69SsJL0F3",
        "outputId": "ca2e322c-641d-4693-fa2e-b67f3fa59b4d"
      },
      "source": [
        "# Define the model - deep neural net, i.e., the number of input features and hidden nodes for each layer.\n",
        "number_input_features = len( X_train_scaled[0])\n",
        "hidden_nodes_layer1= 80\n",
        "hidden_nodes_layer2= 30\n",
        "\n",
        "\n",
        "nn = tf.keras.models.Sequential()\n",
        "\n",
        "# First hidden layer\n",
        "nn.add(tf.keras.layers.Dense(units=hidden_nodes_layer1, input_dim=number_input_features, activation='relu'))\n",
        "\n",
        "# Second hidden layer\n",
        "nn.add(tf.keras.layers.Dense(units=hidden_nodes_layer2, activation='relu'))\n",
        "\n",
        "\n",
        "# Output layer\n",
        "nn.add(tf.keras.layers.Dense(units=1, activation='sigmoid'))\n",
        "\n",
        "# Check the structure of the model\n",
        "nn.summary()"
      ],
      "execution_count": 64,
      "outputs": [
        {
          "output_type": "stream",
          "name": "stdout",
          "text": [
            "Model: \"sequential_3\"\n",
            "_________________________________________________________________\n",
            "Layer (type)                 Output Shape              Param #   \n",
            "=================================================================\n",
            "dense_4 (Dense)              (None, 80)                3600      \n",
            "_________________________________________________________________\n",
            "dense_5 (Dense)              (None, 30)                2430      \n",
            "_________________________________________________________________\n",
            "dense_6 (Dense)              (None, 1)                 31        \n",
            "=================================================================\n",
            "Total params: 6,061\n",
            "Trainable params: 6,061\n",
            "Non-trainable params: 0\n",
            "_________________________________________________________________\n"
          ]
        }
      ]
    },
    {
      "cell_type": "code",
      "metadata": {
        "id": "mpg1E98jL0F3"
      },
      "source": [
        "# Compile the model\n",
        "nn.compile(loss = 'binary_crossentropy', optimizer = 'adam', metrics=['accuracy', tf.keras.metrics.Recall()])"
      ],
      "execution_count": 65,
      "outputs": []
    },
    {
      "cell_type": "code",
      "metadata": {
        "colab": {
          "base_uri": "https://localhost:8080/"
        },
        "id": "kLM4c4ftL0F3",
        "outputId": "fae98e45-4b7b-48d7-db92-25412c0df7fb"
      },
      "source": [
        "# Train the model\n",
        "fit_model = nn.fit(X_train_scaled,y_train,validation_split=0.15, epochs=100)"
      ],
      "execution_count": 66,
      "outputs": [
        {
          "output_type": "stream",
          "name": "stdout",
          "text": [
            "Epoch 1/100\n",
            "684/684 [==============================] - 3s 3ms/step - loss: 0.5746 - accuracy: 0.7175 - recall_1: 0.7770 - val_loss: 0.5511 - val_accuracy: 0.7264 - val_recall_1: 0.8293\n",
            "Epoch 2/100\n",
            "684/684 [==============================] - 2s 2ms/step - loss: 0.5577 - accuracy: 0.7266 - recall_1: 0.7915 - val_loss: 0.5465 - val_accuracy: 0.7289 - val_recall_1: 0.7710\n",
            "Epoch 3/100\n",
            "684/684 [==============================] - 2s 2ms/step - loss: 0.5542 - accuracy: 0.7282 - recall_1: 0.7910 - val_loss: 0.5458 - val_accuracy: 0.7284 - val_recall_1: 0.7820\n",
            "Epoch 4/100\n",
            "684/684 [==============================] - 2s 2ms/step - loss: 0.5523 - accuracy: 0.7295 - recall_1: 0.7949 - val_loss: 0.5495 - val_accuracy: 0.7336 - val_recall_1: 0.7541\n",
            "Epoch 5/100\n",
            "684/684 [==============================] - 2s 2ms/step - loss: 0.5503 - accuracy: 0.7311 - recall_1: 0.7909 - val_loss: 0.5504 - val_accuracy: 0.7334 - val_recall_1: 0.7397\n",
            "Epoch 6/100\n",
            "684/684 [==============================] - 2s 2ms/step - loss: 0.5496 - accuracy: 0.7305 - recall_1: 0.7891 - val_loss: 0.5457 - val_accuracy: 0.7331 - val_recall_1: 0.7666\n",
            "Epoch 7/100\n",
            "684/684 [==============================] - 2s 2ms/step - loss: 0.5486 - accuracy: 0.7326 - recall_1: 0.7955 - val_loss: 0.5478 - val_accuracy: 0.7284 - val_recall_1: 0.7880\n",
            "Epoch 8/100\n",
            "684/684 [==============================] - 2s 2ms/step - loss: 0.5480 - accuracy: 0.7307 - recall_1: 0.8073 - val_loss: 0.5452 - val_accuracy: 0.7331 - val_recall_1: 0.7556\n",
            "Epoch 9/100\n",
            "684/684 [==============================] - 2s 3ms/step - loss: 0.5474 - accuracy: 0.7326 - recall_1: 0.7878 - val_loss: 0.5479 - val_accuracy: 0.7318 - val_recall_1: 0.7725\n",
            "Epoch 10/100\n",
            "684/684 [==============================] - 2s 3ms/step - loss: 0.5467 - accuracy: 0.7328 - recall_1: 0.7926 - val_loss: 0.5457 - val_accuracy: 0.7365 - val_recall_1: 0.7860\n",
            "Epoch 11/100\n",
            "684/684 [==============================] - 2s 2ms/step - loss: 0.5460 - accuracy: 0.7317 - recall_1: 0.7933 - val_loss: 0.5449 - val_accuracy: 0.7346 - val_recall_1: 0.7755\n",
            "Epoch 12/100\n",
            "684/684 [==============================] - 2s 2ms/step - loss: 0.5456 - accuracy: 0.7343 - recall_1: 0.7953 - val_loss: 0.5442 - val_accuracy: 0.7344 - val_recall_1: 0.7705\n",
            "Epoch 13/100\n",
            "684/684 [==============================] - 1s 2ms/step - loss: 0.5446 - accuracy: 0.7335 - recall_1: 0.7889 - val_loss: 0.5483 - val_accuracy: 0.7339 - val_recall_1: 0.7785\n",
            "Epoch 14/100\n",
            "684/684 [==============================] - 2s 2ms/step - loss: 0.5441 - accuracy: 0.7343 - recall_1: 0.7956 - val_loss: 0.5478 - val_accuracy: 0.7352 - val_recall_1: 0.7885\n",
            "Epoch 15/100\n",
            "684/684 [==============================] - 2s 2ms/step - loss: 0.5447 - accuracy: 0.7330 - recall_1: 0.7983 - val_loss: 0.5449 - val_accuracy: 0.7323 - val_recall_1: 0.7412\n",
            "Epoch 16/100\n",
            "684/684 [==============================] - 2s 2ms/step - loss: 0.5437 - accuracy: 0.7335 - recall_1: 0.7931 - val_loss: 0.5430 - val_accuracy: 0.7341 - val_recall_1: 0.7675\n",
            "Epoch 17/100\n",
            "684/684 [==============================] - 2s 3ms/step - loss: 0.5437 - accuracy: 0.7330 - recall_1: 0.7980 - val_loss: 0.5495 - val_accuracy: 0.7334 - val_recall_1: 0.7830\n",
            "Epoch 18/100\n",
            "684/684 [==============================] - 2s 3ms/step - loss: 0.5436 - accuracy: 0.7333 - recall_1: 0.7952 - val_loss: 0.5461 - val_accuracy: 0.7331 - val_recall_1: 0.7596\n",
            "Epoch 19/100\n",
            "684/684 [==============================] - 2s 2ms/step - loss: 0.5431 - accuracy: 0.7347 - recall_1: 0.7959 - val_loss: 0.5493 - val_accuracy: 0.7336 - val_recall_1: 0.7461\n",
            "Epoch 20/100\n",
            "684/684 [==============================] - 2s 2ms/step - loss: 0.5430 - accuracy: 0.7348 - recall_1: 0.7869 - val_loss: 0.5452 - val_accuracy: 0.7375 - val_recall_1: 0.7870\n",
            "Epoch 21/100\n",
            "684/684 [==============================] - 2s 2ms/step - loss: 0.5424 - accuracy: 0.7354 - recall_1: 0.8001 - val_loss: 0.5441 - val_accuracy: 0.7310 - val_recall_1: 0.8143\n",
            "Epoch 22/100\n",
            "684/684 [==============================] - 2s 2ms/step - loss: 0.5426 - accuracy: 0.7345 - recall_1: 0.7983 - val_loss: 0.5473 - val_accuracy: 0.7313 - val_recall_1: 0.7402\n",
            "Epoch 23/100\n",
            "684/684 [==============================] - 2s 2ms/step - loss: 0.5423 - accuracy: 0.7343 - recall_1: 0.7957 - val_loss: 0.5440 - val_accuracy: 0.7352 - val_recall_1: 0.7705\n",
            "Epoch 24/100\n",
            "684/684 [==============================] - 2s 2ms/step - loss: 0.5419 - accuracy: 0.7356 - recall_1: 0.7935 - val_loss: 0.5434 - val_accuracy: 0.7352 - val_recall_1: 0.7745\n",
            "Epoch 25/100\n",
            "684/684 [==============================] - 2s 2ms/step - loss: 0.5419 - accuracy: 0.7358 - recall_1: 0.7979 - val_loss: 0.5428 - val_accuracy: 0.7339 - val_recall_1: 0.7661\n",
            "Epoch 26/100\n",
            "684/684 [==============================] - 2s 2ms/step - loss: 0.5416 - accuracy: 0.7367 - recall_1: 0.7996 - val_loss: 0.5440 - val_accuracy: 0.7357 - val_recall_1: 0.7740\n",
            "Epoch 27/100\n",
            "684/684 [==============================] - 2s 2ms/step - loss: 0.5413 - accuracy: 0.7361 - recall_1: 0.7954 - val_loss: 0.5453 - val_accuracy: 0.7339 - val_recall_1: 0.7586\n",
            "Epoch 28/100\n",
            "684/684 [==============================] - 2s 3ms/step - loss: 0.5409 - accuracy: 0.7355 - recall_1: 0.7933 - val_loss: 0.5453 - val_accuracy: 0.7339 - val_recall_1: 0.7576\n",
            "Epoch 29/100\n",
            "684/684 [==============================] - 2s 2ms/step - loss: 0.5410 - accuracy: 0.7350 - recall_1: 0.7943 - val_loss: 0.5438 - val_accuracy: 0.7336 - val_recall_1: 0.7626\n",
            "Epoch 30/100\n",
            "684/684 [==============================] - 2s 2ms/step - loss: 0.5405 - accuracy: 0.7371 - recall_1: 0.7986 - val_loss: 0.5420 - val_accuracy: 0.7346 - val_recall_1: 0.7541\n",
            "Epoch 31/100\n",
            "684/684 [==============================] - 2s 3ms/step - loss: 0.5403 - accuracy: 0.7366 - recall_1: 0.7917 - val_loss: 0.5460 - val_accuracy: 0.7315 - val_recall_1: 0.7646\n",
            "Epoch 32/100\n",
            "684/684 [==============================] - 1s 2ms/step - loss: 0.5406 - accuracy: 0.7370 - recall_1: 0.7943 - val_loss: 0.5422 - val_accuracy: 0.7365 - val_recall_1: 0.7770\n",
            "Epoch 33/100\n",
            "684/684 [==============================] - 2s 2ms/step - loss: 0.5402 - accuracy: 0.7375 - recall_1: 0.7933 - val_loss: 0.5440 - val_accuracy: 0.7271 - val_recall_1: 0.8372\n",
            "Epoch 34/100\n",
            "684/684 [==============================] - 2s 2ms/step - loss: 0.5405 - accuracy: 0.7361 - recall_1: 0.8015 - val_loss: 0.5429 - val_accuracy: 0.7375 - val_recall_1: 0.7795\n",
            "Epoch 35/100\n",
            "684/684 [==============================] - 2s 2ms/step - loss: 0.5399 - accuracy: 0.7367 - recall_1: 0.7992 - val_loss: 0.5430 - val_accuracy: 0.7349 - val_recall_1: 0.7710\n",
            "Epoch 36/100\n",
            "684/684 [==============================] - 2s 2ms/step - loss: 0.5395 - accuracy: 0.7366 - recall_1: 0.7931 - val_loss: 0.5430 - val_accuracy: 0.7354 - val_recall_1: 0.7705\n",
            "Epoch 37/100\n",
            "684/684 [==============================] - 2s 3ms/step - loss: 0.5391 - accuracy: 0.7373 - recall_1: 0.8018 - val_loss: 0.5453 - val_accuracy: 0.7354 - val_recall_1: 0.7735\n",
            "Epoch 38/100\n",
            "684/684 [==============================] - 2s 3ms/step - loss: 0.5389 - accuracy: 0.7363 - recall_1: 0.7989 - val_loss: 0.5456 - val_accuracy: 0.7344 - val_recall_1: 0.7700\n",
            "Epoch 39/100\n",
            "684/684 [==============================] - 2s 3ms/step - loss: 0.5396 - accuracy: 0.7360 - recall_1: 0.7943 - val_loss: 0.5433 - val_accuracy: 0.7352 - val_recall_1: 0.7656\n",
            "Epoch 40/100\n",
            "684/684 [==============================] - 2s 2ms/step - loss: 0.5387 - accuracy: 0.7365 - recall_1: 0.7974 - val_loss: 0.5422 - val_accuracy: 0.7354 - val_recall_1: 0.7685\n",
            "Epoch 41/100\n",
            "684/684 [==============================] - 2s 2ms/step - loss: 0.5386 - accuracy: 0.7375 - recall_1: 0.7959 - val_loss: 0.5452 - val_accuracy: 0.7346 - val_recall_1: 0.7810\n",
            "Epoch 42/100\n",
            "684/684 [==============================] - 2s 2ms/step - loss: 0.5388 - accuracy: 0.7366 - recall_1: 0.8004 - val_loss: 0.5437 - val_accuracy: 0.7346 - val_recall_1: 0.7745\n",
            "Epoch 43/100\n",
            "684/684 [==============================] - 2s 2ms/step - loss: 0.5391 - accuracy: 0.7370 - recall_1: 0.7986 - val_loss: 0.5428 - val_accuracy: 0.7346 - val_recall_1: 0.7750\n",
            "Epoch 44/100\n",
            "684/684 [==============================] - 2s 2ms/step - loss: 0.5385 - accuracy: 0.7384 - recall_1: 0.7969 - val_loss: 0.5444 - val_accuracy: 0.7346 - val_recall_1: 0.7666\n",
            "Epoch 45/100\n",
            "684/684 [==============================] - 2s 2ms/step - loss: 0.5387 - accuracy: 0.7375 - recall_1: 0.8002 - val_loss: 0.5430 - val_accuracy: 0.7344 - val_recall_1: 0.7740\n",
            "Epoch 46/100\n",
            "684/684 [==============================] - 2s 3ms/step - loss: 0.5382 - accuracy: 0.7372 - recall_1: 0.7962 - val_loss: 0.5445 - val_accuracy: 0.7339 - val_recall_1: 0.7775\n",
            "Epoch 47/100\n",
            "684/684 [==============================] - 2s 2ms/step - loss: 0.5383 - accuracy: 0.7370 - recall_1: 0.7972 - val_loss: 0.5445 - val_accuracy: 0.7339 - val_recall_1: 0.7740\n",
            "Epoch 48/100\n",
            "684/684 [==============================] - 2s 2ms/step - loss: 0.5380 - accuracy: 0.7368 - recall_1: 0.7979 - val_loss: 0.5436 - val_accuracy: 0.7346 - val_recall_1: 0.7815\n",
            "Epoch 49/100\n",
            "684/684 [==============================] - 2s 2ms/step - loss: 0.5377 - accuracy: 0.7378 - recall_1: 0.7981 - val_loss: 0.5419 - val_accuracy: 0.7359 - val_recall_1: 0.7825\n",
            "Epoch 50/100\n",
            "684/684 [==============================] - 2s 2ms/step - loss: 0.5379 - accuracy: 0.7368 - recall_1: 0.8033 - val_loss: 0.5442 - val_accuracy: 0.7346 - val_recall_1: 0.7700\n",
            "Epoch 51/100\n",
            "684/684 [==============================] - 2s 2ms/step - loss: 0.5376 - accuracy: 0.7377 - recall_1: 0.7999 - val_loss: 0.5435 - val_accuracy: 0.7354 - val_recall_1: 0.7740\n",
            "Epoch 52/100\n",
            "684/684 [==============================] - 2s 2ms/step - loss: 0.5377 - accuracy: 0.7384 - recall_1: 0.7958 - val_loss: 0.5437 - val_accuracy: 0.7349 - val_recall_1: 0.7780\n",
            "Epoch 53/100\n",
            "684/684 [==============================] - 2s 2ms/step - loss: 0.5375 - accuracy: 0.7374 - recall_1: 0.7972 - val_loss: 0.5431 - val_accuracy: 0.7344 - val_recall_1: 0.7700\n",
            "Epoch 54/100\n",
            "684/684 [==============================] - 1s 2ms/step - loss: 0.5371 - accuracy: 0.7364 - recall_1: 0.7979 - val_loss: 0.5452 - val_accuracy: 0.7323 - val_recall_1: 0.7646\n",
            "Epoch 55/100\n",
            "684/684 [==============================] - 2s 2ms/step - loss: 0.5372 - accuracy: 0.7379 - recall_1: 0.7989 - val_loss: 0.5437 - val_accuracy: 0.7334 - val_recall_1: 0.7641\n",
            "Epoch 56/100\n",
            "684/684 [==============================] - 2s 2ms/step - loss: 0.5369 - accuracy: 0.7389 - recall_1: 0.7981 - val_loss: 0.5488 - val_accuracy: 0.7305 - val_recall_1: 0.7571\n",
            "Epoch 57/100\n",
            "684/684 [==============================] - 2s 3ms/step - loss: 0.5371 - accuracy: 0.7371 - recall_1: 0.7963 - val_loss: 0.5435 - val_accuracy: 0.7334 - val_recall_1: 0.7621\n",
            "Epoch 58/100\n",
            "684/684 [==============================] - 2s 2ms/step - loss: 0.5371 - accuracy: 0.7374 - recall_1: 0.7973 - val_loss: 0.5435 - val_accuracy: 0.7339 - val_recall_1: 0.7631\n",
            "Epoch 59/100\n",
            "684/684 [==============================] - 2s 2ms/step - loss: 0.5367 - accuracy: 0.7389 - recall_1: 0.7994 - val_loss: 0.5438 - val_accuracy: 0.7328 - val_recall_1: 0.7636\n",
            "Epoch 60/100\n",
            "684/684 [==============================] - 2s 2ms/step - loss: 0.5366 - accuracy: 0.7383 - recall_1: 0.7961 - val_loss: 0.5462 - val_accuracy: 0.7284 - val_recall_1: 0.7870\n",
            "Epoch 61/100\n",
            "684/684 [==============================] - 1s 2ms/step - loss: 0.5372 - accuracy: 0.7384 - recall_1: 0.8049 - val_loss: 0.5435 - val_accuracy: 0.7313 - val_recall_1: 0.7974\n",
            "Epoch 62/100\n",
            "684/684 [==============================] - 2s 2ms/step - loss: 0.5363 - accuracy: 0.7392 - recall_1: 0.7982 - val_loss: 0.5447 - val_accuracy: 0.7346 - val_recall_1: 0.7690\n",
            "Epoch 63/100\n",
            "684/684 [==============================] - 2s 2ms/step - loss: 0.5366 - accuracy: 0.7385 - recall_1: 0.7955 - val_loss: 0.5453 - val_accuracy: 0.7326 - val_recall_1: 0.7730\n",
            "Epoch 64/100\n",
            "684/684 [==============================] - 2s 2ms/step - loss: 0.5360 - accuracy: 0.7386 - recall_1: 0.8019 - val_loss: 0.5458 - val_accuracy: 0.7349 - val_recall_1: 0.7730\n",
            "Epoch 65/100\n",
            "684/684 [==============================] - 2s 2ms/step - loss: 0.5364 - accuracy: 0.7372 - recall_1: 0.8034 - val_loss: 0.5467 - val_accuracy: 0.7359 - val_recall_1: 0.7670\n",
            "Epoch 66/100\n",
            "684/684 [==============================] - 2s 2ms/step - loss: 0.5364 - accuracy: 0.7397 - recall_1: 0.8032 - val_loss: 0.5499 - val_accuracy: 0.7326 - val_recall_1: 0.7571\n",
            "Epoch 67/100\n",
            "684/684 [==============================] - 2s 2ms/step - loss: 0.5364 - accuracy: 0.7382 - recall_1: 0.7961 - val_loss: 0.5467 - val_accuracy: 0.7331 - val_recall_1: 0.7651\n",
            "Epoch 68/100\n",
            "684/684 [==============================] - 2s 2ms/step - loss: 0.5361 - accuracy: 0.7373 - recall_1: 0.7938 - val_loss: 0.5463 - val_accuracy: 0.7328 - val_recall_1: 0.7666\n",
            "Epoch 69/100\n",
            "684/684 [==============================] - 2s 2ms/step - loss: 0.5356 - accuracy: 0.7397 - recall_1: 0.8014 - val_loss: 0.5466 - val_accuracy: 0.7349 - val_recall_1: 0.7651\n",
            "Epoch 70/100\n",
            "684/684 [==============================] - 2s 2ms/step - loss: 0.5356 - accuracy: 0.7378 - recall_1: 0.7948 - val_loss: 0.5473 - val_accuracy: 0.7346 - val_recall_1: 0.7651\n",
            "Epoch 71/100\n",
            "684/684 [==============================] - 2s 2ms/step - loss: 0.5362 - accuracy: 0.7383 - recall_1: 0.7996 - val_loss: 0.5438 - val_accuracy: 0.7341 - val_recall_1: 0.7656\n",
            "Epoch 72/100\n",
            "684/684 [==============================] - 2s 2ms/step - loss: 0.5359 - accuracy: 0.7386 - recall_1: 0.7940 - val_loss: 0.5431 - val_accuracy: 0.7352 - val_recall_1: 0.7661\n",
            "Epoch 73/100\n",
            "684/684 [==============================] - 2s 3ms/step - loss: 0.5359 - accuracy: 0.7387 - recall_1: 0.7926 - val_loss: 0.5456 - val_accuracy: 0.7346 - val_recall_1: 0.7666\n",
            "Epoch 74/100\n",
            "684/684 [==============================] - 2s 2ms/step - loss: 0.5356 - accuracy: 0.7385 - recall_1: 0.7977 - val_loss: 0.5444 - val_accuracy: 0.7352 - val_recall_1: 0.7760\n",
            "Epoch 75/100\n",
            "684/684 [==============================] - 2s 2ms/step - loss: 0.5355 - accuracy: 0.7397 - recall_1: 0.7990 - val_loss: 0.5440 - val_accuracy: 0.7354 - val_recall_1: 0.7710\n",
            "Epoch 76/100\n",
            "684/684 [==============================] - 1s 2ms/step - loss: 0.5354 - accuracy: 0.7395 - recall_1: 0.7991 - val_loss: 0.5438 - val_accuracy: 0.7323 - val_recall_1: 0.7606\n",
            "Epoch 77/100\n",
            "684/684 [==============================] - 2s 2ms/step - loss: 0.5354 - accuracy: 0.7382 - recall_1: 0.7950 - val_loss: 0.5435 - val_accuracy: 0.7362 - val_recall_1: 0.7850\n",
            "Epoch 78/100\n",
            "684/684 [==============================] - 2s 2ms/step - loss: 0.5352 - accuracy: 0.7381 - recall_1: 0.8057 - val_loss: 0.5441 - val_accuracy: 0.7357 - val_recall_1: 0.7661\n",
            "Epoch 79/100\n",
            "684/684 [==============================] - 2s 2ms/step - loss: 0.5348 - accuracy: 0.7392 - recall_1: 0.8004 - val_loss: 0.5459 - val_accuracy: 0.7334 - val_recall_1: 0.7656\n",
            "Epoch 80/100\n",
            "684/684 [==============================] - 2s 2ms/step - loss: 0.5355 - accuracy: 0.7394 - recall_1: 0.7937 - val_loss: 0.5452 - val_accuracy: 0.7336 - val_recall_1: 0.7661\n",
            "Epoch 81/100\n",
            "684/684 [==============================] - 2s 2ms/step - loss: 0.5351 - accuracy: 0.7385 - recall_1: 0.7973 - val_loss: 0.5451 - val_accuracy: 0.7349 - val_recall_1: 0.7666\n",
            "Epoch 82/100\n",
            "684/684 [==============================] - 2s 3ms/step - loss: 0.5352 - accuracy: 0.7393 - recall_1: 0.7964 - val_loss: 0.5474 - val_accuracy: 0.7339 - val_recall_1: 0.7631\n",
            "Epoch 83/100\n",
            "684/684 [==============================] - 2s 3ms/step - loss: 0.5347 - accuracy: 0.7386 - recall_1: 0.7961 - val_loss: 0.5456 - val_accuracy: 0.7349 - val_recall_1: 0.7705\n",
            "Epoch 84/100\n",
            "684/684 [==============================] - 2s 2ms/step - loss: 0.5350 - accuracy: 0.7389 - recall_1: 0.7973 - val_loss: 0.5454 - val_accuracy: 0.7362 - val_recall_1: 0.7715\n",
            "Epoch 85/100\n",
            "684/684 [==============================] - 2s 2ms/step - loss: 0.5345 - accuracy: 0.7400 - recall_1: 0.7997 - val_loss: 0.5481 - val_accuracy: 0.7336 - val_recall_1: 0.7631\n",
            "Epoch 86/100\n",
            "684/684 [==============================] - 2s 2ms/step - loss: 0.5351 - accuracy: 0.7384 - recall_1: 0.7940 - val_loss: 0.5455 - val_accuracy: 0.7344 - val_recall_1: 0.7680\n",
            "Epoch 87/100\n",
            "684/684 [==============================] - 2s 2ms/step - loss: 0.5346 - accuracy: 0.7400 - recall_1: 0.7993 - val_loss: 0.5447 - val_accuracy: 0.7352 - val_recall_1: 0.7666\n",
            "Epoch 88/100\n",
            "684/684 [==============================] - 2s 2ms/step - loss: 0.5347 - accuracy: 0.7398 - recall_1: 0.7969 - val_loss: 0.5465 - val_accuracy: 0.7341 - val_recall_1: 0.7675\n",
            "Epoch 89/100\n",
            "684/684 [==============================] - 2s 2ms/step - loss: 0.5346 - accuracy: 0.7395 - recall_1: 0.7993 - val_loss: 0.5457 - val_accuracy: 0.7346 - val_recall_1: 0.7651\n",
            "Epoch 90/100\n",
            "684/684 [==============================] - 2s 2ms/step - loss: 0.5348 - accuracy: 0.7394 - recall_1: 0.7967 - val_loss: 0.5477 - val_accuracy: 0.7346 - val_recall_1: 0.7606\n",
            "Epoch 91/100\n",
            "684/684 [==============================] - 2s 2ms/step - loss: 0.5346 - accuracy: 0.7398 - recall_1: 0.7925 - val_loss: 0.5470 - val_accuracy: 0.7344 - val_recall_1: 0.7680\n",
            "Epoch 92/100\n",
            "684/684 [==============================] - 2s 2ms/step - loss: 0.5342 - accuracy: 0.7403 - recall_1: 0.7987 - val_loss: 0.5481 - val_accuracy: 0.7349 - val_recall_1: 0.7700\n",
            "Epoch 93/100\n",
            "684/684 [==============================] - 2s 2ms/step - loss: 0.5341 - accuracy: 0.7396 - recall_1: 0.7964 - val_loss: 0.5476 - val_accuracy: 0.7349 - val_recall_1: 0.7626\n",
            "Epoch 94/100\n",
            "684/684 [==============================] - 2s 2ms/step - loss: 0.5346 - accuracy: 0.7397 - recall_1: 0.8039 - val_loss: 0.5474 - val_accuracy: 0.7367 - val_recall_1: 0.7700\n",
            "Epoch 95/100\n",
            "684/684 [==============================] - 1s 2ms/step - loss: 0.5343 - accuracy: 0.7395 - recall_1: 0.7985 - val_loss: 0.5475 - val_accuracy: 0.7339 - val_recall_1: 0.7690\n",
            "Epoch 96/100\n",
            "684/684 [==============================] - 2s 2ms/step - loss: 0.5344 - accuracy: 0.7394 - recall_1: 0.7998 - val_loss: 0.5461 - val_accuracy: 0.7341 - val_recall_1: 0.7661\n",
            "Epoch 97/100\n",
            "684/684 [==============================] - 2s 2ms/step - loss: 0.5344 - accuracy: 0.7400 - recall_1: 0.7971 - val_loss: 0.5469 - val_accuracy: 0.7354 - val_recall_1: 0.7670\n",
            "Epoch 98/100\n",
            "684/684 [==============================] - 2s 2ms/step - loss: 0.5346 - accuracy: 0.7389 - recall_1: 0.7989 - val_loss: 0.5491 - val_accuracy: 0.7346 - val_recall_1: 0.7511\n",
            "Epoch 99/100\n",
            "684/684 [==============================] - 2s 2ms/step - loss: 0.5339 - accuracy: 0.7390 - recall_1: 0.7963 - val_loss: 0.5507 - val_accuracy: 0.7362 - val_recall_1: 0.7685\n",
            "Epoch 100/100\n",
            "684/684 [==============================] - 2s 2ms/step - loss: 0.5343 - accuracy: 0.7393 - recall_1: 0.7972 - val_loss: 0.5469 - val_accuracy: 0.7341 - val_recall_1: 0.7690\n"
          ]
        }
      ]
    },
    {
      "cell_type": "code",
      "metadata": {
        "colab": {
          "base_uri": "https://localhost:8080/"
        },
        "id": "Ihws2gVGL0F3",
        "outputId": "323d40eb-0527-49ac-d407-dc8c7a4459e8"
      },
      "source": [
        "# Evaluate the model using the test data\n",
        "model_loss, model_accuracy, Recall = nn.evaluate(X_test_scaled,y_test,verbose=2)\n",
        "print(f\"Loss: {model_loss}, Accuracy: {model_accuracy}, Recall: {Recall}\" )"
      ],
      "execution_count": 67,
      "outputs": [
        {
          "output_type": "stream",
          "name": "stdout",
          "text": [
            "268/268 - 0s - loss: 0.5601 - accuracy: 0.7277 - recall_1: 0.7848\n",
            "Loss: 0.5600684881210327, Accuracy: 0.7276967763900757, Recall: 0.7848101258277893\n"
          ]
        }
      ]
    },
    {
      "cell_type": "code",
      "metadata": {
        "colab": {
          "base_uri": "https://localhost:8080/",
          "height": 295
        },
        "id": "hJYPbUhuL0F3",
        "outputId": "b98abda4-ae7a-4191-8df9-ed84e52a0e52"
      },
      "source": [
        "import matplotlib.pyplot as plt\n",
        "plt.plot(fit_model.history['accuracy'], 'palevioletred', label='Training Accuracy')\n",
        "plt.plot(fit_model.history['val_accuracy'], 'blue',label='Validation Accuracy')\n",
        "plt.xlabel('Number of Epochs')\n",
        "plt.ylabel('Loss')\n",
        "plt.title('Accuracy')\n",
        "plt.legend()\n",
        "plt.show()"
      ],
      "execution_count": 68,
      "outputs": [
        {
          "output_type": "display_data",
          "data": {
            "image/png": "[encoded data removed]",
            "text/plain": [
              "<Figure size 432x288 with 1 Axes>"
            ]
          },
          "metadata": {
            "needs_background": "light"
          }
        }
      ]
    },
    {
      "cell_type": "code",
      "metadata": {
        "colab": {
          "base_uri": "https://localhost:8080/",
          "height": 300
        },
        "id": "ibUZbOunL0F4",
        "outputId": "85209c60-54c1-43b8-d0f7-6390a1c69faa"
      },
      "source": [
        "plt.title('Loss',fontsize=20)\n",
        "plt.plot(fit_model.history['loss'], 'palevioletred', label='Training Loss')\n",
        "plt.plot(fit_model.history['val_loss'],'blue', label='Validation Loss')\n",
        "plt.xlabel('Number of Epochs')\n",
        "plt.ylabel('Loss')\n",
        "plt.legend()\n",
        "plt.show()"
      ],
      "execution_count": 69,
      "outputs": [
        {
          "output_type": "display_data",
          "data": {
            "image/png": "[encoded data removed]",
            "text/plain": [
              "<Figure size 432x288 with 1 Axes>"
            ]
          },
          "metadata": {
            "needs_background": "light"
          }
        }
      ]
    },
    {
      "cell_type": "code",
      "metadata": {
        "colab": {
          "base_uri": "https://localhost:8080/",
          "height": 17
        },
        "id": "uHePtAoML0F4",
        "outputId": "574c3faa-83e6-4828-e887-5192dde3517f"
      },
      "source": [
        "# Export our model to HDF5 file\n",
        "from google.colab import files\n",
        "\n",
        "nn.save('/content/ModelTwo.h5')\n",
        "files.download('/content/ModelTwo.h5')\n"
      ],
      "execution_count": 72,
      "outputs": [
        {
          "output_type": "display_data",
          "data": {
            "application/javascript": [
              "\n",
              "    async function download(id, filename, size) {\n",
              "      if (!google.colab.kernel.accessAllowed) {\n",
              "        return;\n",
              "      }\n",
              "      const div = document.createElement('div');\n",
              "      const label = document.createElement('label');\n",
              "      label.textContent = `Downloading \"${filename}\": `;\n",
              "      div.appendChild(label);\n",
              "      const progress = document.createElement('progress');\n",
              "      progress.max = size;\n",
              "      div.appendChild(progress);\n",
              "      document.body.appendChild(div);\n",
              "\n",
              "      const buffers = [];\n",
              "      let downloaded = 0;\n",
              "\n",
              "      const channel = await google.colab.kernel.comms.open(id);\n",
              "      // Send a message to notify the kernel that we're ready.\n",
              "      channel.send({})\n",
              "\n",
              "      for await (const message of channel.messages) {\n",
              "        // Send a message to notify the kernel that we're ready.\n",
              "        channel.send({})\n",
              "        if (message.buffers) {\n",
              "          for (const buffer of message.buffers) {\n",
              "            buffers.push(buffer);\n",
              "            downloaded += buffer.byteLength;\n",
              "            progress.value = downloaded;\n",
              "          }\n",
              "        }\n",
              "      }\n",
              "      const blob = new Blob(buffers, {type: 'application/binary'});\n",
              "      const a = document.createElement('a');\n",
              "      a.href = window.URL.createObjectURL(blob);\n",
              "      a.download = filename;\n",
              "      div.appendChild(a);\n",
              "      a.click();\n",
              "      div.remove();\n",
              "    }\n",
              "  "
            ],
            "text/plain": [
              "<IPython.core.display.Javascript object>"
            ]
          },
          "metadata": {}
        },
        {
          "output_type": "display_data",
          "data": {
            "application/javascript": [
              "download(\"download_6ec3ab1e-2456-4cf0-9a1f-64a1f70204ed\", \"ModelTwo.h5\", 104312)"
            ],
            "text/plain": [
              "<IPython.core.display.Javascript object>"
            ]
          },
          "metadata": {}
        }
      ]
    },
    {
      "cell_type": "markdown",
      "metadata": {
        "id": "7bZKANtGMJ-H"
      },
      "source": [
        "# Model 3\n"
      ]
    },
    {
      "cell_type": "code",
      "metadata": {
        "colab": {
          "base_uri": "https://localhost:8080/"
        },
        "id": "ZflhsEHsMJ-H",
        "outputId": "cffcacb7-da89-4e19-f79b-3cc8a3a12029"
      },
      "source": [
        "# Define the model - deep neural net, i.e., the number of input features and hidden nodes for each layer.\n",
        "number_input_features = len( X_train_scaled[0])\n",
        "hidden_nodes_layer1= 3\n",
        "hidden_nodes_layer2= 3\n",
        "\n",
        "\n",
        "nn = tf.keras.models.Sequential()\n",
        "\n",
        "# First hidden layer\n",
        "nn.add(tf.keras.layers.Dense(units=hidden_nodes_layer1, input_dim=number_input_features, activation='relu'))\n",
        "\n",
        "# Second hidden layer\n",
        "nn.add(tf.keras.layers.Dense(units=hidden_nodes_layer2, activation='relu'))\n",
        "\n",
        "\n",
        "# Output layer\n",
        "nn.add(tf.keras.layers.Dense(units=1, activation='sigmoid'))\n",
        "\n",
        "# Check the structure of the model\n",
        "nn.summary()"
      ],
      "execution_count": 73,
      "outputs": [
        {
          "output_type": "stream",
          "name": "stdout",
          "text": [
            "Model: \"sequential_4\"\n",
            "_________________________________________________________________\n",
            "Layer (type)                 Output Shape              Param #   \n",
            "=================================================================\n",
            "dense_7 (Dense)              (None, 3)                 135       \n",
            "_________________________________________________________________\n",
            "dense_8 (Dense)              (None, 3)                 12        \n",
            "_________________________________________________________________\n",
            "dense_9 (Dense)              (None, 1)                 4         \n",
            "=================================================================\n",
            "Total params: 151\n",
            "Trainable params: 151\n",
            "Non-trainable params: 0\n",
            "_________________________________________________________________\n"
          ]
        }
      ]
    },
    {
      "cell_type": "code",
      "metadata": {
        "id": "zFogt_86MJ-H"
      },
      "source": [
        "# Compile the model\n",
        "nn.compile(loss = 'binary_crossentropy', optimizer = 'adam', metrics=['accuracy', tf.keras.metrics.Recall()])"
      ],
      "execution_count": 74,
      "outputs": []
    },
    {
      "cell_type": "code",
      "metadata": {
        "colab": {
          "base_uri": "https://localhost:8080/"
        },
        "id": "5URJyLiaMJ-H",
        "outputId": "ea475f44-48ea-49f7-a905-a7dd0b54a836"
      },
      "source": [
        "# Train the model\n",
        "fit_model = nn.fit(X_train_scaled,y_train,validation_split=0.15, epochs=100)"
      ],
      "execution_count": 75,
      "outputs": [
        {
          "output_type": "stream",
          "name": "stdout",
          "text": [
            "Epoch 1/100\n",
            "684/684 [==============================] - 3s 3ms/step - loss: 0.6618 - accuracy: 0.6273 - recall_2: 0.8404 - val_loss: 0.6013 - val_accuracy: 0.7080 - val_recall_2: 0.7402\n",
            "Epoch 2/100\n",
            "684/684 [==============================] - 1s 2ms/step - loss: 0.5972 - accuracy: 0.7042 - recall_2: 0.7358 - val_loss: 0.5701 - val_accuracy: 0.7165 - val_recall_2: 0.7302\n",
            "Epoch 3/100\n",
            "684/684 [==============================] - 1s 2ms/step - loss: 0.5761 - accuracy: 0.7091 - recall_2: 0.7337 - val_loss: 0.5597 - val_accuracy: 0.7207 - val_recall_2: 0.7297\n",
            "Epoch 4/100\n",
            "684/684 [==============================] - 2s 2ms/step - loss: 0.5688 - accuracy: 0.7138 - recall_2: 0.7533 - val_loss: 0.5565 - val_accuracy: 0.7258 - val_recall_2: 0.8228\n",
            "Epoch 5/100\n",
            "684/684 [==============================] - 2s 2ms/step - loss: 0.5660 - accuracy: 0.7172 - recall_2: 0.8294 - val_loss: 0.5555 - val_accuracy: 0.7251 - val_recall_2: 0.8263\n",
            "Epoch 6/100\n",
            "684/684 [==============================] - 2s 2ms/step - loss: 0.5646 - accuracy: 0.7181 - recall_2: 0.8350 - val_loss: 0.5556 - val_accuracy: 0.7271 - val_recall_2: 0.8193\n",
            "Epoch 7/100\n",
            "684/684 [==============================] - 2s 2ms/step - loss: 0.5635 - accuracy: 0.7210 - recall_2: 0.8326 - val_loss: 0.5553 - val_accuracy: 0.7258 - val_recall_2: 0.8178\n",
            "Epoch 8/100\n",
            "684/684 [==============================] - 2s 2ms/step - loss: 0.5626 - accuracy: 0.7206 - recall_2: 0.8282 - val_loss: 0.5551 - val_accuracy: 0.7279 - val_recall_2: 0.8278\n",
            "Epoch 9/100\n",
            "684/684 [==============================] - 1s 2ms/step - loss: 0.5621 - accuracy: 0.7208 - recall_2: 0.8403 - val_loss: 0.5545 - val_accuracy: 0.7289 - val_recall_2: 0.8293\n",
            "Epoch 10/100\n",
            "684/684 [==============================] - 2s 2ms/step - loss: 0.5618 - accuracy: 0.7218 - recall_2: 0.8380 - val_loss: 0.5545 - val_accuracy: 0.7284 - val_recall_2: 0.8263\n",
            "Epoch 11/100\n",
            "684/684 [==============================] - 2s 2ms/step - loss: 0.5613 - accuracy: 0.7212 - recall_2: 0.8348 - val_loss: 0.5544 - val_accuracy: 0.7279 - val_recall_2: 0.8258\n",
            "Epoch 12/100\n",
            "684/684 [==============================] - 2s 2ms/step - loss: 0.5610 - accuracy: 0.7212 - recall_2: 0.8368 - val_loss: 0.5544 - val_accuracy: 0.7282 - val_recall_2: 0.8258\n",
            "Epoch 13/100\n",
            "684/684 [==============================] - 2s 2ms/step - loss: 0.5610 - accuracy: 0.7212 - recall_2: 0.8356 - val_loss: 0.5542 - val_accuracy: 0.7289 - val_recall_2: 0.8258\n",
            "Epoch 14/100\n",
            "684/684 [==============================] - 2s 2ms/step - loss: 0.5606 - accuracy: 0.7222 - recall_2: 0.8369 - val_loss: 0.5535 - val_accuracy: 0.7292 - val_recall_2: 0.8263\n",
            "Epoch 15/100\n",
            "684/684 [==============================] - 2s 2ms/step - loss: 0.5605 - accuracy: 0.7225 - recall_2: 0.8376 - val_loss: 0.5536 - val_accuracy: 0.7292 - val_recall_2: 0.8248\n",
            "Epoch 16/100\n",
            "684/684 [==============================] - 2s 3ms/step - loss: 0.5606 - accuracy: 0.7221 - recall_2: 0.8274 - val_loss: 0.5533 - val_accuracy: 0.7289 - val_recall_2: 0.8283\n",
            "Epoch 17/100\n",
            "684/684 [==============================] - 2s 2ms/step - loss: 0.5603 - accuracy: 0.7223 - recall_2: 0.8361 - val_loss: 0.5530 - val_accuracy: 0.7295 - val_recall_2: 0.8273\n",
            "Epoch 18/100\n",
            "684/684 [==============================] - 2s 3ms/step - loss: 0.5600 - accuracy: 0.7217 - recall_2: 0.8309 - val_loss: 0.5535 - val_accuracy: 0.7289 - val_recall_2: 0.8143\n",
            "Epoch 19/100\n",
            "684/684 [==============================] - 2s 2ms/step - loss: 0.5601 - accuracy: 0.7214 - recall_2: 0.8344 - val_loss: 0.5539 - val_accuracy: 0.7289 - val_recall_2: 0.8273\n",
            "Epoch 20/100\n",
            "684/684 [==============================] - 2s 2ms/step - loss: 0.5600 - accuracy: 0.7218 - recall_2: 0.8356 - val_loss: 0.5540 - val_accuracy: 0.7282 - val_recall_2: 0.8263\n",
            "Epoch 21/100\n",
            "684/684 [==============================] - 2s 2ms/step - loss: 0.5601 - accuracy: 0.7228 - recall_2: 0.8330 - val_loss: 0.5542 - val_accuracy: 0.7276 - val_recall_2: 0.8153\n",
            "Epoch 22/100\n",
            "684/684 [==============================] - 1s 2ms/step - loss: 0.5602 - accuracy: 0.7212 - recall_2: 0.8281 - val_loss: 0.5534 - val_accuracy: 0.7279 - val_recall_2: 0.8158\n",
            "Epoch 23/100\n",
            "684/684 [==============================] - 2s 2ms/step - loss: 0.5599 - accuracy: 0.7219 - recall_2: 0.8338 - val_loss: 0.5540 - val_accuracy: 0.7292 - val_recall_2: 0.8303\n",
            "Epoch 24/100\n",
            "684/684 [==============================] - 1s 2ms/step - loss: 0.5599 - accuracy: 0.7221 - recall_2: 0.8368 - val_loss: 0.5538 - val_accuracy: 0.7292 - val_recall_2: 0.8278\n",
            "Epoch 25/100\n",
            "684/684 [==============================] - 2s 2ms/step - loss: 0.5597 - accuracy: 0.7226 - recall_2: 0.8378 - val_loss: 0.5536 - val_accuracy: 0.7269 - val_recall_2: 0.8243\n",
            "Epoch 26/100\n",
            "684/684 [==============================] - 2s 2ms/step - loss: 0.5597 - accuracy: 0.7233 - recall_2: 0.8361 - val_loss: 0.5536 - val_accuracy: 0.7276 - val_recall_2: 0.8148\n",
            "Epoch 27/100\n",
            "684/684 [==============================] - 2s 2ms/step - loss: 0.5597 - accuracy: 0.7231 - recall_2: 0.8331 - val_loss: 0.5535 - val_accuracy: 0.7292 - val_recall_2: 0.8273\n",
            "Epoch 28/100\n",
            "684/684 [==============================] - 2s 3ms/step - loss: 0.5595 - accuracy: 0.7230 - recall_2: 0.8320 - val_loss: 0.5533 - val_accuracy: 0.7292 - val_recall_2: 0.8273\n",
            "Epoch 29/100\n",
            "684/684 [==============================] - 2s 2ms/step - loss: 0.5596 - accuracy: 0.7230 - recall_2: 0.8358 - val_loss: 0.5537 - val_accuracy: 0.7295 - val_recall_2: 0.8163\n",
            "Epoch 30/100\n",
            "684/684 [==============================] - 2s 3ms/step - loss: 0.5597 - accuracy: 0.7222 - recall_2: 0.8309 - val_loss: 0.5536 - val_accuracy: 0.7287 - val_recall_2: 0.8193\n",
            "Epoch 31/100\n",
            "684/684 [==============================] - 2s 3ms/step - loss: 0.5596 - accuracy: 0.7225 - recall_2: 0.8323 - val_loss: 0.5538 - val_accuracy: 0.7274 - val_recall_2: 0.8238\n",
            "Epoch 32/100\n",
            "684/684 [==============================] - 1s 2ms/step - loss: 0.5594 - accuracy: 0.7229 - recall_2: 0.8365 - val_loss: 0.5545 - val_accuracy: 0.7289 - val_recall_2: 0.8268\n",
            "Epoch 33/100\n",
            "684/684 [==============================] - 2s 2ms/step - loss: 0.5595 - accuracy: 0.7228 - recall_2: 0.8320 - val_loss: 0.5534 - val_accuracy: 0.7276 - val_recall_2: 0.8243\n",
            "Epoch 34/100\n",
            "684/684 [==============================] - 2s 2ms/step - loss: 0.5591 - accuracy: 0.7233 - recall_2: 0.8352 - val_loss: 0.5526 - val_accuracy: 0.7274 - val_recall_2: 0.8198\n",
            "Epoch 35/100\n",
            "684/684 [==============================] - 2s 2ms/step - loss: 0.5592 - accuracy: 0.7232 - recall_2: 0.8345 - val_loss: 0.5532 - val_accuracy: 0.7302 - val_recall_2: 0.8218\n",
            "Epoch 36/100\n",
            "684/684 [==============================] - 2s 3ms/step - loss: 0.5589 - accuracy: 0.7229 - recall_2: 0.8326 - val_loss: 0.5537 - val_accuracy: 0.7264 - val_recall_2: 0.8163\n",
            "Epoch 37/100\n",
            "684/684 [==============================] - 2s 2ms/step - loss: 0.5591 - accuracy: 0.7234 - recall_2: 0.8354 - val_loss: 0.5535 - val_accuracy: 0.7284 - val_recall_2: 0.8268\n",
            "Epoch 38/100\n",
            "684/684 [==============================] - 2s 2ms/step - loss: 0.5589 - accuracy: 0.7234 - recall_2: 0.8376 - val_loss: 0.5536 - val_accuracy: 0.7284 - val_recall_2: 0.8273\n",
            "Epoch 39/100\n",
            "684/684 [==============================] - 1s 2ms/step - loss: 0.5587 - accuracy: 0.7230 - recall_2: 0.8380 - val_loss: 0.5530 - val_accuracy: 0.7276 - val_recall_2: 0.8238\n",
            "Epoch 40/100\n",
            "684/684 [==============================] - 1s 2ms/step - loss: 0.5584 - accuracy: 0.7232 - recall_2: 0.8365 - val_loss: 0.5529 - val_accuracy: 0.7276 - val_recall_2: 0.8153\n",
            "Epoch 41/100\n",
            "684/684 [==============================] - 1s 2ms/step - loss: 0.5576 - accuracy: 0.7226 - recall_2: 0.8353 - val_loss: 0.5502 - val_accuracy: 0.7271 - val_recall_2: 0.8143\n",
            "Epoch 42/100\n",
            "684/684 [==============================] - 2s 2ms/step - loss: 0.5545 - accuracy: 0.7261 - recall_2: 0.7856 - val_loss: 0.5502 - val_accuracy: 0.7370 - val_recall_2: 0.7606\n",
            "Epoch 43/100\n",
            "684/684 [==============================] - 1s 2ms/step - loss: 0.5535 - accuracy: 0.7303 - recall_2: 0.7698 - val_loss: 0.5483 - val_accuracy: 0.7367 - val_recall_2: 0.7506\n",
            "Epoch 44/100\n",
            "684/684 [==============================] - 1s 2ms/step - loss: 0.5534 - accuracy: 0.7300 - recall_2: 0.7706 - val_loss: 0.5485 - val_accuracy: 0.7370 - val_recall_2: 0.7516\n",
            "Epoch 45/100\n",
            "684/684 [==============================] - 1s 2ms/step - loss: 0.5531 - accuracy: 0.7296 - recall_2: 0.7668 - val_loss: 0.5488 - val_accuracy: 0.7365 - val_recall_2: 0.7481\n",
            "Epoch 46/100\n",
            "684/684 [==============================] - 2s 2ms/step - loss: 0.5531 - accuracy: 0.7294 - recall_2: 0.7697 - val_loss: 0.5477 - val_accuracy: 0.7349 - val_recall_2: 0.7501\n",
            "Epoch 47/100\n",
            "684/684 [==============================] - 1s 2ms/step - loss: 0.5530 - accuracy: 0.7298 - recall_2: 0.7702 - val_loss: 0.5484 - val_accuracy: 0.7352 - val_recall_2: 0.7446\n",
            "Epoch 48/100\n",
            "684/684 [==============================] - 2s 3ms/step - loss: 0.5528 - accuracy: 0.7297 - recall_2: 0.7684 - val_loss: 0.5490 - val_accuracy: 0.7367 - val_recall_2: 0.7516\n",
            "Epoch 49/100\n",
            "684/684 [==============================] - 2s 3ms/step - loss: 0.5526 - accuracy: 0.7300 - recall_2: 0.7734 - val_loss: 0.5491 - val_accuracy: 0.7354 - val_recall_2: 0.7476\n",
            "Epoch 50/100\n",
            "684/684 [==============================] - 2s 2ms/step - loss: 0.5525 - accuracy: 0.7302 - recall_2: 0.7700 - val_loss: 0.5483 - val_accuracy: 0.7354 - val_recall_2: 0.7596\n",
            "Epoch 51/100\n",
            "684/684 [==============================] - 1s 2ms/step - loss: 0.5524 - accuracy: 0.7299 - recall_2: 0.7748 - val_loss: 0.5478 - val_accuracy: 0.7336 - val_recall_2: 0.7576\n",
            "Epoch 52/100\n",
            "684/684 [==============================] - 2s 2ms/step - loss: 0.5522 - accuracy: 0.7303 - recall_2: 0.7733 - val_loss: 0.5474 - val_accuracy: 0.7341 - val_recall_2: 0.7581\n",
            "Epoch 53/100\n",
            "684/684 [==============================] - 2s 2ms/step - loss: 0.5523 - accuracy: 0.7295 - recall_2: 0.7728 - val_loss: 0.5487 - val_accuracy: 0.7352 - val_recall_2: 0.7621\n",
            "Epoch 54/100\n",
            "684/684 [==============================] - 2s 2ms/step - loss: 0.5519 - accuracy: 0.7301 - recall_2: 0.7756 - val_loss: 0.5479 - val_accuracy: 0.7349 - val_recall_2: 0.7611\n",
            "Epoch 55/100\n",
            "684/684 [==============================] - 2s 3ms/step - loss: 0.5521 - accuracy: 0.7308 - recall_2: 0.7787 - val_loss: 0.5475 - val_accuracy: 0.7341 - val_recall_2: 0.7616\n",
            "Epoch 56/100\n",
            "684/684 [==============================] - 2s 3ms/step - loss: 0.5520 - accuracy: 0.7301 - recall_2: 0.7803 - val_loss: 0.5468 - val_accuracy: 0.7341 - val_recall_2: 0.7611\n",
            "Epoch 57/100\n",
            "684/684 [==============================] - 2s 2ms/step - loss: 0.5518 - accuracy: 0.7302 - recall_2: 0.7816 - val_loss: 0.5469 - val_accuracy: 0.7341 - val_recall_2: 0.7611\n",
            "Epoch 58/100\n",
            "684/684 [==============================] - 2s 2ms/step - loss: 0.5519 - accuracy: 0.7303 - recall_2: 0.7796 - val_loss: 0.5464 - val_accuracy: 0.7357 - val_recall_2: 0.7626\n",
            "Epoch 59/100\n",
            "684/684 [==============================] - 1s 2ms/step - loss: 0.5518 - accuracy: 0.7308 - recall_2: 0.7789 - val_loss: 0.5469 - val_accuracy: 0.7354 - val_recall_2: 0.7631\n",
            "Epoch 60/100\n",
            "684/684 [==============================] - 1s 2ms/step - loss: 0.5516 - accuracy: 0.7300 - recall_2: 0.7800 - val_loss: 0.5477 - val_accuracy: 0.7357 - val_recall_2: 0.7611\n",
            "Epoch 61/100\n",
            "684/684 [==============================] - 1s 2ms/step - loss: 0.5516 - accuracy: 0.7306 - recall_2: 0.7772 - val_loss: 0.5468 - val_accuracy: 0.7341 - val_recall_2: 0.7601\n",
            "Epoch 62/100\n",
            "684/684 [==============================] - 2s 2ms/step - loss: 0.5517 - accuracy: 0.7301 - recall_2: 0.7806 - val_loss: 0.5470 - val_accuracy: 0.7331 - val_recall_2: 0.7601\n",
            "Epoch 63/100\n",
            "684/684 [==============================] - 1s 2ms/step - loss: 0.5517 - accuracy: 0.7304 - recall_2: 0.7791 - val_loss: 0.5468 - val_accuracy: 0.7344 - val_recall_2: 0.7601\n",
            "Epoch 64/100\n",
            "684/684 [==============================] - 2s 2ms/step - loss: 0.5517 - accuracy: 0.7298 - recall_2: 0.7790 - val_loss: 0.5471 - val_accuracy: 0.7349 - val_recall_2: 0.7571\n",
            "Epoch 65/100\n",
            "684/684 [==============================] - 2s 3ms/step - loss: 0.5518 - accuracy: 0.7303 - recall_2: 0.7779 - val_loss: 0.5476 - val_accuracy: 0.7352 - val_recall_2: 0.7581\n",
            "Epoch 66/100\n",
            "684/684 [==============================] - 2s 3ms/step - loss: 0.5517 - accuracy: 0.7300 - recall_2: 0.7769 - val_loss: 0.5472 - val_accuracy: 0.7344 - val_recall_2: 0.7596\n",
            "Epoch 67/100\n",
            "684/684 [==============================] - 2s 2ms/step - loss: 0.5517 - accuracy: 0.7305 - recall_2: 0.7790 - val_loss: 0.5474 - val_accuracy: 0.7344 - val_recall_2: 0.7566\n",
            "Epoch 68/100\n",
            "684/684 [==============================] - 2s 3ms/step - loss: 0.5516 - accuracy: 0.7300 - recall_2: 0.7767 - val_loss: 0.5474 - val_accuracy: 0.7344 - val_recall_2: 0.7596\n",
            "Epoch 69/100\n",
            "684/684 [==============================] - 2s 3ms/step - loss: 0.5515 - accuracy: 0.7303 - recall_2: 0.7788 - val_loss: 0.5471 - val_accuracy: 0.7331 - val_recall_2: 0.7611\n",
            "Epoch 70/100\n",
            "684/684 [==============================] - 2s 3ms/step - loss: 0.5515 - accuracy: 0.7309 - recall_2: 0.7819 - val_loss: 0.5467 - val_accuracy: 0.7339 - val_recall_2: 0.7486\n",
            "Epoch 71/100\n",
            "684/684 [==============================] - 2s 2ms/step - loss: 0.5513 - accuracy: 0.7303 - recall_2: 0.7781 - val_loss: 0.5464 - val_accuracy: 0.7344 - val_recall_2: 0.7601\n",
            "Epoch 72/100\n",
            "684/684 [==============================] - 2s 2ms/step - loss: 0.5512 - accuracy: 0.7302 - recall_2: 0.7783 - val_loss: 0.5465 - val_accuracy: 0.7328 - val_recall_2: 0.7616\n",
            "Epoch 73/100\n",
            "684/684 [==============================] - 2s 2ms/step - loss: 0.5512 - accuracy: 0.7308 - recall_2: 0.7786 - val_loss: 0.5464 - val_accuracy: 0.7339 - val_recall_2: 0.7611\n",
            "Epoch 74/100\n",
            "684/684 [==============================] - 2s 3ms/step - loss: 0.5511 - accuracy: 0.7303 - recall_2: 0.7815 - val_loss: 0.5466 - val_accuracy: 0.7336 - val_recall_2: 0.7596\n",
            "Epoch 75/100\n",
            "684/684 [==============================] - 2s 2ms/step - loss: 0.5512 - accuracy: 0.7308 - recall_2: 0.7807 - val_loss: 0.5475 - val_accuracy: 0.7339 - val_recall_2: 0.7606\n",
            "Epoch 76/100\n",
            "684/684 [==============================] - 2s 2ms/step - loss: 0.5510 - accuracy: 0.7305 - recall_2: 0.7801 - val_loss: 0.5469 - val_accuracy: 0.7339 - val_recall_2: 0.7606\n",
            "Epoch 77/100\n",
            "684/684 [==============================] - 1s 2ms/step - loss: 0.5511 - accuracy: 0.7307 - recall_2: 0.7798 - val_loss: 0.5460 - val_accuracy: 0.7334 - val_recall_2: 0.7596\n",
            "Epoch 78/100\n",
            "684/684 [==============================] - 2s 2ms/step - loss: 0.5508 - accuracy: 0.7308 - recall_2: 0.7800 - val_loss: 0.5462 - val_accuracy: 0.7346 - val_recall_2: 0.7591\n",
            "Epoch 79/100\n",
            "684/684 [==============================] - 2s 2ms/step - loss: 0.5511 - accuracy: 0.7309 - recall_2: 0.7810 - val_loss: 0.5464 - val_accuracy: 0.7352 - val_recall_2: 0.7646\n",
            "Epoch 80/100\n",
            "684/684 [==============================] - 2s 2ms/step - loss: 0.5509 - accuracy: 0.7308 - recall_2: 0.7813 - val_loss: 0.5468 - val_accuracy: 0.7346 - val_recall_2: 0.7556\n",
            "Epoch 81/100\n",
            "684/684 [==============================] - 2s 2ms/step - loss: 0.5510 - accuracy: 0.7313 - recall_2: 0.7764 - val_loss: 0.5462 - val_accuracy: 0.7334 - val_recall_2: 0.7596\n",
            "Epoch 82/100\n",
            "684/684 [==============================] - 2s 2ms/step - loss: 0.5511 - accuracy: 0.7311 - recall_2: 0.7812 - val_loss: 0.5463 - val_accuracy: 0.7344 - val_recall_2: 0.7626\n",
            "Epoch 83/100\n",
            "684/684 [==============================] - 2s 2ms/step - loss: 0.5509 - accuracy: 0.7319 - recall_2: 0.7819 - val_loss: 0.5466 - val_accuracy: 0.7334 - val_recall_2: 0.7606\n",
            "Epoch 84/100\n",
            "684/684 [==============================] - 2s 2ms/step - loss: 0.5510 - accuracy: 0.7314 - recall_2: 0.7802 - val_loss: 0.5465 - val_accuracy: 0.7339 - val_recall_2: 0.7611\n",
            "Epoch 85/100\n",
            "684/684 [==============================] - 2s 2ms/step - loss: 0.5510 - accuracy: 0.7311 - recall_2: 0.7804 - val_loss: 0.5480 - val_accuracy: 0.7334 - val_recall_2: 0.7591\n",
            "Epoch 86/100\n",
            "684/684 [==============================] - 2s 2ms/step - loss: 0.5511 - accuracy: 0.7307 - recall_2: 0.7775 - val_loss: 0.5465 - val_accuracy: 0.7352 - val_recall_2: 0.7501\n",
            "Epoch 87/100\n",
            "684/684 [==============================] - 2s 3ms/step - loss: 0.5510 - accuracy: 0.7292 - recall_2: 0.7733 - val_loss: 0.5463 - val_accuracy: 0.7334 - val_recall_2: 0.7501\n",
            "Epoch 88/100\n",
            "684/684 [==============================] - 2s 2ms/step - loss: 0.5510 - accuracy: 0.7306 - recall_2: 0.7740 - val_loss: 0.5467 - val_accuracy: 0.7354 - val_recall_2: 0.7626\n",
            "Epoch 89/100\n",
            "684/684 [==============================] - 2s 3ms/step - loss: 0.5510 - accuracy: 0.7311 - recall_2: 0.7769 - val_loss: 0.5469 - val_accuracy: 0.7336 - val_recall_2: 0.7486\n",
            "Epoch 90/100\n",
            "684/684 [==============================] - 2s 3ms/step - loss: 0.5511 - accuracy: 0.7307 - recall_2: 0.7751 - val_loss: 0.5474 - val_accuracy: 0.7334 - val_recall_2: 0.7606\n",
            "Epoch 91/100\n",
            "684/684 [==============================] - 2s 3ms/step - loss: 0.5511 - accuracy: 0.7310 - recall_2: 0.7811 - val_loss: 0.5472 - val_accuracy: 0.7331 - val_recall_2: 0.7596\n",
            "Epoch 92/100\n",
            "684/684 [==============================] - 2s 3ms/step - loss: 0.5509 - accuracy: 0.7314 - recall_2: 0.7799 - val_loss: 0.5477 - val_accuracy: 0.7339 - val_recall_2: 0.7611\n",
            "Epoch 93/100\n",
            "684/684 [==============================] - 2s 3ms/step - loss: 0.5508 - accuracy: 0.7317 - recall_2: 0.7831 - val_loss: 0.5469 - val_accuracy: 0.7341 - val_recall_2: 0.7616\n",
            "Epoch 94/100\n",
            "684/684 [==============================] - 2s 3ms/step - loss: 0.5511 - accuracy: 0.7303 - recall_2: 0.7790 - val_loss: 0.5488 - val_accuracy: 0.7341 - val_recall_2: 0.7591\n",
            "Epoch 95/100\n",
            "684/684 [==============================] - 2s 3ms/step - loss: 0.5514 - accuracy: 0.7311 - recall_2: 0.7803 - val_loss: 0.5485 - val_accuracy: 0.7344 - val_recall_2: 0.7571\n",
            "Epoch 96/100\n",
            "684/684 [==============================] - 2s 2ms/step - loss: 0.5507 - accuracy: 0.7311 - recall_2: 0.7780 - val_loss: 0.5470 - val_accuracy: 0.7334 - val_recall_2: 0.7611\n",
            "Epoch 97/100\n",
            "684/684 [==============================] - 2s 2ms/step - loss: 0.5506 - accuracy: 0.7311 - recall_2: 0.7778 - val_loss: 0.5471 - val_accuracy: 0.7336 - val_recall_2: 0.7491\n",
            "Epoch 98/100\n",
            "684/684 [==============================] - 2s 3ms/step - loss: 0.5510 - accuracy: 0.7309 - recall_2: 0.7796 - val_loss: 0.5472 - val_accuracy: 0.7336 - val_recall_2: 0.7611\n",
            "Epoch 99/100\n",
            "684/684 [==============================] - 2s 3ms/step - loss: 0.5508 - accuracy: 0.7308 - recall_2: 0.7811 - val_loss: 0.5478 - val_accuracy: 0.7354 - val_recall_2: 0.7566\n",
            "Epoch 100/100\n",
            "684/684 [==============================] - 2s 3ms/step - loss: 0.5508 - accuracy: 0.7313 - recall_2: 0.7799 - val_loss: 0.5468 - val_accuracy: 0.7334 - val_recall_2: 0.7606\n"
          ]
        }
      ]
    },
    {
      "cell_type": "code",
      "metadata": {
        "colab": {
          "base_uri": "https://localhost:8080/"
        },
        "id": "G9zWPWP7MJ-H",
        "outputId": "20195dc6-ced8-48d8-d82c-4e5954c61d12"
      },
      "source": [
        "# Evaluate the model using the test data\n",
        "model_loss, model_accuracy, Recall = nn.evaluate(X_test_scaled,y_test,verbose=2)\n",
        "print(f\"Loss: {model_loss}, Accuracy: {model_accuracy}, Recall: {Recall}\" )"
      ],
      "execution_count": 76,
      "outputs": [
        {
          "output_type": "stream",
          "name": "stdout",
          "text": [
            "268/268 - 0s - loss: 0.5559 - accuracy: 0.7283 - recall_2: 0.7767\n",
            "Loss: 0.5559412837028503, Accuracy: 0.7282798886299133, Recall: 0.7767350673675537\n"
          ]
        }
      ]
    },
    {
      "cell_type": "code",
      "metadata": {
        "colab": {
          "base_uri": "https://localhost:8080/",
          "height": 295
        },
        "id": "1CypSBgCMJ-I",
        "outputId": "543b0020-1023-433d-8497-8e421ab03e9a"
      },
      "source": [
        "import matplotlib.pyplot as plt\n",
        "plt.plot(fit_model.history['accuracy'], 'palevioletred', label='Training Accuracy')\n",
        "plt.plot(fit_model.history['val_accuracy'], 'blue',label='Validation Accuracy')\n",
        "plt.xlabel('Number of Epochs')\n",
        "plt.ylabel('Loss')\n",
        "plt.title('Accuracy')\n",
        "plt.legend()\n",
        "plt.show()"
      ],
      "execution_count": 77,
      "outputs": [
        {
          "output_type": "display_data",
          "data": {
            "image/png": "[encoded data removed]",
            "text/plain": [
              "<Figure size 432x288 with 1 Axes>"
            ]
          },
          "metadata": {
            "needs_background": "light"
          }
        }
      ]
    },
    {
      "cell_type": "code",
      "metadata": {
        "colab": {
          "base_uri": "https://localhost:8080/",
          "height": 300
        },
        "id": "AgyOOhSVMJ-I",
        "outputId": "d37a0933-018d-4492-c8dc-aa5c9c69c752"
      },
      "source": [
        "plt.title('Loss',fontsize=20)\n",
        "plt.plot(fit_model.history['loss'], 'palevioletred', label='Training Loss')\n",
        "plt.plot(fit_model.history['val_loss'],'blue', label='Validation Loss')\n",
        "plt.xlabel('Number of Epochs')\n",
        "plt.ylabel('Loss')\n",
        "plt.legend()\n",
        "plt.show()"
      ],
      "execution_count": 78,
      "outputs": [
        {
          "output_type": "display_data",
          "data": {
            "image/png": "[encoded data removed]",
            "text/plain": [
              "<Figure size 432x288 with 1 Axes>"
            ]
          },
          "metadata": {
            "needs_background": "light"
          }
        }
      ]
    },
    {
      "cell_type": "code",
      "metadata": {
        "colab": {
          "base_uri": "https://localhost:8080/",
          "height": 17
        },
        "id": "mB1bRf4gMJ-I",
        "outputId": "437eeec3-9271-44cf-9f8e-67bf4fd36d4d"
      },
      "source": [
        "# Export our model to HDF5 file\n",
        "from google.colab import files\n",
        "\n",
        "nn.save('/content/ModelThree.h5')\n",
        "files.download('/content/ModelThree.h5')\n"
      ],
      "execution_count": 79,
      "outputs": [
        {
          "output_type": "display_data",
          "data": {
            "application/javascript": [
              "\n",
              "    async function download(id, filename, size) {\n",
              "      if (!google.colab.kernel.accessAllowed) {\n",
              "        return;\n",
              "      }\n",
              "      const div = document.createElement('div');\n",
              "      const label = document.createElement('label');\n",
              "      label.textContent = `Downloading \"${filename}\": `;\n",
              "      div.appendChild(label);\n",
              "      const progress = document.createElement('progress');\n",
              "      progress.max = size;\n",
              "      div.appendChild(progress);\n",
              "      document.body.appendChild(div);\n",
              "\n",
              "      const buffers = [];\n",
              "      let downloaded = 0;\n",
              "\n",
              "      const channel = await google.colab.kernel.comms.open(id);\n",
              "      // Send a message to notify the kernel that we're ready.\n",
              "      channel.send({})\n",
              "\n",
              "      for await (const message of channel.messages) {\n",
              "        // Send a message to notify the kernel that we're ready.\n",
              "        channel.send({})\n",
              "        if (message.buffers) {\n",
              "          for (const buffer of message.buffers) {\n",
              "            buffers.push(buffer);\n",
              "            downloaded += buffer.byteLength;\n",
              "            progress.value = downloaded;\n",
              "          }\n",
              "        }\n",
              "      }\n",
              "      const blob = new Blob(buffers, {type: 'application/binary'});\n",
              "      const a = document.createElement('a');\n",
              "      a.href = window.URL.createObjectURL(blob);\n",
              "      a.download = filename;\n",
              "      div.appendChild(a);\n",
              "      a.click();\n",
              "      div.remove();\n",
              "    }\n",
              "  "
            ],
            "text/plain": [
              "<IPython.core.display.Javascript object>"
            ]
          },
          "metadata": {}
        },
        {
          "output_type": "display_data",
          "data": {
            "application/javascript": [
              "download(\"download_d7d13265-4cf3-4692-8d1f-339c0094bcb6\", \"ModelThree.h5\", 32552)"
            ],
            "text/plain": [
              "<IPython.core.display.Javascript object>"
            ]
          },
          "metadata": {}
        }
      ]
    },
    {
      "cell_type": "markdown",
      "metadata": {
        "id": "QNk8Dvb7RSeE"
      },
      "source": [
        "# Model 4\n"
      ]
    },
    {
      "cell_type": "code",
      "metadata": {
        "colab": {
          "base_uri": "https://localhost:8080/"
        },
        "id": "d6MesAi6RSeE",
        "outputId": "add718c7-845c-4fa2-8b5b-5da473c3fc4b"
      },
      "source": [
        "# Define the model - deep neural net, i.e., the number of input features and hidden nodes for each layer.\n",
        "number_input_features = len( X_train_scaled[0])\n",
        "hidden_nodes_layer1= 5\n",
        "hidden_nodes_layer2= 25\n",
        "hidden_nodes_layer3= 5\n",
        "\n",
        "\n",
        "nn = tf.keras.models.Sequential()\n",
        "\n",
        "# First hidden layer\n",
        "nn.add(tf.keras.layers.Dense(units=hidden_nodes_layer1, input_dim=number_input_features, activation='relu'))\n",
        "\n",
        "# Second hidden layer\n",
        "nn.add(tf.keras.layers.Dense(units=hidden_nodes_layer2, activation='relu'))\n",
        "\n",
        "# Third hidden layer\n",
        "nn.add(tf.keras.layers.Dense(units=hidden_nodes_layer3, activation='relu'))\n",
        "\n",
        "# Output layer\n",
        "nn.add(tf.keras.layers.Dense(units=1, activation='sigmoid'))\n",
        "\n",
        "# Check the structure of the model\n",
        "nn.summary()"
      ],
      "execution_count": 86,
      "outputs": [
        {
          "output_type": "stream",
          "name": "stdout",
          "text": [
            "Model: \"sequential_6\"\n",
            "_________________________________________________________________\n",
            "Layer (type)                 Output Shape              Param #   \n",
            "=================================================================\n",
            "dense_14 (Dense)             (None, 5)                 225       \n",
            "_________________________________________________________________\n",
            "dense_15 (Dense)             (None, 25)                150       \n",
            "_________________________________________________________________\n",
            "dense_16 (Dense)             (None, 5)                 130       \n",
            "_________________________________________________________________\n",
            "dense_17 (Dense)             (None, 1)                 6         \n",
            "=================================================================\n",
            "Total params: 511\n",
            "Trainable params: 511\n",
            "Non-trainable params: 0\n",
            "_________________________________________________________________\n"
          ]
        }
      ]
    },
    {
      "cell_type": "code",
      "metadata": {
        "id": "FHiq6mh9RSeF"
      },
      "source": [
        "# Compile the model\n",
        "nn.compile(loss = 'binary_crossentropy', optimizer = 'adam', metrics=['accuracy', tf.keras.metrics.Recall()])"
      ],
      "execution_count": 87,
      "outputs": []
    },
    {
      "cell_type": "code",
      "metadata": {
        "colab": {
          "base_uri": "https://localhost:8080/"
        },
        "id": "Bjrey63eRSeF",
        "outputId": "c96175c2-88ec-47ae-889b-a9190e33cac1"
      },
      "source": [
        "# Train the model\n",
        "fit_model = nn.fit(X_train_scaled,y_train,validation_split=0.15, epochs=100)"
      ],
      "execution_count": 88,
      "outputs": [
        {
          "output_type": "stream",
          "name": "stdout",
          "text": [
            "Epoch 1/100\n",
            "684/684 [==============================] - 3s 3ms/step - loss: 0.6238 - accuracy: 0.6586 - recall_4: 0.7675 - val_loss: 0.5743 - val_accuracy: 0.7207 - val_recall_4: 0.7611\n",
            "Epoch 2/100\n",
            "684/684 [==============================] - 2s 2ms/step - loss: 0.5810 - accuracy: 0.7093 - recall_4: 0.7611 - val_loss: 0.5641 - val_accuracy: 0.7230 - val_recall_4: 0.7621\n",
            "Epoch 3/100\n",
            "684/684 [==============================] - 2s 3ms/step - loss: 0.5747 - accuracy: 0.7115 - recall_4: 0.7662 - val_loss: 0.5603 - val_accuracy: 0.7248 - val_recall_4: 0.7641\n",
            "Epoch 4/100\n",
            "684/684 [==============================] - 2s 2ms/step - loss: 0.5710 - accuracy: 0.7149 - recall_4: 0.7709 - val_loss: 0.5601 - val_accuracy: 0.7251 - val_recall_4: 0.7636\n",
            "Epoch 5/100\n",
            "684/684 [==============================] - 2s 2ms/step - loss: 0.5673 - accuracy: 0.7167 - recall_4: 0.7698 - val_loss: 0.5549 - val_accuracy: 0.7274 - val_recall_4: 0.7680\n",
            "Epoch 6/100\n",
            "684/684 [==============================] - 2s 2ms/step - loss: 0.5654 - accuracy: 0.7209 - recall_4: 0.7574 - val_loss: 0.5537 - val_accuracy: 0.7300 - val_recall_4: 0.7596\n",
            "Epoch 7/100\n",
            "684/684 [==============================] - 2s 2ms/step - loss: 0.5637 - accuracy: 0.7239 - recall_4: 0.7483 - val_loss: 0.5516 - val_accuracy: 0.7331 - val_recall_4: 0.7372\n",
            "Epoch 8/100\n",
            "684/684 [==============================] - 2s 2ms/step - loss: 0.5623 - accuracy: 0.7230 - recall_4: 0.7492 - val_loss: 0.5515 - val_accuracy: 0.7321 - val_recall_4: 0.7327\n",
            "Epoch 9/100\n",
            "684/684 [==============================] - 2s 2ms/step - loss: 0.5608 - accuracy: 0.7236 - recall_4: 0.7518 - val_loss: 0.5515 - val_accuracy: 0.7264 - val_recall_4: 0.7765\n",
            "Epoch 10/100\n",
            "684/684 [==============================] - 2s 2ms/step - loss: 0.5602 - accuracy: 0.7236 - recall_4: 0.7529 - val_loss: 0.5518 - val_accuracy: 0.7308 - val_recall_4: 0.7521\n",
            "Epoch 11/100\n",
            "684/684 [==============================] - 2s 2ms/step - loss: 0.5598 - accuracy: 0.7232 - recall_4: 0.7526 - val_loss: 0.5497 - val_accuracy: 0.7315 - val_recall_4: 0.7397\n",
            "Epoch 12/100\n",
            "684/684 [==============================] - 2s 2ms/step - loss: 0.5586 - accuracy: 0.7238 - recall_4: 0.7575 - val_loss: 0.5519 - val_accuracy: 0.7323 - val_recall_4: 0.7232\n",
            "Epoch 13/100\n",
            "684/684 [==============================] - 2s 2ms/step - loss: 0.5579 - accuracy: 0.7233 - recall_4: 0.7522 - val_loss: 0.5498 - val_accuracy: 0.7323 - val_recall_4: 0.7377\n",
            "Epoch 14/100\n",
            "684/684 [==============================] - 2s 2ms/step - loss: 0.5573 - accuracy: 0.7241 - recall_4: 0.7542 - val_loss: 0.5487 - val_accuracy: 0.7315 - val_recall_4: 0.7372\n",
            "Epoch 15/100\n",
            "684/684 [==============================] - 2s 2ms/step - loss: 0.5564 - accuracy: 0.7249 - recall_4: 0.7562 - val_loss: 0.5471 - val_accuracy: 0.7321 - val_recall_4: 0.7461\n",
            "Epoch 16/100\n",
            "684/684 [==============================] - 2s 2ms/step - loss: 0.5554 - accuracy: 0.7236 - recall_4: 0.7561 - val_loss: 0.5479 - val_accuracy: 0.7315 - val_recall_4: 0.7397\n",
            "Epoch 17/100\n",
            "684/684 [==============================] - 2s 2ms/step - loss: 0.5546 - accuracy: 0.7252 - recall_4: 0.7659 - val_loss: 0.5481 - val_accuracy: 0.7310 - val_recall_4: 0.7511\n",
            "Epoch 18/100\n",
            "684/684 [==============================] - 2s 2ms/step - loss: 0.5546 - accuracy: 0.7245 - recall_4: 0.7598 - val_loss: 0.5476 - val_accuracy: 0.7295 - val_recall_4: 0.7417\n",
            "Epoch 19/100\n",
            "684/684 [==============================] - 2s 2ms/step - loss: 0.5538 - accuracy: 0.7260 - recall_4: 0.7626 - val_loss: 0.5490 - val_accuracy: 0.7300 - val_recall_4: 0.7506\n",
            "Epoch 20/100\n",
            "684/684 [==============================] - 2s 2ms/step - loss: 0.5536 - accuracy: 0.7261 - recall_4: 0.7740 - val_loss: 0.5494 - val_accuracy: 0.7318 - val_recall_4: 0.7412\n",
            "Epoch 21/100\n",
            "684/684 [==============================] - 2s 3ms/step - loss: 0.5530 - accuracy: 0.7278 - recall_4: 0.7790 - val_loss: 0.5469 - val_accuracy: 0.7297 - val_recall_4: 0.7750\n",
            "Epoch 22/100\n",
            "684/684 [==============================] - 2s 3ms/step - loss: 0.5522 - accuracy: 0.7271 - recall_4: 0.7835 - val_loss: 0.5471 - val_accuracy: 0.7300 - val_recall_4: 0.7566\n",
            "Epoch 23/100\n",
            "684/684 [==============================] - 2s 3ms/step - loss: 0.5521 - accuracy: 0.7283 - recall_4: 0.7855 - val_loss: 0.5488 - val_accuracy: 0.7308 - val_recall_4: 0.7790\n",
            "Epoch 24/100\n",
            "684/684 [==============================] - 2s 4ms/step - loss: 0.5516 - accuracy: 0.7264 - recall_4: 0.7837 - val_loss: 0.5471 - val_accuracy: 0.7300 - val_recall_4: 0.7546\n",
            "Epoch 25/100\n",
            "684/684 [==============================] - 2s 4ms/step - loss: 0.5514 - accuracy: 0.7270 - recall_4: 0.7811 - val_loss: 0.5473 - val_accuracy: 0.7302 - val_recall_4: 0.7790\n",
            "Epoch 26/100\n",
            "684/684 [==============================] - 3s 4ms/step - loss: 0.5511 - accuracy: 0.7279 - recall_4: 0.7943 - val_loss: 0.5499 - val_accuracy: 0.7297 - val_recall_4: 0.7402\n",
            "Epoch 27/100\n",
            "684/684 [==============================] - 2s 3ms/step - loss: 0.5512 - accuracy: 0.7271 - recall_4: 0.7786 - val_loss: 0.5457 - val_accuracy: 0.7315 - val_recall_4: 0.7651\n",
            "Epoch 28/100\n",
            "684/684 [==============================] - 2s 2ms/step - loss: 0.5508 - accuracy: 0.7274 - recall_4: 0.7839 - val_loss: 0.5492 - val_accuracy: 0.7287 - val_recall_4: 0.7656\n",
            "Epoch 29/100\n",
            "684/684 [==============================] - 1s 2ms/step - loss: 0.5516 - accuracy: 0.7275 - recall_4: 0.7921 - val_loss: 0.5469 - val_accuracy: 0.7315 - val_recall_4: 0.7636\n",
            "Epoch 30/100\n",
            "684/684 [==============================] - 2s 2ms/step - loss: 0.5506 - accuracy: 0.7283 - recall_4: 0.7811 - val_loss: 0.5471 - val_accuracy: 0.7308 - val_recall_4: 0.7830\n",
            "Epoch 31/100\n",
            "684/684 [==============================] - 2s 3ms/step - loss: 0.5506 - accuracy: 0.7283 - recall_4: 0.7934 - val_loss: 0.5467 - val_accuracy: 0.7310 - val_recall_4: 0.7670\n",
            "Epoch 32/100\n",
            "684/684 [==============================] - 2s 2ms/step - loss: 0.5508 - accuracy: 0.7268 - recall_4: 0.7951 - val_loss: 0.5483 - val_accuracy: 0.7297 - val_recall_4: 0.7825\n",
            "Epoch 33/100\n",
            "684/684 [==============================] - 2s 2ms/step - loss: 0.5513 - accuracy: 0.7283 - recall_4: 0.7889 - val_loss: 0.5465 - val_accuracy: 0.7297 - val_recall_4: 0.7830\n",
            "Epoch 34/100\n",
            "684/684 [==============================] - 2s 2ms/step - loss: 0.5509 - accuracy: 0.7280 - recall_4: 0.7953 - val_loss: 0.5487 - val_accuracy: 0.7302 - val_recall_4: 0.7606\n",
            "Epoch 35/100\n",
            "684/684 [==============================] - 2s 2ms/step - loss: 0.5506 - accuracy: 0.7282 - recall_4: 0.7925 - val_loss: 0.5468 - val_accuracy: 0.7336 - val_recall_4: 0.7675\n",
            "Epoch 36/100\n",
            "684/684 [==============================] - 2s 2ms/step - loss: 0.5502 - accuracy: 0.7297 - recall_4: 0.7934 - val_loss: 0.5474 - val_accuracy: 0.7300 - val_recall_4: 0.7820\n",
            "Epoch 37/100\n",
            "684/684 [==============================] - 2s 2ms/step - loss: 0.5503 - accuracy: 0.7286 - recall_4: 0.7965 - val_loss: 0.5459 - val_accuracy: 0.7321 - val_recall_4: 0.7735\n",
            "Epoch 38/100\n",
            "684/684 [==============================] - 2s 2ms/step - loss: 0.5493 - accuracy: 0.7296 - recall_4: 0.7858 - val_loss: 0.5454 - val_accuracy: 0.7344 - val_recall_4: 0.7576\n",
            "Epoch 39/100\n",
            "684/684 [==============================] - 2s 2ms/step - loss: 0.5498 - accuracy: 0.7298 - recall_4: 0.7903 - val_loss: 0.5462 - val_accuracy: 0.7344 - val_recall_4: 0.7661\n",
            "Epoch 40/100\n",
            "684/684 [==============================] - 2s 2ms/step - loss: 0.5492 - accuracy: 0.7292 - recall_4: 0.7900 - val_loss: 0.5455 - val_accuracy: 0.7346 - val_recall_4: 0.7685\n",
            "Epoch 41/100\n",
            "684/684 [==============================] - 2s 2ms/step - loss: 0.5492 - accuracy: 0.7304 - recall_4: 0.7877 - val_loss: 0.5475 - val_accuracy: 0.7336 - val_recall_4: 0.7506\n",
            "Epoch 42/100\n",
            "684/684 [==============================] - 2s 2ms/step - loss: 0.5495 - accuracy: 0.7295 - recall_4: 0.7871 - val_loss: 0.5451 - val_accuracy: 0.7354 - val_recall_4: 0.7845\n",
            "Epoch 43/100\n",
            "684/684 [==============================] - 2s 3ms/step - loss: 0.5489 - accuracy: 0.7303 - recall_4: 0.7915 - val_loss: 0.5456 - val_accuracy: 0.7331 - val_recall_4: 0.7720\n",
            "Epoch 44/100\n",
            "684/684 [==============================] - 2s 3ms/step - loss: 0.5487 - accuracy: 0.7318 - recall_4: 0.7891 - val_loss: 0.5452 - val_accuracy: 0.7321 - val_recall_4: 0.7835\n",
            "Epoch 45/100\n",
            "684/684 [==============================] - 2s 2ms/step - loss: 0.5488 - accuracy: 0.7303 - recall_4: 0.7877 - val_loss: 0.5458 - val_accuracy: 0.7310 - val_recall_4: 0.7690\n",
            "Epoch 46/100\n",
            "684/684 [==============================] - 2s 3ms/step - loss: 0.5489 - accuracy: 0.7322 - recall_4: 0.7913 - val_loss: 0.5459 - val_accuracy: 0.7328 - val_recall_4: 0.7800\n",
            "Epoch 47/100\n",
            "684/684 [==============================] - 2s 2ms/step - loss: 0.5484 - accuracy: 0.7303 - recall_4: 0.7889 - val_loss: 0.5466 - val_accuracy: 0.7346 - val_recall_4: 0.7596\n",
            "Epoch 48/100\n",
            "684/684 [==============================] - 2s 3ms/step - loss: 0.5483 - accuracy: 0.7316 - recall_4: 0.7923 - val_loss: 0.5463 - val_accuracy: 0.7334 - val_recall_4: 0.7646\n",
            "Epoch 49/100\n",
            "684/684 [==============================] - 2s 3ms/step - loss: 0.5484 - accuracy: 0.7305 - recall_4: 0.7895 - val_loss: 0.5460 - val_accuracy: 0.7339 - val_recall_4: 0.7626\n",
            "Epoch 50/100\n",
            "684/684 [==============================] - 2s 2ms/step - loss: 0.5479 - accuracy: 0.7314 - recall_4: 0.7903 - val_loss: 0.5460 - val_accuracy: 0.7334 - val_recall_4: 0.7541\n",
            "Epoch 51/100\n",
            "684/684 [==============================] - 2s 2ms/step - loss: 0.5481 - accuracy: 0.7326 - recall_4: 0.7913 - val_loss: 0.5459 - val_accuracy: 0.7323 - val_recall_4: 0.7740\n",
            "Epoch 52/100\n",
            "684/684 [==============================] - 2s 3ms/step - loss: 0.5478 - accuracy: 0.7328 - recall_4: 0.7901 - val_loss: 0.5446 - val_accuracy: 0.7339 - val_recall_4: 0.7805\n",
            "Epoch 53/100\n",
            "684/684 [==============================] - 2s 2ms/step - loss: 0.5476 - accuracy: 0.7312 - recall_4: 0.7888 - val_loss: 0.5469 - val_accuracy: 0.7323 - val_recall_4: 0.7785\n",
            "Epoch 54/100\n",
            "684/684 [==============================] - 2s 2ms/step - loss: 0.5483 - accuracy: 0.7317 - recall_4: 0.7881 - val_loss: 0.5461 - val_accuracy: 0.7341 - val_recall_4: 0.7636\n",
            "Epoch 55/100\n",
            "684/684 [==============================] - 2s 3ms/step - loss: 0.5481 - accuracy: 0.7322 - recall_4: 0.7927 - val_loss: 0.5512 - val_accuracy: 0.7160 - val_recall_4: 0.8024\n",
            "Epoch 56/100\n",
            "684/684 [==============================] - 2s 3ms/step - loss: 0.5489 - accuracy: 0.7301 - recall_4: 0.7864 - val_loss: 0.5469 - val_accuracy: 0.7318 - val_recall_4: 0.7611\n",
            "Epoch 57/100\n",
            "684/684 [==============================] - 2s 3ms/step - loss: 0.5483 - accuracy: 0.7325 - recall_4: 0.7908 - val_loss: 0.5454 - val_accuracy: 0.7339 - val_recall_4: 0.7466\n",
            "Epoch 58/100\n",
            "684/684 [==============================] - 2s 3ms/step - loss: 0.5475 - accuracy: 0.7318 - recall_4: 0.7849 - val_loss: 0.5464 - val_accuracy: 0.7318 - val_recall_4: 0.7631\n",
            "Epoch 59/100\n",
            "684/684 [==============================] - 2s 2ms/step - loss: 0.5474 - accuracy: 0.7330 - recall_4: 0.7925 - val_loss: 0.5459 - val_accuracy: 0.7321 - val_recall_4: 0.7850\n",
            "Epoch 60/100\n",
            "684/684 [==============================] - 2s 3ms/step - loss: 0.5475 - accuracy: 0.7316 - recall_4: 0.7924 - val_loss: 0.5459 - val_accuracy: 0.7305 - val_recall_4: 0.7601\n",
            "Epoch 61/100\n",
            "684/684 [==============================] - 2s 3ms/step - loss: 0.5472 - accuracy: 0.7327 - recall_4: 0.7875 - val_loss: 0.5462 - val_accuracy: 0.7323 - val_recall_4: 0.7631\n",
            "Epoch 62/100\n",
            "684/684 [==============================] - 2s 2ms/step - loss: 0.5477 - accuracy: 0.7321 - recall_4: 0.7870 - val_loss: 0.5449 - val_accuracy: 0.7334 - val_recall_4: 0.7666\n",
            "Epoch 63/100\n",
            "684/684 [==============================] - 2s 3ms/step - loss: 0.5473 - accuracy: 0.7319 - recall_4: 0.7897 - val_loss: 0.5458 - val_accuracy: 0.7323 - val_recall_4: 0.7641\n",
            "Epoch 64/100\n",
            "684/684 [==============================] - 2s 3ms/step - loss: 0.5472 - accuracy: 0.7321 - recall_4: 0.7899 - val_loss: 0.5470 - val_accuracy: 0.7323 - val_recall_4: 0.7631\n",
            "Epoch 65/100\n",
            "684/684 [==============================] - 2s 2ms/step - loss: 0.5475 - accuracy: 0.7320 - recall_4: 0.7849 - val_loss: 0.5443 - val_accuracy: 0.7321 - val_recall_4: 0.7621\n",
            "Epoch 66/100\n",
            "684/684 [==============================] - 2s 2ms/step - loss: 0.5471 - accuracy: 0.7319 - recall_4: 0.7895 - val_loss: 0.5467 - val_accuracy: 0.7341 - val_recall_4: 0.7740\n",
            "Epoch 67/100\n",
            "684/684 [==============================] - 2s 3ms/step - loss: 0.5470 - accuracy: 0.7324 - recall_4: 0.7864 - val_loss: 0.5469 - val_accuracy: 0.7310 - val_recall_4: 0.7939\n",
            "Epoch 68/100\n",
            "684/684 [==============================] - 2s 3ms/step - loss: 0.5475 - accuracy: 0.7326 - recall_4: 0.7884 - val_loss: 0.5463 - val_accuracy: 0.7354 - val_recall_4: 0.7720\n",
            "Epoch 69/100\n",
            "684/684 [==============================] - 2s 3ms/step - loss: 0.5469 - accuracy: 0.7320 - recall_4: 0.7877 - val_loss: 0.5461 - val_accuracy: 0.7315 - val_recall_4: 0.7626\n",
            "Epoch 70/100\n",
            "684/684 [==============================] - 2s 2ms/step - loss: 0.5473 - accuracy: 0.7318 - recall_4: 0.7874 - val_loss: 0.5460 - val_accuracy: 0.7359 - val_recall_4: 0.7939\n",
            "Epoch 71/100\n",
            "684/684 [==============================] - 2s 2ms/step - loss: 0.5466 - accuracy: 0.7311 - recall_4: 0.7928 - val_loss: 0.5467 - val_accuracy: 0.7321 - val_recall_4: 0.7461\n",
            "Epoch 72/100\n",
            "684/684 [==============================] - 2s 3ms/step - loss: 0.5471 - accuracy: 0.7308 - recall_4: 0.7891 - val_loss: 0.5456 - val_accuracy: 0.7331 - val_recall_4: 0.7715\n",
            "Epoch 73/100\n",
            "684/684 [==============================] - 2s 3ms/step - loss: 0.5464 - accuracy: 0.7327 - recall_4: 0.7889 - val_loss: 0.5469 - val_accuracy: 0.7331 - val_recall_4: 0.7342\n",
            "Epoch 74/100\n",
            "684/684 [==============================] - 2s 3ms/step - loss: 0.5470 - accuracy: 0.7325 - recall_4: 0.7858 - val_loss: 0.5452 - val_accuracy: 0.7334 - val_recall_4: 0.7685\n",
            "Epoch 75/100\n",
            "684/684 [==============================] - 2s 3ms/step - loss: 0.5472 - accuracy: 0.7320 - recall_4: 0.7902 - val_loss: 0.5457 - val_accuracy: 0.7334 - val_recall_4: 0.7670\n",
            "Epoch 76/100\n",
            "684/684 [==============================] - 2s 3ms/step - loss: 0.5463 - accuracy: 0.7327 - recall_4: 0.7901 - val_loss: 0.5458 - val_accuracy: 0.7308 - val_recall_4: 0.7576\n",
            "Epoch 77/100\n",
            "684/684 [==============================] - 2s 3ms/step - loss: 0.5465 - accuracy: 0.7313 - recall_4: 0.7842 - val_loss: 0.5438 - val_accuracy: 0.7321 - val_recall_4: 0.7666\n",
            "Epoch 78/100\n",
            "684/684 [==============================] - 2s 3ms/step - loss: 0.5461 - accuracy: 0.7330 - recall_4: 0.7932 - val_loss: 0.5447 - val_accuracy: 0.7328 - val_recall_4: 0.7730\n",
            "Epoch 79/100\n",
            "684/684 [==============================] - 2s 3ms/step - loss: 0.5465 - accuracy: 0.7324 - recall_4: 0.7886 - val_loss: 0.5490 - val_accuracy: 0.7310 - val_recall_4: 0.7536\n",
            "Epoch 80/100\n",
            "684/684 [==============================] - 2s 2ms/step - loss: 0.5462 - accuracy: 0.7327 - recall_4: 0.7876 - val_loss: 0.5468 - val_accuracy: 0.7328 - val_recall_4: 0.7596\n",
            "Epoch 81/100\n",
            "684/684 [==============================] - 2s 3ms/step - loss: 0.5466 - accuracy: 0.7314 - recall_4: 0.7899 - val_loss: 0.5448 - val_accuracy: 0.7354 - val_recall_4: 0.7785\n",
            "Epoch 82/100\n",
            "684/684 [==============================] - 2s 2ms/step - loss: 0.5473 - accuracy: 0.7313 - recall_4: 0.7910 - val_loss: 0.5477 - val_accuracy: 0.7323 - val_recall_4: 0.7845\n",
            "Epoch 83/100\n",
            "684/684 [==============================] - 2s 2ms/step - loss: 0.5470 - accuracy: 0.7318 - recall_4: 0.7891 - val_loss: 0.5465 - val_accuracy: 0.7321 - val_recall_4: 0.7601\n",
            "Epoch 84/100\n",
            "684/684 [==============================] - 2s 2ms/step - loss: 0.5469 - accuracy: 0.7321 - recall_4: 0.7883 - val_loss: 0.5468 - val_accuracy: 0.7310 - val_recall_4: 0.7591\n",
            "Epoch 85/100\n",
            "684/684 [==============================] - 2s 3ms/step - loss: 0.5467 - accuracy: 0.7328 - recall_4: 0.7917 - val_loss: 0.5450 - val_accuracy: 0.7341 - val_recall_4: 0.7765\n",
            "Epoch 86/100\n",
            "684/684 [==============================] - 2s 3ms/step - loss: 0.5462 - accuracy: 0.7329 - recall_4: 0.7869 - val_loss: 0.5479 - val_accuracy: 0.7266 - val_recall_4: 0.8442\n",
            "Epoch 87/100\n",
            "684/684 [==============================] - 2s 3ms/step - loss: 0.5469 - accuracy: 0.7325 - recall_4: 0.7901 - val_loss: 0.5463 - val_accuracy: 0.7349 - val_recall_4: 0.7850\n",
            "Epoch 88/100\n",
            "684/684 [==============================] - 2s 2ms/step - loss: 0.5464 - accuracy: 0.7319 - recall_4: 0.7885 - val_loss: 0.5472 - val_accuracy: 0.7313 - val_recall_4: 0.7680\n",
            "Epoch 89/100\n",
            "684/684 [==============================] - 2s 3ms/step - loss: 0.5463 - accuracy: 0.7316 - recall_4: 0.7853 - val_loss: 0.5448 - val_accuracy: 0.7321 - val_recall_4: 0.7641\n",
            "Epoch 90/100\n",
            "684/684 [==============================] - 2s 2ms/step - loss: 0.5461 - accuracy: 0.7324 - recall_4: 0.7906 - val_loss: 0.5451 - val_accuracy: 0.7318 - val_recall_4: 0.7646\n",
            "Epoch 91/100\n",
            "684/684 [==============================] - 2s 3ms/step - loss: 0.5464 - accuracy: 0.7318 - recall_4: 0.7889 - val_loss: 0.5472 - val_accuracy: 0.7341 - val_recall_4: 0.7745\n",
            "Epoch 92/100\n",
            "684/684 [==============================] - 2s 3ms/step - loss: 0.5462 - accuracy: 0.7330 - recall_4: 0.7922 - val_loss: 0.5457 - val_accuracy: 0.7326 - val_recall_4: 0.7511\n",
            "Epoch 93/100\n",
            "684/684 [==============================] - 2s 3ms/step - loss: 0.5465 - accuracy: 0.7324 - recall_4: 0.7878 - val_loss: 0.5448 - val_accuracy: 0.7331 - val_recall_4: 0.7730\n",
            "Epoch 94/100\n",
            "684/684 [==============================] - 2s 3ms/step - loss: 0.5458 - accuracy: 0.7319 - recall_4: 0.7904 - val_loss: 0.5469 - val_accuracy: 0.7336 - val_recall_4: 0.7631\n",
            "Epoch 95/100\n",
            "684/684 [==============================] - 2s 3ms/step - loss: 0.5458 - accuracy: 0.7335 - recall_4: 0.7909 - val_loss: 0.5456 - val_accuracy: 0.7323 - val_recall_4: 0.7631\n",
            "Epoch 96/100\n",
            "684/684 [==============================] - 2s 3ms/step - loss: 0.5457 - accuracy: 0.7328 - recall_4: 0.7875 - val_loss: 0.5449 - val_accuracy: 0.7326 - val_recall_4: 0.7750\n",
            "Epoch 97/100\n",
            "684/684 [==============================] - 2s 2ms/step - loss: 0.5458 - accuracy: 0.7328 - recall_4: 0.7923 - val_loss: 0.5459 - val_accuracy: 0.7323 - val_recall_4: 0.7631\n",
            "Epoch 98/100\n",
            "684/684 [==============================] - 2s 2ms/step - loss: 0.5460 - accuracy: 0.7322 - recall_4: 0.7891 - val_loss: 0.5449 - val_accuracy: 0.7321 - val_recall_4: 0.7631\n",
            "Epoch 99/100\n",
            "684/684 [==============================] - 2s 3ms/step - loss: 0.5455 - accuracy: 0.7334 - recall_4: 0.7923 - val_loss: 0.5446 - val_accuracy: 0.7354 - val_recall_4: 0.7785\n",
            "Epoch 100/100\n",
            "684/684 [==============================] - 2s 2ms/step - loss: 0.5458 - accuracy: 0.7320 - recall_4: 0.7887 - val_loss: 0.5444 - val_accuracy: 0.7328 - val_recall_4: 0.7636\n"
          ]
        }
      ]
    },
    {
      "cell_type": "code",
      "metadata": {
        "colab": {
          "base_uri": "https://localhost:8080/"
        },
        "id": "wq2JY9ieRSeF",
        "outputId": "59f088c3-d2b4-4479-afb1-ef2278a74ce9"
      },
      "source": [
        "# Evaluate the model using the test data\n",
        "model_loss, model_accuracy, Recall = nn.evaluate(X_test_scaled,y_test,verbose=2)\n",
        "print(f\"Loss: {model_loss}, Accuracy: {model_accuracy}, Recall: {Recall}\" )"
      ],
      "execution_count": 89,
      "outputs": [
        {
          "output_type": "stream",
          "name": "stdout",
          "text": [
            "268/268 - 0s - loss: 0.5565 - accuracy: 0.7278 - recall_4: 0.7815\n",
            "Loss: 0.5564998388290405, Accuracy: 0.7278134226799011, Recall: 0.7815364599227905\n"
          ]
        }
      ]
    },
    {
      "cell_type": "code",
      "metadata": {
        "colab": {
          "base_uri": "https://localhost:8080/",
          "height": 295
        },
        "id": "tzIEU6LMRSeF",
        "outputId": "dde1d5f9-0877-4dbd-caf8-a6b7fcdee55a"
      },
      "source": [
        "import matplotlib.pyplot as plt\n",
        "plt.plot(fit_model.history['accuracy'], 'palevioletred', label='Training Accuracy')\n",
        "plt.plot(fit_model.history['val_accuracy'], 'blue',label='Validation Accuracy')\n",
        "plt.xlabel('Number of Epochs')\n",
        "plt.ylabel('Loss')\n",
        "plt.title('Accuracy')\n",
        "plt.legend()\n",
        "plt.show()"
      ],
      "execution_count": 90,
      "outputs": [
        {
          "output_type": "display_data",
          "data": {
            "image/png": "[encoded data removed]",
            "text/plain": [
              "<Figure size 432x288 with 1 Axes>"
            ]
          },
          "metadata": {
            "needs_background": "light"
          }
        }
      ]
    },
    {
      "cell_type": "code",
      "metadata": {
        "colab": {
          "base_uri": "https://localhost:8080/",
          "height": 300
        },
        "id": "OiKf95JCRSeF",
        "outputId": "b206aec4-792e-4571-c4bf-feb0b4b6fb21"
      },
      "source": [
        "plt.title('Loss',fontsize=20)\n",
        "plt.plot(fit_model.history['loss'], 'palevioletred', label='Training Loss')\n",
        "plt.plot(fit_model.history['val_loss'],'blue', label='Validation Loss')\n",
        "plt.xlabel('Number of Epochs')\n",
        "plt.ylabel('Loss')\n",
        "plt.legend()\n",
        "plt.show()"
      ],
      "execution_count": 91,
      "outputs": [
        {
          "output_type": "display_data",
          "data": {
            "image/png": "[encoded data removed]",
            "text/plain": [
              "<Figure size 432x288 with 1 Axes>"
            ]
          },
          "metadata": {
            "needs_background": "light"
          }
        }
      ]
    },
    {
      "cell_type": "code",
      "metadata": {
        "colab": {
          "base_uri": "https://localhost:8080/",
          "height": 17
        },
        "id": "V3K46RQLRSeF",
        "outputId": "beae7259-3b23-4e9c-a7f4-b9cbd8e28745"
      },
      "source": [
        "# Export our model to HDF5 file\n",
        "from google.colab import files\n",
        "\n",
        "nn.save('/content/ModelFour.h5')\n",
        "files.download('/content/ModelFour.h5')\n"
      ],
      "execution_count": 92,
      "outputs": [
        {
          "output_type": "display_data",
          "data": {
            "application/javascript": [
              "\n",
              "    async function download(id, filename, size) {\n",
              "      if (!google.colab.kernel.accessAllowed) {\n",
              "        return;\n",
              "      }\n",
              "      const div = document.createElement('div');\n",
              "      const label = document.createElement('label');\n",
              "      label.textContent = `Downloading \"${filename}\": `;\n",
              "      div.appendChild(label);\n",
              "      const progress = document.createElement('progress');\n",
              "      progress.max = size;\n",
              "      div.appendChild(progress);\n",
              "      document.body.appendChild(div);\n",
              "\n",
              "      const buffers = [];\n",
              "      let downloaded = 0;\n",
              "\n",
              "      const channel = await google.colab.kernel.comms.open(id);\n",
              "      // Send a message to notify the kernel that we're ready.\n",
              "      channel.send({})\n",
              "\n",
              "      for await (const message of channel.messages) {\n",
              "        // Send a message to notify the kernel that we're ready.\n",
              "        channel.send({})\n",
              "        if (message.buffers) {\n",
              "          for (const buffer of message.buffers) {\n",
              "            buffers.push(buffer);\n",
              "            downloaded += buffer.byteLength;\n",
              "            progress.value = downloaded;\n",
              "          }\n",
              "        }\n",
              "      }\n",
              "      const blob = new Blob(buffers, {type: 'application/binary'});\n",
              "      const a = document.createElement('a');\n",
              "      a.href = window.URL.createObjectURL(blob);\n",
              "      a.download = filename;\n",
              "      div.appendChild(a);\n",
              "      a.click();\n",
              "      div.remove();\n",
              "    }\n",
              "  "
            ],
            "text/plain": [
              "<IPython.core.display.Javascript object>"
            ]
          },
          "metadata": {}
        },
        {
          "output_type": "display_data",
          "data": {
            "application/javascript": [
              "download(\"download_9a36c621-1045-4d5d-b0a9-495f5db99862\", \"ModelFour.h5\", 43768)"
            ],
            "text/plain": [
              "<IPython.core.display.Javascript object>"
            ]
          },
          "metadata": {}
        }
      ]
    }
  ]
}