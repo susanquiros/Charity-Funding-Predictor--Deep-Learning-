{
<<<<<<< HEAD
 "cells": [
  {
   "cell_type": "markdown",
   "metadata": {},
   "source": [
    "## Preprocessing"
   ]
  },
  {
   "cell_type": "code",
   "execution_count": 2,
   "metadata": {},
   "outputs": [
    {
     "data": {
      "text/html": [
       "<div>\n",
       "<style scoped>\n",
       "    .dataframe tbody tr th:only-of-type {\n",
       "        vertical-align: middle;\n",
       "    }\n",
       "\n",
       "    .dataframe tbody tr th {\n",
       "        vertical-align: top;\n",
       "    }\n",
       "\n",
       "    .dataframe thead th {\n",
       "        text-align: right;\n",
       "    }\n",
       "</style>\n",
       "<table border=\"1\" class=\"dataframe\">\n",
       "  <thead>\n",
       "    <tr style=\"text-align: right;\">\n",
       "      <th></th>\n",
       "      <th>EIN</th>\n",
       "      <th>NAME</th>\n",
       "      <th>APPLICATION_TYPE</th>\n",
       "      <th>AFFILIATION</th>\n",
       "      <th>CLASSIFICATION</th>\n",
       "      <th>USE_CASE</th>\n",
       "      <th>ORGANIZATION</th>\n",
       "      <th>STATUS</th>\n",
       "      <th>INCOME_AMT</th>\n",
       "      <th>SPECIAL_CONSIDERATIONS</th>\n",
       "      <th>ASK_AMT</th>\n",
       "      <th>IS_SUCCESSFUL</th>\n",
       "    </tr>\n",
       "  </thead>\n",
       "  <tbody>\n",
       "    <tr>\n",
       "      <th>0</th>\n",
       "      <td>10520599</td>\n",
       "      <td>BLUE KNIGHTS MOTORCYCLE CLUB</td>\n",
       "      <td>T10</td>\n",
       "      <td>Independent</td>\n",
       "      <td>C1000</td>\n",
       "      <td>ProductDev</td>\n",
       "      <td>Association</td>\n",
       "      <td>1</td>\n",
       "      <td>0</td>\n",
       "      <td>N</td>\n",
       "      <td>5000</td>\n",
       "      <td>1</td>\n",
       "    </tr>\n",
       "    <tr>\n",
       "      <th>1</th>\n",
       "      <td>10531628</td>\n",
       "      <td>AMERICAN CHESAPEAKE CLUB CHARITABLE TR</td>\n",
       "      <td>T3</td>\n",
       "      <td>Independent</td>\n",
       "      <td>C2000</td>\n",
       "      <td>Preservation</td>\n",
       "      <td>Co-operative</td>\n",
       "      <td>1</td>\n",
       "      <td>1-9999</td>\n",
       "      <td>N</td>\n",
       "      <td>108590</td>\n",
       "      <td>1</td>\n",
       "    </tr>\n",
       "    <tr>\n",
       "      <th>2</th>\n",
       "      <td>10547893</td>\n",
       "      <td>ST CLOUD PROFESSIONAL FIREFIGHTERS</td>\n",
       "      <td>T5</td>\n",
       "      <td>CompanySponsored</td>\n",
       "      <td>C3000</td>\n",
       "      <td>ProductDev</td>\n",
       "      <td>Association</td>\n",
       "      <td>1</td>\n",
       "      <td>0</td>\n",
       "      <td>N</td>\n",
       "      <td>5000</td>\n",
       "      <td>0</td>\n",
       "    </tr>\n",
       "    <tr>\n",
       "      <th>3</th>\n",
       "      <td>10553066</td>\n",
       "      <td>SOUTHSIDE ATHLETIC ASSOCIATION</td>\n",
       "      <td>T3</td>\n",
       "      <td>CompanySponsored</td>\n",
       "      <td>C2000</td>\n",
       "      <td>Preservation</td>\n",
       "      <td>Trust</td>\n",
       "      <td>1</td>\n",
       "      <td>10000-24999</td>\n",
       "      <td>N</td>\n",
       "      <td>6692</td>\n",
       "      <td>1</td>\n",
       "    </tr>\n",
       "    <tr>\n",
       "      <th>4</th>\n",
       "      <td>10556103</td>\n",
       "      <td>GENETIC RESEARCH INSTITUTE OF THE DESERT</td>\n",
       "      <td>T3</td>\n",
       "      <td>Independent</td>\n",
       "      <td>C1000</td>\n",
       "      <td>Heathcare</td>\n",
       "      <td>Trust</td>\n",
       "      <td>1</td>\n",
       "      <td>100000-499999</td>\n",
       "      <td>N</td>\n",
       "      <td>142590</td>\n",
       "      <td>1</td>\n",
       "    </tr>\n",
       "  </tbody>\n",
       "</table>\n",
       "</div>"
      ],
      "text/plain": [
       "        EIN                                      NAME APPLICATION_TYPE  \\\n",
       "0  10520599              BLUE KNIGHTS MOTORCYCLE CLUB              T10   \n",
       "1  10531628    AMERICAN CHESAPEAKE CLUB CHARITABLE TR               T3   \n",
       "2  10547893        ST CLOUD PROFESSIONAL FIREFIGHTERS               T5   \n",
       "3  10553066            SOUTHSIDE ATHLETIC ASSOCIATION               T3   \n",
       "4  10556103  GENETIC RESEARCH INSTITUTE OF THE DESERT               T3   \n",
       "\n",
       "        AFFILIATION CLASSIFICATION      USE_CASE  ORGANIZATION  STATUS  \\\n",
       "0       Independent          C1000    ProductDev   Association       1   \n",
       "1       Independent          C2000  Preservation  Co-operative       1   \n",
       "2  CompanySponsored          C3000    ProductDev   Association       1   \n",
       "3  CompanySponsored          C2000  Preservation         Trust       1   \n",
       "4       Independent          C1000     Heathcare         Trust       1   \n",
       "\n",
       "      INCOME_AMT SPECIAL_CONSIDERATIONS  ASK_AMT  IS_SUCCESSFUL  \n",
       "0              0                      N     5000              1  \n",
       "1         1-9999                      N   108590              1  \n",
       "2              0                      N     5000              0  \n",
       "3    10000-24999                      N     6692              1  \n",
       "4  100000-499999                      N   142590              1  "
      ]
     },
     "execution_count": 2,
     "metadata": {},
     "output_type": "execute_result"
    }
   ],
   "source": [
    "# Import our dependencies\n",
    "from sklearn.model_selection import train_test_split\n",
    "from sklearn.preprocessing import StandardScaler\n",
    "import pandas as pd\n",
    "import tensorflow as tf\n",
    "\n",
    "#  Import and read the charity_data.csv.\n",
    "import pandas as pd \n",
    "application_df = pd.read_csv(\"../Resources/charity_data.csv\")\n",
    "application_df.head()"
   ]
  },
  {
   "cell_type": "code",
   "execution_count": 3,
   "metadata": {},
   "outputs": [],
   "source": [
    "# Drop the non-beneficial ID columns, 'EIN' and 'NAME'.\n",
    "#  YOUR CODE GOES HERE"
   ]
  },
  {
   "cell_type": "code",
   "execution_count": 4,
   "metadata": {},
   "outputs": [
    {
     "data": {
      "text/plain": [
       "APPLICATION_TYPE            17\n",
       "AFFILIATION                  6\n",
       "CLASSIFICATION              71\n",
       "USE_CASE                     5\n",
       "ORGANIZATION                 4\n",
       "STATUS                       2\n",
       "INCOME_AMT                   9\n",
       "SPECIAL_CONSIDERATIONS       2\n",
       "ASK_AMT                   8747\n",
       "IS_SUCCESSFUL                2\n",
       "dtype: int64"
      ]
     },
     "execution_count": 4,
     "metadata": {},
     "output_type": "execute_result"
    }
   ],
   "source": [
    "# Determine the number of unique values in each column.\n",
    "#  YOUR CODE GOES HERE"
   ]
  },
  {
   "cell_type": "code",
   "execution_count": 6,
   "metadata": {},
   "outputs": [
    {
     "data": {
      "text/plain": [
       "T3     27037\n",
       "T4      1542\n",
       "T6      1216\n",
       "T5      1173\n",
       "T19     1065\n",
       "T8       737\n",
       "T7       725\n",
       "T10      528\n",
       "T9       156\n",
       "T13       66\n",
       "T12       27\n",
       "T2        16\n",
       "T14        3\n",
       "T25        3\n",
       "T15        2\n",
       "T29        2\n",
       "T17        1\n",
       "Name: APPLICATION_TYPE, dtype: int64"
      ]
     },
     "execution_count": 6,
     "metadata": {},
     "output_type": "execute_result"
    }
   ],
   "source": [
    "# Look at APPLICATION_TYPE value counts for binning\n",
    "#  YOUR CODE GOES HERE"
   ]
  },
  {
   "cell_type": "code",
   "execution_count": 15,
   "metadata": {},
   "outputs": [
    {
     "data": {
      "text/plain": [
       "T3       27037\n",
       "T4        1542\n",
       "T6        1216\n",
       "T5        1173\n",
       "T19       1065\n",
       "T8         737\n",
       "T7         725\n",
       "T10        528\n",
       "Other      276\n",
       "Name: APPLICATION_TYPE, dtype: int64"
      ]
     },
     "execution_count": 15,
     "metadata": {},
     "output_type": "execute_result"
    }
   ],
   "source": [
    "# Choose a cutoff value and create a list of application types to be replaced\n",
    "# use the variable name `application_types_to_replace`\n",
    "#  YOUR CODE GOES HERE\n",
    "\n",
    "# Replace in dataframe\n",
    "for app in application_types_to_replace:\n",
    "    application_df['APPLICATION_TYPE'] = application_df['APPLICATION_TYPE'].replace(app,\"Other\")\n",
    "\n",
    "# Check to make sure binning was successful\n",
    "application_df['APPLICATION_TYPE'].value_counts()"
   ]
  },
  {
   "cell_type": "code",
   "execution_count": 16,
   "metadata": {},
   "outputs": [
    {
     "data": {
      "text/plain": [
       "C1000    17326\n",
       "C2000     6074\n",
       "C1200     4837\n",
       "C3000     1918\n",
       "C2100     1883\n",
       "         ...  \n",
       "C1370        1\n",
       "C4120        1\n",
       "C2600        1\n",
       "C2190        1\n",
       "C6100        1\n",
       "Name: CLASSIFICATION, Length: 71, dtype: int64"
      ]
     },
     "execution_count": 16,
     "metadata": {},
     "output_type": "execute_result"
    }
   ],
   "source": [
    "# Look at CLASSIFICATION value counts for binning\n",
    "#  YOUR CODE GOES HERE"
   ]
  },
  {
   "cell_type": "code",
   "execution_count": 25,
   "metadata": {},
   "outputs": [
    {
     "data": {
      "text/plain": [
       "C1000    17326\n",
       "C2000     6074\n",
       "C1200     4837\n",
       "C3000     1918\n",
       "C2100     1883\n",
       "C7000      777\n",
       "C1700      287\n",
       "C4000      194\n",
       "C5000      116\n",
       "C1270      114\n",
       "C2700      104\n",
       "C2800       95\n",
       "C7100       75\n",
       "C1300       58\n",
       "C1280       50\n",
       "C1230       36\n",
       "C1400       34\n",
       "C7200       32\n",
       "C2300       32\n",
       "C1240       30\n",
       "C8000       20\n",
       "C7120       18\n",
       "C1500       16\n",
       "C1800       15\n",
       "C6000       15\n",
       "C1250       14\n",
       "C8200       11\n",
       "C1278       10\n",
       "C1238       10\n",
       "C1237        9\n",
       "C1235        9\n",
       "C7210        7\n",
       "C1720        6\n",
       "C2400        6\n",
       "C4100        6\n",
       "C1257        5\n",
       "C1600        5\n",
       "C0           3\n",
       "C1260        3\n",
       "C2710        3\n",
       "C1234        2\n",
       "C1246        2\n",
       "C1267        2\n",
       "C3200        2\n",
       "C1256        2\n",
       "Name: CLASSIFICATION, dtype: int64"
      ]
     },
     "execution_count": 25,
     "metadata": {},
     "output_type": "execute_result"
    }
   ],
   "source": [
    "# You may find it helpful to look at CLASSIFICATION value counts >1\n",
    "#  YOUR CODE GOES HERE"
   ]
  },
  {
   "cell_type": "code",
   "execution_count": 27,
   "metadata": {},
   "outputs": [
    {
     "data": {
      "text/plain": [
       "C1000    17326\n",
       "C2000     6074\n",
       "C1200     4837\n",
       "Other     2261\n",
       "C3000     1918\n",
       "C2100     1883\n",
       "Name: CLASSIFICATION, dtype: int64"
      ]
     },
     "execution_count": 27,
     "metadata": {},
     "output_type": "execute_result"
    }
   ],
   "source": [
    "# Choose a cutoff value and create a list of classifications to be replaced\n",
    "# use the variable name `classifications_to_replace`\n",
    "#  YOUR CODE GOES HERE\n",
    "\n",
    "# Replace in dataframe\n",
    "for cls in classifications_to_replace:\n",
    "    application_df['CLASSIFICATION'] = application_df['CLASSIFICATION'].replace(cls,\"Other\")\n",
    "    \n",
    "# Check to make sure binning was successful\n",
    "application_df['CLASSIFICATION'].value_counts()"
   ]
  },
  {
   "cell_type": "code",
   "execution_count": 28,
   "metadata": {},
   "outputs": [],
   "source": [
    "# Convert categorical data to numeric with `pd.get_dummies`\n",
    "#  YOUR CODE GOES HERE"
   ]
  },
  {
   "cell_type": "code",
   "execution_count": 31,
   "metadata": {},
   "outputs": [],
   "source": [
    "# Split our preprocessed data into our features and target arrays\n",
    "#  YOUR CODE GOES HERE\n",
    "\n",
    "# Split the preprocessed data into a training and testing dataset\n",
    "#  YOUR CODE GOES HERE"
   ]
  },
  {
   "cell_type": "code",
   "execution_count": 32,
   "metadata": {},
   "outputs": [],
   "source": [
    "# Create a StandardScaler instances\n",
    "scaler = StandardScaler()\n",
    "\n",
    "# Fit the StandardScaler\n",
    "X_scaler = scaler.fit(X_train)\n",
    "\n",
    "# Scale the data\n",
    "X_train_scaled = X_scaler.transform(X_train)\n",
    "X_test_scaled = X_scaler.transform(X_test)"
   ]
  },
  {
   "cell_type": "markdown",
   "metadata": {},
   "source": [
    "## Compile, Train and Evaluate the Model"
   ]
  },
  {
   "cell_type": "code",
   "execution_count": 33,
   "metadata": {},
   "outputs": [
    {
     "name": "stdout",
     "output_type": "stream",
     "text": [
      "WARNING:tensorflow:From Z:\\Travis\\anaconda3\\lib\\site-packages\\tensorflow\\python\\ops\\init_ops.py:1251: calling VarianceScaling.__init__ (from tensorflow.python.ops.init_ops) with dtype is deprecated and will be removed in a future version.\n",
      "Instructions for updating:\n",
      "Call initializer instance with the dtype argument instead of passing it to the constructor\n",
      "Model: \"sequential\"\n",
      "_________________________________________________________________\n",
      "Layer (type)                 Output Shape              Param #   \n",
      "=================================================================\n",
      "dense (Dense)                (None, 80)                3520      \n",
      "_________________________________________________________________\n",
      "dense_1 (Dense)              (None, 30)                2430      \n",
      "_________________________________________________________________\n",
      "dense_2 (Dense)              (None, 1)                 31        \n",
      "=================================================================\n",
      "Total params: 5,981\n",
      "Trainable params: 5,981\n",
      "Non-trainable params: 0\n",
      "_________________________________________________________________\n"
     ]
    }
   ],
   "source": [
    "# Define the model - deep neural net, i.e., the number of input features and hidden nodes for each layer.\n",
    "#  YOUR CODE GOES HERE\n",
    "\n",
    "nn = tf.keras.models.Sequential()\n",
    "\n",
    "# First hidden layer\n",
    "#  YOUR CODE GOES HERE\n",
    "\n",
    "# Second hidden layer\n",
    "#  YOUR CODE GOES HERE\n",
    "\n",
    "# Output layer\n",
    "#  YOUR CODE GOES HERE\n",
    "\n",
    "# Check the structure of the model\n",
    "nn.summary()"
   ]
  },
  {
   "cell_type": "code",
   "execution_count": 34,
   "metadata": {},
   "outputs": [
    {
     "name": "stdout",
     "output_type": "stream",
     "text": [
      "WARNING:tensorflow:From Z:\\Travis\\anaconda3\\lib\\site-packages\\tensorflow\\python\\ops\\nn_impl.py:180: add_dispatch_support.<locals>.wrapper (from tensorflow.python.ops.array_ops) is deprecated and will be removed in a future version.\n",
      "Instructions for updating:\n",
      "Use tf.where in 2.0, which has the same broadcast rule as np.where\n"
     ]
    }
   ],
   "source": [
    "# Compile the model\n",
    "#  YOUR CODE GOES HERE"
   ]
  },
  {
   "cell_type": "code",
   "execution_count": 36,
   "metadata": {},
   "outputs": [
    {
     "name": "stdout",
     "output_type": "stream",
     "text": [
      "Epoch 1/100\n",
      "25724/25724 [==============================] - 2s 80us/sample - loss: 0.5700 - acc: 0.7234\n",
      "Epoch 2/100\n",
      "25724/25724 [==============================] - 1s 44us/sample - loss: 0.5556 - acc: 0.7294\n",
      "Epoch 3/100\n",
      "25724/25724 [==============================] - 1s 43us/sample - loss: 0.5529 - acc: 0.7304\n",
      "Epoch 4/100\n",
      "25724/25724 [==============================] - 1s 49us/sample - loss: 0.5514 - acc: 0.7318\n",
      "Epoch 5/100\n",
      "25724/25724 [==============================] - 1s 48us/sample - loss: 0.5495 - acc: 0.7322\n",
      "Epoch 6/100\n",
      "25724/25724 [==============================] - 1s 46us/sample - loss: 0.5488 - acc: 0.7330\n",
      "Epoch 7/100\n",
      "25724/25724 [==============================] - 1s 47us/sample - loss: 0.5482 - acc: 0.7335\n",
      "Epoch 8/100\n",
      "25724/25724 [==============================] - 1s 44us/sample - loss: 0.5475 - acc: 0.7326\n",
      "Epoch 9/100\n",
      "25724/25724 [==============================] - 1s 48us/sample - loss: 0.5468 - acc: 0.73491s - lo\n",
      "Epoch 10/100\n",
      "25724/25724 [==============================] - 1s 49us/sample - loss: 0.5465 - acc: 0.7350\n",
      "Epoch 11/100\n",
      "25724/25724 [==============================] - 1s 47us/sample - loss: 0.5459 - acc: 0.7345\n",
      "Epoch 12/100\n",
      "25724/25724 [==============================] - 1s 45us/sample - loss: 0.5456 - acc: 0.7362\n",
      "Epoch 13/100\n",
      "25724/25724 [==============================] - 1s 50us/sample - loss: 0.5458 - acc: 0.7339\n",
      "Epoch 14/100\n",
      "25724/25724 [==============================] - 1s 47us/sample - loss: 0.5450 - acc: 0.7361\n",
      "Epoch 15/100\n",
      "25724/25724 [==============================] - 1s 46us/sample - loss: 0.5447 - acc: 0.7353\n",
      "Epoch 16/100\n",
      "25724/25724 [==============================] - 1s 45us/sample - loss: 0.5444 - acc: 0.7356\n",
      "Epoch 17/100\n",
      "25724/25724 [==============================] - 1s 45us/sample - loss: 0.5440 - acc: 0.7358\n",
      "Epoch 18/100\n",
      "25724/25724 [==============================] - 1s 45us/sample - loss: 0.5442 - acc: 0.7367\n",
      "Epoch 19/100\n",
      "25724/25724 [==============================] - 1s 45us/sample - loss: 0.5436 - acc: 0.7360\n",
      "Epoch 20/100\n",
      "25724/25724 [==============================] - 1s 44us/sample - loss: 0.5435 - acc: 0.7365\n",
      "Epoch 21/100\n",
      "25724/25724 [==============================] - 1s 44us/sample - loss: 0.5426 - acc: 0.7377\n",
      "Epoch 22/100\n",
      "25724/25724 [==============================] - 1s 44us/sample - loss: 0.5429 - acc: 0.7367\n",
      "Epoch 23/100\n",
      "25724/25724 [==============================] - 1s 42us/sample - loss: 0.5428 - acc: 0.7382\n",
      "Epoch 24/100\n",
      "25724/25724 [==============================] - 1s 45us/sample - loss: 0.5425 - acc: 0.7376\n",
      "Epoch 25/100\n",
      "25724/25724 [==============================] - 1s 44us/sample - loss: 0.5421 - acc: 0.7379\n",
      "Epoch 26/100\n",
      "25724/25724 [==============================] - 1s 46us/sample - loss: 0.5419 - acc: 0.7382\n",
      "Epoch 27/100\n",
      "25724/25724 [==============================] - 1s 56us/sample - loss: 0.5415 - acc: 0.7384\n",
      "Epoch 28/100\n",
      "25724/25724 [==============================] - 2s 67us/sample - loss: 0.5418 - acc: 0.7381\n",
      "Epoch 29/100\n",
      "25724/25724 [==============================] - 2s 60us/sample - loss: 0.5415 - acc: 0.7381\n",
      "Epoch 30/100\n",
      "25724/25724 [==============================] - 2s 61us/sample - loss: 0.5410 - acc: 0.7382\n",
      "Epoch 31/100\n",
      "25724/25724 [==============================] - 1s 45us/sample - loss: 0.5414 - acc: 0.7381\n",
      "Epoch 32/100\n",
      "25724/25724 [==============================] - 1s 48us/sample - loss: 0.5407 - acc: 0.7388\n",
      "Epoch 33/100\n",
      "25724/25724 [==============================] - 1s 44us/sample - loss: 0.5412 - acc: 0.7374\n",
      "Epoch 34/100\n",
      "25724/25724 [==============================] - 1s 45us/sample - loss: 0.5405 - acc: 0.7383\n",
      "Epoch 35/100\n",
      "25724/25724 [==============================] - 1s 49us/sample - loss: 0.5405 - acc: 0.7388\n",
      "Epoch 36/100\n",
      "25724/25724 [==============================] - 1s 51us/sample - loss: 0.5405 - acc: 0.7384\n",
      "Epoch 37/100\n",
      "25724/25724 [==============================] - 1s 47us/sample - loss: 0.5403 - acc: 0.7379\n",
      "Epoch 38/100\n",
      "25724/25724 [==============================] - 1s 49us/sample - loss: 0.5401 - acc: 0.7392\n",
      "Epoch 39/100\n",
      "25724/25724 [==============================] - 1s 48us/sample - loss: 0.5405 - acc: 0.7387\n",
      "Epoch 40/100\n",
      "25724/25724 [==============================] - 1s 47us/sample - loss: 0.5399 - acc: 0.7390\n",
      "Epoch 41/100\n",
      "25724/25724 [==============================] - 1s 47us/sample - loss: 0.5395 - acc: 0.7394\n",
      "Epoch 42/100\n",
      "25724/25724 [==============================] - 1s 47us/sample - loss: 0.5399 - acc: 0.7391\n",
      "Epoch 43/100\n",
      "25724/25724 [==============================] - 1s 53us/sample - loss: 0.5396 - acc: 0.7389\n",
      "Epoch 44/100\n",
      "25724/25724 [==============================] - 1s 46us/sample - loss: 0.5398 - acc: 0.7397\n",
      "Epoch 45/100\n",
      "25724/25724 [==============================] - 1s 45us/sample - loss: 0.5395 - acc: 0.7400\n",
      "Epoch 46/100\n",
      "25724/25724 [==============================] - 1s 48us/sample - loss: 0.5389 - acc: 0.7391\n",
      "Epoch 47/100\n",
      "25724/25724 [==============================] - 1s 46us/sample - loss: 0.5391 - acc: 0.7393\n",
      "Epoch 48/100\n",
      "25724/25724 [==============================] - 1s 47us/sample - loss: 0.5390 - acc: 0.7383\n",
      "Epoch 49/100\n",
      "25724/25724 [==============================] - 1s 47us/sample - loss: 0.5391 - acc: 0.7390\n",
      "Epoch 50/100\n",
      "25724/25724 [==============================] - 1s 53us/sample - loss: 0.5387 - acc: 0.7402\n",
      "Epoch 51/100\n",
      "25724/25724 [==============================] - 1s 49us/sample - loss: 0.5388 - acc: 0.7393\n",
      "Epoch 52/100\n",
      "25724/25724 [==============================] - 1s 48us/sample - loss: 0.5389 - acc: 0.7393\n",
      "Epoch 53/100\n",
      "25724/25724 [==============================] - 1s 49us/sample - loss: 0.5387 - acc: 0.7394\n",
      "Epoch 54/100\n",
      "25724/25724 [==============================] - 1s 50us/sample - loss: 0.5385 - acc: 0.7395\n",
      "Epoch 55/100\n",
      "25724/25724 [==============================] - 1s 48us/sample - loss: 0.5381 - acc: 0.7394\n",
      "Epoch 56/100\n",
      "25724/25724 [==============================] - 2s 60us/sample - loss: 0.5384 - acc: 0.7396\n",
      "Epoch 57/100\n",
      "25724/25724 [==============================] - 1s 51us/sample - loss: 0.5384 - acc: 0.7392\n",
      "Epoch 58/100\n",
      "25724/25724 [==============================] - 1s 52us/sample - loss: 0.5382 - acc: 0.7398\n",
      "Epoch 59/100\n",
      "25724/25724 [==============================] - 1s 51us/sample - loss: 0.5382 - acc: 0.7390\n",
      "Epoch 60/100\n",
      "25724/25724 [==============================] - 1s 58us/sample - loss: 0.5383 - acc: 0.7395\n",
      "Epoch 61/100\n",
      "25724/25724 [==============================] - 1s 48us/sample - loss: 0.5380 - acc: 0.7393\n",
      "Epoch 62/100\n",
      "25724/25724 [==============================] - 1s 54us/sample - loss: 0.5386 - acc: 0.7395\n",
      "Epoch 63/100\n",
      "25724/25724 [==============================] - 1s 53us/sample - loss: 0.5379 - acc: 0.7397\n",
      "Epoch 64/100\n",
      "25724/25724 [==============================] - 1s 54us/sample - loss: 0.5383 - acc: 0.7414\n",
      "Epoch 65/100\n",
      "25724/25724 [==============================] - 1s 57us/sample - loss: 0.5376 - acc: 0.74031s \n",
      "Epoch 66/100\n",
      "25724/25724 [==============================] - 1s 55us/sample - loss: 0.5378 - acc: 0.7407\n",
      "Epoch 67/100\n",
      "25724/25724 [==============================] - 2s 60us/sample - loss: 0.5378 - acc: 0.7402\n",
      "Epoch 68/100\n",
      "25724/25724 [==============================] - 2s 68us/sample - loss: 0.5374 - acc: 0.7403\n",
      "Epoch 69/100\n",
      "25724/25724 [==============================] - 1s 55us/sample - loss: 0.5376 - acc: 0.7400\n",
      "Epoch 70/100\n",
      "25724/25724 [==============================] - 1s 51us/sample - loss: 0.5377 - acc: 0.7404\n",
      "Epoch 71/100\n",
      "25724/25724 [==============================] - 1s 53us/sample - loss: 0.5377 - acc: 0.7402\n",
      "Epoch 72/100\n",
      "25724/25724 [==============================] - 2s 61us/sample - loss: 0.5374 - acc: 0.7403\n",
      "Epoch 73/100\n",
      "25724/25724 [==============================] - 1s 58us/sample - loss: 0.5375 - acc: 0.7400\n",
      "Epoch 74/100\n",
      "25724/25724 [==============================] - 2s 63us/sample - loss: 0.5373 - acc: 0.7407\n",
      "Epoch 75/100\n",
      "25724/25724 [==============================] - 2s 72us/sample - loss: 0.5371 - acc: 0.7402\n",
      "Epoch 76/100\n",
      "25724/25724 [==============================] - 2s 66us/sample - loss: 0.5372 - acc: 0.7404\n",
      "Epoch 77/100\n",
      "25724/25724 [==============================] - 2s 63us/sample - loss: 0.5372 - acc: 0.7399\n",
      "Epoch 78/100\n",
      "25724/25724 [==============================] - 1s 51us/sample - loss: 0.5378 - acc: 0.7409\n",
      "Epoch 79/100\n",
      "25724/25724 [==============================] - 2s 70us/sample - loss: 0.5370 - acc: 0.7410\n",
      "Epoch 80/100\n",
      "25724/25724 [==============================] - 1s 46us/sample - loss: 0.5371 - acc: 0.7402\n",
      "Epoch 81/100\n",
      "25724/25724 [==============================] - 1s 48us/sample - loss: 0.5368 - acc: 0.7414\n",
      "Epoch 82/100\n",
      "25724/25724 [==============================] - 1s 46us/sample - loss: 0.5366 - acc: 0.7413\n",
      "Epoch 83/100\n",
      "25724/25724 [==============================] - 1s 48us/sample - loss: 0.5368 - acc: 0.7405\n",
      "Epoch 84/100\n",
      "25724/25724 [==============================] - 2s 65us/sample - loss: 0.5367 - acc: 0.7407\n",
      "Epoch 85/100\n",
      "25724/25724 [==============================] - 2s 64us/sample - loss: 0.5368 - acc: 0.7404\n",
      "Epoch 86/100\n",
      "25724/25724 [==============================] - 2s 69us/sample - loss: 0.5365 - acc: 0.7408\n",
      "Epoch 87/100\n",
      "25724/25724 [==============================] - 1s 53us/sample - loss: 0.5371 - acc: 0.7407\n",
      "Epoch 88/100\n",
      "25724/25724 [==============================] - 1s 57us/sample - loss: 0.5367 - acc: 0.7410\n",
      "Epoch 89/100\n",
      "25724/25724 [==============================] - 1s 48us/sample - loss: 0.5366 - acc: 0.7409\n",
      "Epoch 90/100\n",
      "25724/25724 [==============================] - 1s 48us/sample - loss: 0.5365 - acc: 0.7409\n",
      "Epoch 91/100\n",
      "25724/25724 [==============================] - 1s 48us/sample - loss: 0.5360 - acc: 0.7414\n",
      "Epoch 92/100\n",
      "25724/25724 [==============================] - 1s 50us/sample - loss: 0.5370 - acc: 0.7406\n",
      "Epoch 93/100\n",
      "25724/25724 [==============================] - 1s 46us/sample - loss: 0.5365 - acc: 0.7411\n",
      "Epoch 94/100\n",
      "25724/25724 [==============================] - 1s 50us/sample - loss: 0.5366 - acc: 0.7409\n",
      "Epoch 95/100\n",
      "25724/25724 [==============================] - 1s 56us/sample - loss: 0.5362 - acc: 0.7411\n",
      "Epoch 96/100\n",
      "25724/25724 [==============================] - 1s 50us/sample - loss: 0.5361 - acc: 0.7404\n",
      "Epoch 97/100\n",
      "25724/25724 [==============================] - 1s 54us/sample - loss: 0.5361 - acc: 0.74130s - loss: 0.5380 - \n",
      "Epoch 98/100\n",
      "25724/25724 [==============================] - 2s 64us/sample - loss: 0.5365 - acc: 0.7407\n",
      "Epoch 99/100\n",
      "25724/25724 [==============================] - 2s 80us/sample - loss: 0.5360 - acc: 0.7396\n",
      "Epoch 100/100\n",
      "25724/25724 [==============================] - 2s 64us/sample - loss: 0.5360 - acc: 0.7416\n"
     ]
    }
   ],
   "source": [
    "# Train the model\n",
    "#  YOUR CODE GOES HERE"
   ]
  },
  {
   "cell_type": "code",
   "execution_count": 37,
   "metadata": {},
   "outputs": [
    {
     "name": "stdout",
     "output_type": "stream",
     "text": [
      "8575/8575 - 0s - loss: 0.5578 - acc: 0.7263\n",
      "Loss: 0.557812534073699, Accuracy: 0.7262973785400391\n"
     ]
    }
   ],
   "source": [
    "# Evaluate the model using the test data\n",
    "model_loss, model_accuracy = nn.evaluate(X_test_scaled,y_test,verbose=2)\n",
    "print(f\"Loss: {model_loss}, Accuracy: {model_accuracy}\")"
   ]
  },
  {
   "cell_type": "code",
   "execution_count": 38,
   "metadata": {},
   "outputs": [],
   "source": [
    "# Export our model to HDF5 file\n",
    "#  YOUR CODE GOES HERE"
   ]
  }
 ],
 "metadata": {
  "kernelspec": {
   "display_name": "Python 3",
   "language": "python",
   "name": "python3"
  },
  "language_info": {
   "codemirror_mode": {
    "name": "ipython",
    "version": 3
   },
   "file_extension": ".py",
   "mimetype": "text/x-python",
   "name": "python",
   "nbconvert_exporter": "python",
   "pygments_lexer": "ipython3",
   "version": "3.7.6"
  }
 },
 "nbformat": 4,
 "nbformat_minor": 4
=======
  "nbformat": 4,
  "nbformat_minor": 0,
  "metadata": {
    "kernelspec": {
      "display_name": "Python 3",
      "language": "python",
      "name": "python3"
    },
    "language_info": {
      "codemirror_mode": {
        "name": "ipython",
        "version": 3
      },
      "file_extension": ".py",
      "mimetype": "text/x-python",
      "name": "python",
      "nbconvert_exporter": "python",
      "pygments_lexer": "ipython3",
      "version": "3.7.6"
    },
    "colab": {
      "name": "Starter_Code.ipynb",
      "provenance": [],
      "include_colab_link": true
    }
  },
  "cells": [
    {
      "cell_type": "markdown",
      "metadata": {
        "id": "view-in-github",
        "colab_type": "text"
      },
      "source": [
        "<a href=\"https://colab.research.google.com/github/susanquiros/Charity-Funding-Predictor--Deep-Learning-/blob/main/Starter_Code.ipynb\" target=\"_parent\"><img src=\"https://colab.research.google.com/assets/colab-badge.svg\" alt=\"Open In Colab\"/></a>"
      ]
    },
    {
      "cell_type": "markdown",
      "metadata": {
        "id": "s5SOn3lNmtAs"
      },
      "source": [
        "## Preprocessing"
      ]
    },
    {
      "cell_type": "code",
      "metadata": {
        "colab": {
          "resources": {
            "http://localhost:8080/nbextensions/google.colab/files.js": {
              "data": "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",
              "ok": true,
              "headers": [
                [
                  "content-type",
                  "application/javascript"
                ]
              ],
              "status": 200,
              "status_text": ""
            }
          },
          "base_uri": "https://localhost:8080/",
          "height": 73
        },
        "id": "4pA4GFwmnJbL",
        "outputId": "fbed12df-350f-4a0c-a241-99471928a985"
      },
      "source": [
        "from google.colab import files\n",
        "uploaded = files.upload()"
      ],
      "execution_count": 1,
      "outputs": [
        {
          "output_type": "display_data",
          "data": {
            "text/html": [
              "\n",
              "     <input type=\"file\" id=\"files-f7ef6b51-e9fa-4c2e-b41d-0ec4da4d41e7\" name=\"files[]\" multiple disabled\n",
              "        style=\"border:none\" />\n",
              "     <output id=\"result-f7ef6b51-e9fa-4c2e-b41d-0ec4da4d41e7\">\n",
              "      Upload widget is only available when the cell has been executed in the\n",
              "      current browser session. Please rerun this cell to enable.\n",
              "      </output>\n",
              "      <script src=\"/nbextensions/google.colab/files.js\"></script> "
            ],
            "text/plain": [
              "<IPython.core.display.HTML object>"
            ]
          },
          "metadata": {}
        },
        {
          "output_type": "stream",
          "name": "stdout",
          "text": [
            "Saving charity_data.csv to charity_data.csv\n"
          ]
        }
      ]
    },
    {
      "cell_type": "code",
      "metadata": {
        "colab": {
          "base_uri": "https://localhost:8080/",
          "height": 451
        },
        "id": "RW7V-UdymtA1",
        "outputId": "f0192e89-fae7-4b2d-9103-d2e619b47907"
      },
      "source": [
        "# Import our dependencies\n",
        "from sklearn.model_selection import train_test_split\n",
        "from sklearn.preprocessing import StandardScaler\n",
        "import pandas as pd\n",
        "import tensorflow as tf\n",
        "\n",
        "#  Import and read the charity_data.csv.\n",
        "import pandas as pd \n",
        "# application_df = pd.read_csv(\"Resources/charity_data.csv\")\n",
        "application_df = pd.read_csv('charity_data.csv')\n",
        "application_df.head()"
      ],
      "execution_count": 29,
      "outputs": [
        {
          "output_type": "execute_result",
          "data": {
            "text/html": [
              "<div>\n",
              "<style scoped>\n",
              "    .dataframe tbody tr th:only-of-type {\n",
              "        vertical-align: middle;\n",
              "    }\n",
              "\n",
              "    .dataframe tbody tr th {\n",
              "        vertical-align: top;\n",
              "    }\n",
              "\n",
              "    .dataframe thead th {\n",
              "        text-align: right;\n",
              "    }\n",
              "</style>\n",
              "<table border=\"1\" class=\"dataframe\">\n",
              "  <thead>\n",
              "    <tr style=\"text-align: right;\">\n",
              "      <th></th>\n",
              "      <th>EIN</th>\n",
              "      <th>NAME</th>\n",
              "      <th>APPLICATION_TYPE</th>\n",
              "      <th>AFFILIATION</th>\n",
              "      <th>CLASSIFICATION</th>\n",
              "      <th>USE_CASE</th>\n",
              "      <th>ORGANIZATION</th>\n",
              "      <th>STATUS</th>\n",
              "      <th>INCOME_AMT</th>\n",
              "      <th>SPECIAL_CONSIDERATIONS</th>\n",
              "      <th>ASK_AMT</th>\n",
              "      <th>IS_SUCCESSFUL</th>\n",
              "    </tr>\n",
              "  </thead>\n",
              "  <tbody>\n",
              "    <tr>\n",
              "      <th>0</th>\n",
              "      <td>10520599</td>\n",
              "      <td>BLUE KNIGHTS MOTORCYCLE CLUB</td>\n",
              "      <td>T10</td>\n",
              "      <td>Independent</td>\n",
              "      <td>C1000</td>\n",
              "      <td>ProductDev</td>\n",
              "      <td>Association</td>\n",
              "      <td>1</td>\n",
              "      <td>0</td>\n",
              "      <td>N</td>\n",
              "      <td>5000</td>\n",
              "      <td>1</td>\n",
              "    </tr>\n",
              "    <tr>\n",
              "      <th>1</th>\n",
              "      <td>10531628</td>\n",
              "      <td>AMERICAN CHESAPEAKE CLUB CHARITABLE TR</td>\n",
              "      <td>T3</td>\n",
              "      <td>Independent</td>\n",
              "      <td>C2000</td>\n",
              "      <td>Preservation</td>\n",
              "      <td>Co-operative</td>\n",
              "      <td>1</td>\n",
              "      <td>1-9999</td>\n",
              "      <td>N</td>\n",
              "      <td>108590</td>\n",
              "      <td>1</td>\n",
              "    </tr>\n",
              "    <tr>\n",
              "      <th>2</th>\n",
              "      <td>10547893</td>\n",
              "      <td>ST CLOUD PROFESSIONAL FIREFIGHTERS</td>\n",
              "      <td>T5</td>\n",
              "      <td>CompanySponsored</td>\n",
              "      <td>C3000</td>\n",
              "      <td>ProductDev</td>\n",
              "      <td>Association</td>\n",
              "      <td>1</td>\n",
              "      <td>0</td>\n",
              "      <td>N</td>\n",
              "      <td>5000</td>\n",
              "      <td>0</td>\n",
              "    </tr>\n",
              "    <tr>\n",
              "      <th>3</th>\n",
              "      <td>10553066</td>\n",
              "      <td>SOUTHSIDE ATHLETIC ASSOCIATION</td>\n",
              "      <td>T3</td>\n",
              "      <td>CompanySponsored</td>\n",
              "      <td>C2000</td>\n",
              "      <td>Preservation</td>\n",
              "      <td>Trust</td>\n",
              "      <td>1</td>\n",
              "      <td>10000-24999</td>\n",
              "      <td>N</td>\n",
              "      <td>6692</td>\n",
              "      <td>1</td>\n",
              "    </tr>\n",
              "    <tr>\n",
              "      <th>4</th>\n",
              "      <td>10556103</td>\n",
              "      <td>GENETIC RESEARCH INSTITUTE OF THE DESERT</td>\n",
              "      <td>T3</td>\n",
              "      <td>Independent</td>\n",
              "      <td>C1000</td>\n",
              "      <td>Heathcare</td>\n",
              "      <td>Trust</td>\n",
              "      <td>1</td>\n",
              "      <td>100000-499999</td>\n",
              "      <td>N</td>\n",
              "      <td>142590</td>\n",
              "      <td>1</td>\n",
              "    </tr>\n",
              "  </tbody>\n",
              "</table>\n",
              "</div>"
            ],
            "text/plain": [
              "        EIN                                      NAME  ... ASK_AMT IS_SUCCESSFUL\n",
              "0  10520599              BLUE KNIGHTS MOTORCYCLE CLUB  ...    5000             1\n",
              "1  10531628    AMERICAN CHESAPEAKE CLUB CHARITABLE TR  ...  108590             1\n",
              "2  10547893        ST CLOUD PROFESSIONAL FIREFIGHTERS  ...    5000             0\n",
              "3  10553066            SOUTHSIDE ATHLETIC ASSOCIATION  ...    6692             1\n",
              "4  10556103  GENETIC RESEARCH INSTITUTE OF THE DESERT  ...  142590             1\n",
              "\n",
              "[5 rows x 12 columns]"
            ]
          },
          "metadata": {},
          "execution_count": 29
        }
      ]
    },
    {
      "cell_type": "code",
      "metadata": {
        "colab": {
          "base_uri": "https://localhost:8080/",
          "height": 478
        },
        "id": "aOZfVRkvmtA5",
        "outputId": "6316c55c-7922-405c-bfde-8705ef38d656"
      },
      "source": [
        "# Drop the non-beneficial ID columns, 'EIN' and 'NAME'.\n",
        "#  YOUR CODE GOES HERE\n",
        "application_clean = application_df.drop(columns=['EIN', 'NAME'], axis =1)\n",
        "application_clean"
      ],
      "execution_count": 30,
      "outputs": [
        {
          "output_type": "execute_result",
          "data": {
            "text/html": [
              "<div>\n",
              "<style scoped>\n",
              "    .dataframe tbody tr th:only-of-type {\n",
              "        vertical-align: middle;\n",
              "    }\n",
              "\n",
              "    .dataframe tbody tr th {\n",
              "        vertical-align: top;\n",
              "    }\n",
              "\n",
              "    .dataframe thead th {\n",
              "        text-align: right;\n",
              "    }\n",
              "</style>\n",
              "<table border=\"1\" class=\"dataframe\">\n",
              "  <thead>\n",
              "    <tr style=\"text-align: right;\">\n",
              "      <th></th>\n",
              "      <th>APPLICATION_TYPE</th>\n",
              "      <th>AFFILIATION</th>\n",
              "      <th>CLASSIFICATION</th>\n",
              "      <th>USE_CASE</th>\n",
              "      <th>ORGANIZATION</th>\n",
              "      <th>STATUS</th>\n",
              "      <th>INCOME_AMT</th>\n",
              "      <th>SPECIAL_CONSIDERATIONS</th>\n",
              "      <th>ASK_AMT</th>\n",
              "      <th>IS_SUCCESSFUL</th>\n",
              "    </tr>\n",
              "  </thead>\n",
              "  <tbody>\n",
              "    <tr>\n",
              "      <th>0</th>\n",
              "      <td>T10</td>\n",
              "      <td>Independent</td>\n",
              "      <td>C1000</td>\n",
              "      <td>ProductDev</td>\n",
              "      <td>Association</td>\n",
              "      <td>1</td>\n",
              "      <td>0</td>\n",
              "      <td>N</td>\n",
              "      <td>5000</td>\n",
              "      <td>1</td>\n",
              "    </tr>\n",
              "    <tr>\n",
              "      <th>1</th>\n",
              "      <td>T3</td>\n",
              "      <td>Independent</td>\n",
              "      <td>C2000</td>\n",
              "      <td>Preservation</td>\n",
              "      <td>Co-operative</td>\n",
              "      <td>1</td>\n",
              "      <td>1-9999</td>\n",
              "      <td>N</td>\n",
              "      <td>108590</td>\n",
              "      <td>1</td>\n",
              "    </tr>\n",
              "    <tr>\n",
              "      <th>2</th>\n",
              "      <td>T5</td>\n",
              "      <td>CompanySponsored</td>\n",
              "      <td>C3000</td>\n",
              "      <td>ProductDev</td>\n",
              "      <td>Association</td>\n",
              "      <td>1</td>\n",
              "      <td>0</td>\n",
              "      <td>N</td>\n",
              "      <td>5000</td>\n",
              "      <td>0</td>\n",
              "    </tr>\n",
              "    <tr>\n",
              "      <th>3</th>\n",
              "      <td>T3</td>\n",
              "      <td>CompanySponsored</td>\n",
              "      <td>C2000</td>\n",
              "      <td>Preservation</td>\n",
              "      <td>Trust</td>\n",
              "      <td>1</td>\n",
              "      <td>10000-24999</td>\n",
              "      <td>N</td>\n",
              "      <td>6692</td>\n",
              "      <td>1</td>\n",
              "    </tr>\n",
              "    <tr>\n",
              "      <th>4</th>\n",
              "      <td>T3</td>\n",
              "      <td>Independent</td>\n",
              "      <td>C1000</td>\n",
              "      <td>Heathcare</td>\n",
              "      <td>Trust</td>\n",
              "      <td>1</td>\n",
              "      <td>100000-499999</td>\n",
              "      <td>N</td>\n",
              "      <td>142590</td>\n",
              "      <td>1</td>\n",
              "    </tr>\n",
              "    <tr>\n",
              "      <th>...</th>\n",
              "      <td>...</td>\n",
              "      <td>...</td>\n",
              "      <td>...</td>\n",
              "      <td>...</td>\n",
              "      <td>...</td>\n",
              "      <td>...</td>\n",
              "      <td>...</td>\n",
              "      <td>...</td>\n",
              "      <td>...</td>\n",
              "      <td>...</td>\n",
              "    </tr>\n",
              "    <tr>\n",
              "      <th>34294</th>\n",
              "      <td>T4</td>\n",
              "      <td>Independent</td>\n",
              "      <td>C1000</td>\n",
              "      <td>ProductDev</td>\n",
              "      <td>Association</td>\n",
              "      <td>1</td>\n",
              "      <td>0</td>\n",
              "      <td>N</td>\n",
              "      <td>5000</td>\n",
              "      <td>0</td>\n",
              "    </tr>\n",
              "    <tr>\n",
              "      <th>34295</th>\n",
              "      <td>T4</td>\n",
              "      <td>CompanySponsored</td>\n",
              "      <td>C3000</td>\n",
              "      <td>ProductDev</td>\n",
              "      <td>Association</td>\n",
              "      <td>1</td>\n",
              "      <td>0</td>\n",
              "      <td>N</td>\n",
              "      <td>5000</td>\n",
              "      <td>0</td>\n",
              "    </tr>\n",
              "    <tr>\n",
              "      <th>34296</th>\n",
              "      <td>T3</td>\n",
              "      <td>CompanySponsored</td>\n",
              "      <td>C2000</td>\n",
              "      <td>Preservation</td>\n",
              "      <td>Association</td>\n",
              "      <td>1</td>\n",
              "      <td>0</td>\n",
              "      <td>N</td>\n",
              "      <td>5000</td>\n",
              "      <td>0</td>\n",
              "    </tr>\n",
              "    <tr>\n",
              "      <th>34297</th>\n",
              "      <td>T5</td>\n",
              "      <td>Independent</td>\n",
              "      <td>C3000</td>\n",
              "      <td>ProductDev</td>\n",
              "      <td>Association</td>\n",
              "      <td>1</td>\n",
              "      <td>0</td>\n",
              "      <td>N</td>\n",
              "      <td>5000</td>\n",
              "      <td>1</td>\n",
              "    </tr>\n",
              "    <tr>\n",
              "      <th>34298</th>\n",
              "      <td>T3</td>\n",
              "      <td>Independent</td>\n",
              "      <td>C1000</td>\n",
              "      <td>Preservation</td>\n",
              "      <td>Co-operative</td>\n",
              "      <td>1</td>\n",
              "      <td>1M-5M</td>\n",
              "      <td>N</td>\n",
              "      <td>36500179</td>\n",
              "      <td>0</td>\n",
              "    </tr>\n",
              "  </tbody>\n",
              "</table>\n",
              "<p>34299 rows × 10 columns</p>\n",
              "</div>"
            ],
            "text/plain": [
              "      APPLICATION_TYPE       AFFILIATION  ...   ASK_AMT IS_SUCCESSFUL\n",
              "0                  T10       Independent  ...      5000             1\n",
              "1                   T3       Independent  ...    108590             1\n",
              "2                   T5  CompanySponsored  ...      5000             0\n",
              "3                   T3  CompanySponsored  ...      6692             1\n",
              "4                   T3       Independent  ...    142590             1\n",
              "...                ...               ...  ...       ...           ...\n",
              "34294               T4       Independent  ...      5000             0\n",
              "34295               T4  CompanySponsored  ...      5000             0\n",
              "34296               T3  CompanySponsored  ...      5000             0\n",
              "34297               T5       Independent  ...      5000             1\n",
              "34298               T3       Independent  ...  36500179             0\n",
              "\n",
              "[34299 rows x 10 columns]"
            ]
          },
          "metadata": {},
          "execution_count": 30
        }
      ]
    },
    {
      "cell_type": "code",
      "metadata": {
        "colab": {
          "base_uri": "https://localhost:8080/"
        },
        "id": "eOwEcDM_mtA6",
        "outputId": "3d4315b3-933e-4508-e2ac-ec10c710e75f"
      },
      "source": [
        "# Determine the number of unique values in each column.\n",
        "application_clean.nunique()"
      ],
      "execution_count": 31,
      "outputs": [
        {
          "output_type": "execute_result",
          "data": {
            "text/plain": [
              "APPLICATION_TYPE            17\n",
              "AFFILIATION                  6\n",
              "CLASSIFICATION              71\n",
              "USE_CASE                     5\n",
              "ORGANIZATION                 4\n",
              "STATUS                       2\n",
              "INCOME_AMT                   9\n",
              "SPECIAL_CONSIDERATIONS       2\n",
              "ASK_AMT                   8747\n",
              "IS_SUCCESSFUL                2\n",
              "dtype: int64"
            ]
          },
          "metadata": {},
          "execution_count": 31
        }
      ]
    },
    {
      "cell_type": "code",
      "metadata": {
        "colab": {
          "base_uri": "https://localhost:8080/",
          "height": 291
        },
        "id": "ISXh51SjmtA7",
        "outputId": "33550ba2-fcc5-418e-b4ab-2d04327f250f"
      },
      "source": [
        "# Look at APPLICATION_TYPE value counts for binning\n",
        "application_clean.APPLICATION_TYPE.value_counts().plot(kind= 'bar')"
      ],
      "execution_count": 32,
      "outputs": [
        {
          "output_type": "execute_result",
          "data": {
            "text/plain": [
              "<matplotlib.axes._subplots.AxesSubplot at 0x7fa42467cf90>"
            ]
          },
          "metadata": {},
          "execution_count": 32
        },
        {
          "output_type": "display_data",
          "data": {
            "image/png": "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\n",
            "text/plain": [
              "<Figure size 432x288 with 1 Axes>"
            ]
          },
          "metadata": {
            "needs_background": "light"
          }
        }
      ]
    },
    {
      "cell_type": "code",
      "metadata": {
        "colab": {
          "base_uri": "https://localhost:8080/"
        },
        "id": "G-odhubqso0e",
        "outputId": "4320d2d5-e9e3-4fb7-9ad5-c60955575f7b"
      },
      "source": [
        "application_clean.APPLICATION_TYPE.value_counts()"
      ],
      "execution_count": 33,
      "outputs": [
        {
          "output_type": "execute_result",
          "data": {
            "text/plain": [
              "T3     27037\n",
              "T4      1542\n",
              "T6      1216\n",
              "T5      1173\n",
              "T19     1065\n",
              "T8       737\n",
              "T7       725\n",
              "T10      528\n",
              "T9       156\n",
              "T13       66\n",
              "T12       27\n",
              "T2        16\n",
              "T14        3\n",
              "T25        3\n",
              "T15        2\n",
              "T29        2\n",
              "T17        1\n",
              "Name: APPLICATION_TYPE, dtype: int64"
            ]
          },
          "metadata": {},
          "execution_count": 33
        }
      ]
    },
    {
      "cell_type": "code",
      "metadata": {
        "colab": {
          "base_uri": "https://localhost:8080/",
          "height": 283
        },
        "id": "fq6oosbZrIsA",
        "outputId": "855e8ec5-e6da-4611-e09e-42f6cd490e0a"
      },
      "source": [
        "#Density plot- https://www.geeksforgeeks.org/density-plots-with-pandas-in-python/\n",
        "application_clean.APPLICATION_TYPE.value_counts().plot.density()"
      ],
      "execution_count": 34,
      "outputs": [
        {
          "output_type": "execute_result",
          "data": {
            "text/plain": [
              "<matplotlib.axes._subplots.AxesSubplot at 0x7fa4243d22d0>"
            ]
          },
          "metadata": {},
          "execution_count": 34
        },
        {
          "output_type": "display_data",
          "data": {
            "image/png": "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\n",
            "text/plain": [
              "<Figure size 432x288 with 1 Axes>"
            ]
          },
          "metadata": {
            "needs_background": "light"
          }
        }
      ]
    },
    {
      "cell_type": "code",
      "metadata": {
        "colab": {
          "base_uri": "https://localhost:8080/"
        },
        "id": "g5KzEpJ8mtA8",
        "outputId": "744fc8c7-4614-4360-a106-4dbcf5173372"
      },
      "source": [
        "# Choose a cutoff value and create a list of application types to be replaced\n",
        "# use the variable name `application_types_to_replace`-- My cutoff is for aplication types > 500\n",
        "application_types_to_replace = ['T9','T13','T12','T2', 'T25', 'T14', 'T29', \"T15\", 'T17']\n",
        "\n",
        "\n",
        "# Replace in dataframe\n",
        "for app in application_types_to_replace:\n",
        "    application_clean['APPLICATION_TYPE'] = application_clean['APPLICATION_TYPE'].replace(app,\"Other\")\n",
        "\n",
        "# Check to make sure binning was successful\n",
        "application_clean['APPLICATION_TYPE'].value_counts()"
      ],
      "execution_count": 35,
      "outputs": [
        {
          "output_type": "execute_result",
          "data": {
            "text/plain": [
              "T3       27037\n",
              "T4        1542\n",
              "T6        1216\n",
              "T5        1173\n",
              "T19       1065\n",
              "T8         737\n",
              "T7         725\n",
              "T10        528\n",
              "Other      276\n",
              "Name: APPLICATION_TYPE, dtype: int64"
            ]
          },
          "metadata": {},
          "execution_count": 35
        }
      ]
    },
    {
      "cell_type": "code",
      "metadata": {
        "colab": {
          "base_uri": "https://localhost:8080/"
        },
        "id": "eKBnuyiQmtA-",
        "outputId": "1b486b67-7a37-41f0-8cff-c3cb3bb7696f"
      },
      "source": [
        "# Look at CLASSIFICATION value counts for binning\n",
        "application_clean.CLASSIFICATION.value_counts()"
      ],
      "execution_count": 36,
      "outputs": [
        {
          "output_type": "execute_result",
          "data": {
            "text/plain": [
              "C1000    17326\n",
              "C2000     6074\n",
              "C1200     4837\n",
              "C3000     1918\n",
              "C2100     1883\n",
              "         ...  \n",
              "C2570        1\n",
              "C2170        1\n",
              "C1900        1\n",
              "C1728        1\n",
              "C1732        1\n",
              "Name: CLASSIFICATION, Length: 71, dtype: int64"
            ]
          },
          "metadata": {},
          "execution_count": 36
        }
      ]
    },
    {
      "cell_type": "code",
      "metadata": {
        "id": "PldQulW-mtA_"
      },
      "source": [
        "# You may find it helpful to look at CLASSIFICATION value counts >1\n",
        "# application_clean['CLASSIFICATION'].value_counts().loc[lambda x : x>1]"
      ],
      "execution_count": 37,
      "outputs": []
    },
    {
      "cell_type": "code",
      "metadata": {
        "id": "LM-mz6FG2w9m",
        "colab": {
          "base_uri": "https://localhost:8080/"
        },
        "outputId": "0100df43-d549-4811-fb44-e0dfbb2437c6"
      },
      "source": [
        "classification_value = application_df.loc[:, 'CLASSIFICATION'].value_counts()\n",
        "classification_value"
      ],
      "execution_count": 38,
      "outputs": [
        {
          "output_type": "execute_result",
          "data": {
            "text/plain": [
              "C1000    17326\n",
              "C2000     6074\n",
              "C1200     4837\n",
              "C3000     1918\n",
              "C2100     1883\n",
              "         ...  \n",
              "C2570        1\n",
              "C2170        1\n",
              "C1900        1\n",
              "C1728        1\n",
              "C1732        1\n",
              "Name: CLASSIFICATION, Length: 71, dtype: int64"
            ]
          },
          "metadata": {},
          "execution_count": 38
        }
      ]
    },
    {
      "cell_type": "code",
      "metadata": {
        "colab": {
          "base_uri": "https://localhost:8080/",
          "height": 283
        },
        "id": "a7PA4VSu1dhf",
        "outputId": "8b64afb3-ab79-4147-e8ba-d4130ee28479"
      },
      "source": [
        "application_clean.CLASSIFICATION.value_counts().plot.density()"
      ],
      "execution_count": 39,
      "outputs": [
        {
          "output_type": "execute_result",
          "data": {
            "text/plain": [
              "<matplotlib.axes._subplots.AxesSubplot at 0x7fa4243a4d10>"
            ]
          },
          "metadata": {},
          "execution_count": 39
        },
        {
          "output_type": "display_data",
          "data": {
            "image/png": "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\n",
            "text/plain": [
              "<Figure size 432x288 with 1 Axes>"
            ]
          },
          "metadata": {
            "needs_background": "light"
          }
        }
      ]
    },
    {
      "cell_type": "code",
      "metadata": {
        "colab": {
          "base_uri": "https://localhost:8080/"
        },
        "id": "lVQlH-p9mtBA",
        "outputId": "4f91638b-b841-4fcf-e4ed-05456c8f26c8"
      },
      "source": [
        "# Choose a cutoff value and create a list of classifications to be replaced\n",
        "# use the variable name `classifications_to_replace`\n",
        "classifications_to_replace = list(classification_value[classification_value<500].index)\n",
        "# Replace in dataframe\n",
        "for cls in classifications_to_replace:\n",
        "    application_clean['CLASSIFICATION'] = application_clean['CLASSIFICATION'].replace(cls,\"Other\")\n",
        "    \n",
        "# Check to make sure binning was successful\n",
        "application_clean['CLASSIFICATION'].value_counts()"
      ],
      "execution_count": 40,
      "outputs": [
        {
          "output_type": "execute_result",
          "data": {
            "text/plain": [
              "C1000    17326\n",
              "C2000     6074\n",
              "C1200     4837\n",
              "C3000     1918\n",
              "C2100     1883\n",
              "Other     1484\n",
              "C7000      777\n",
              "Name: CLASSIFICATION, dtype: int64"
            ]
          },
          "metadata": {},
          "execution_count": 40
        }
      ]
    },
    {
      "cell_type": "code",
      "metadata": {
        "id": "TnO30wq6mtBB",
        "colab": {
          "base_uri": "https://localhost:8080/",
          "height": 461
        },
        "outputId": "e4ffd5d1-4d64-417b-972b-cc80e68b6fbe"
      },
      "source": [
        "# Convert categorical data to numeric with `pd.get_dummies`\n",
        "application_clean = pd.get_dummies(application_clean, dtype=float)\n",
        "application_clean"
      ],
      "execution_count": 41,
      "outputs": [
        {
          "output_type": "execute_result",
          "data": {
            "text/html": [
              "<div>\n",
              "<style scoped>\n",
              "    .dataframe tbody tr th:only-of-type {\n",
              "        vertical-align: middle;\n",
              "    }\n",
              "\n",
              "    .dataframe tbody tr th {\n",
              "        vertical-align: top;\n",
              "    }\n",
              "\n",
              "    .dataframe thead th {\n",
              "        text-align: right;\n",
              "    }\n",
              "</style>\n",
              "<table border=\"1\" class=\"dataframe\">\n",
              "  <thead>\n",
              "    <tr style=\"text-align: right;\">\n",
              "      <th></th>\n",
              "      <th>STATUS</th>\n",
              "      <th>ASK_AMT</th>\n",
              "      <th>IS_SUCCESSFUL</th>\n",
              "      <th>APPLICATION_TYPE_Other</th>\n",
              "      <th>APPLICATION_TYPE_T10</th>\n",
              "      <th>APPLICATION_TYPE_T19</th>\n",
              "      <th>APPLICATION_TYPE_T3</th>\n",
              "      <th>APPLICATION_TYPE_T4</th>\n",
              "      <th>APPLICATION_TYPE_T5</th>\n",
              "      <th>APPLICATION_TYPE_T6</th>\n",
              "      <th>APPLICATION_TYPE_T7</th>\n",
              "      <th>APPLICATION_TYPE_T8</th>\n",
              "      <th>AFFILIATION_CompanySponsored</th>\n",
              "      <th>AFFILIATION_Family/Parent</th>\n",
              "      <th>AFFILIATION_Independent</th>\n",
              "      <th>AFFILIATION_National</th>\n",
              "      <th>AFFILIATION_Other</th>\n",
              "      <th>AFFILIATION_Regional</th>\n",
              "      <th>CLASSIFICATION_C1000</th>\n",
              "      <th>CLASSIFICATION_C1200</th>\n",
              "      <th>CLASSIFICATION_C2000</th>\n",
              "      <th>CLASSIFICATION_C2100</th>\n",
              "      <th>CLASSIFICATION_C3000</th>\n",
              "      <th>CLASSIFICATION_C7000</th>\n",
              "      <th>CLASSIFICATION_Other</th>\n",
              "      <th>USE_CASE_CommunityServ</th>\n",
              "      <th>USE_CASE_Heathcare</th>\n",
              "      <th>USE_CASE_Other</th>\n",
              "      <th>USE_CASE_Preservation</th>\n",
              "      <th>USE_CASE_ProductDev</th>\n",
              "      <th>ORGANIZATION_Association</th>\n",
              "      <th>ORGANIZATION_Co-operative</th>\n",
              "      <th>ORGANIZATION_Corporation</th>\n",
              "      <th>ORGANIZATION_Trust</th>\n",
              "      <th>INCOME_AMT_0</th>\n",
              "      <th>INCOME_AMT_1-9999</th>\n",
              "      <th>INCOME_AMT_10000-24999</th>\n",
              "      <th>INCOME_AMT_100000-499999</th>\n",
              "      <th>INCOME_AMT_10M-50M</th>\n",
              "      <th>INCOME_AMT_1M-5M</th>\n",
              "      <th>INCOME_AMT_25000-99999</th>\n",
              "      <th>INCOME_AMT_50M+</th>\n",
              "      <th>INCOME_AMT_5M-10M</th>\n",
              "      <th>SPECIAL_CONSIDERATIONS_N</th>\n",
              "      <th>SPECIAL_CONSIDERATIONS_Y</th>\n",
              "    </tr>\n",
              "  </thead>\n",
              "  <tbody>\n",
              "    <tr>\n",
              "      <th>0</th>\n",
              "      <td>1</td>\n",
              "      <td>5000</td>\n",
              "      <td>1</td>\n",
              "      <td>0.0</td>\n",
              "      <td>1.0</td>\n",
              "      <td>0.0</td>\n",
              "      <td>0.0</td>\n",
              "      <td>0.0</td>\n",
              "      <td>0.0</td>\n",
              "      <td>0.0</td>\n",
              "      <td>0.0</td>\n",
              "      <td>0.0</td>\n",
              "      <td>0.0</td>\n",
              "      <td>0.0</td>\n",
              "      <td>1.0</td>\n",
              "      <td>0.0</td>\n",
              "      <td>0.0</td>\n",
              "      <td>0.0</td>\n",
              "      <td>1.0</td>\n",
              "      <td>0.0</td>\n",
              "      <td>0.0</td>\n",
              "      <td>0.0</td>\n",
              "      <td>0.0</td>\n",
              "      <td>0.0</td>\n",
              "      <td>0.0</td>\n",
              "      <td>0.0</td>\n",
              "      <td>0.0</td>\n",
              "      <td>0.0</td>\n",
              "      <td>0.0</td>\n",
              "      <td>1.0</td>\n",
              "      <td>1.0</td>\n",
              "      <td>0.0</td>\n",
              "      <td>0.0</td>\n",
              "      <td>0.0</td>\n",
              "      <td>1.0</td>\n",
              "      <td>0.0</td>\n",
              "      <td>0.0</td>\n",
              "      <td>0.0</td>\n",
              "      <td>0.0</td>\n",
              "      <td>0.0</td>\n",
              "      <td>0.0</td>\n",
              "      <td>0.0</td>\n",
              "      <td>0.0</td>\n",
              "      <td>1.0</td>\n",
              "      <td>0.0</td>\n",
              "    </tr>\n",
              "    <tr>\n",
              "      <th>1</th>\n",
              "      <td>1</td>\n",
              "      <td>108590</td>\n",
              "      <td>1</td>\n",
              "      <td>0.0</td>\n",
              "      <td>0.0</td>\n",
              "      <td>0.0</td>\n",
              "      <td>1.0</td>\n",
              "      <td>0.0</td>\n",
              "      <td>0.0</td>\n",
              "      <td>0.0</td>\n",
              "      <td>0.0</td>\n",
              "      <td>0.0</td>\n",
              "      <td>0.0</td>\n",
              "      <td>0.0</td>\n",
              "      <td>1.0</td>\n",
              "      <td>0.0</td>\n",
              "      <td>0.0</td>\n",
              "      <td>0.0</td>\n",
              "      <td>0.0</td>\n",
              "      <td>0.0</td>\n",
              "      <td>1.0</td>\n",
              "      <td>0.0</td>\n",
              "      <td>0.0</td>\n",
              "      <td>0.0</td>\n",
              "      <td>0.0</td>\n",
              "      <td>0.0</td>\n",
              "      <td>0.0</td>\n",
              "      <td>0.0</td>\n",
              "      <td>1.0</td>\n",
              "      <td>0.0</td>\n",
              "      <td>0.0</td>\n",
              "      <td>1.0</td>\n",
              "      <td>0.0</td>\n",
              "      <td>0.0</td>\n",
              "      <td>0.0</td>\n",
              "      <td>1.0</td>\n",
              "      <td>0.0</td>\n",
              "      <td>0.0</td>\n",
              "      <td>0.0</td>\n",
              "      <td>0.0</td>\n",
              "      <td>0.0</td>\n",
              "      <td>0.0</td>\n",
              "      <td>0.0</td>\n",
              "      <td>1.0</td>\n",
              "      <td>0.0</td>\n",
              "    </tr>\n",
              "    <tr>\n",
              "      <th>2</th>\n",
              "      <td>1</td>\n",
              "      <td>5000</td>\n",
              "      <td>0</td>\n",
              "      <td>0.0</td>\n",
              "      <td>0.0</td>\n",
              "      <td>0.0</td>\n",
              "      <td>0.0</td>\n",
              "      <td>0.0</td>\n",
              "      <td>1.0</td>\n",
              "      <td>0.0</td>\n",
              "      <td>0.0</td>\n",
              "      <td>0.0</td>\n",
              "      <td>1.0</td>\n",
              "      <td>0.0</td>\n",
              "      <td>0.0</td>\n",
              "      <td>0.0</td>\n",
              "      <td>0.0</td>\n",
              "      <td>0.0</td>\n",
              "      <td>0.0</td>\n",
              "      <td>0.0</td>\n",
              "      <td>0.0</td>\n",
              "      <td>0.0</td>\n",
              "      <td>1.0</td>\n",
              "      <td>0.0</td>\n",
              "      <td>0.0</td>\n",
              "      <td>0.0</td>\n",
              "      <td>0.0</td>\n",
              "      <td>0.0</td>\n",
              "      <td>0.0</td>\n",
              "      <td>1.0</td>\n",
              "      <td>1.0</td>\n",
              "      <td>0.0</td>\n",
              "      <td>0.0</td>\n",
              "      <td>0.0</td>\n",
              "      <td>1.0</td>\n",
              "      <td>0.0</td>\n",
              "      <td>0.0</td>\n",
              "      <td>0.0</td>\n",
              "      <td>0.0</td>\n",
              "      <td>0.0</td>\n",
              "      <td>0.0</td>\n",
              "      <td>0.0</td>\n",
              "      <td>0.0</td>\n",
              "      <td>1.0</td>\n",
              "      <td>0.0</td>\n",
              "    </tr>\n",
              "    <tr>\n",
              "      <th>3</th>\n",
              "      <td>1</td>\n",
              "      <td>6692</td>\n",
              "      <td>1</td>\n",
              "      <td>0.0</td>\n",
              "      <td>0.0</td>\n",
              "      <td>0.0</td>\n",
              "      <td>1.0</td>\n",
              "      <td>0.0</td>\n",
              "      <td>0.0</td>\n",
              "      <td>0.0</td>\n",
              "      <td>0.0</td>\n",
              "      <td>0.0</td>\n",
              "      <td>1.0</td>\n",
              "      <td>0.0</td>\n",
              "      <td>0.0</td>\n",
              "      <td>0.0</td>\n",
              "      <td>0.0</td>\n",
              "      <td>0.0</td>\n",
              "      <td>0.0</td>\n",
              "      <td>0.0</td>\n",
              "      <td>1.0</td>\n",
              "      <td>0.0</td>\n",
              "      <td>0.0</td>\n",
              "      <td>0.0</td>\n",
              "      <td>0.0</td>\n",
              "      <td>0.0</td>\n",
              "      <td>0.0</td>\n",
              "      <td>0.0</td>\n",
              "      <td>1.0</td>\n",
              "      <td>0.0</td>\n",
              "      <td>0.0</td>\n",
              "      <td>0.0</td>\n",
              "      <td>0.0</td>\n",
              "      <td>1.0</td>\n",
              "      <td>0.0</td>\n",
              "      <td>0.0</td>\n",
              "      <td>1.0</td>\n",
              "      <td>0.0</td>\n",
              "      <td>0.0</td>\n",
              "      <td>0.0</td>\n",
              "      <td>0.0</td>\n",
              "      <td>0.0</td>\n",
              "      <td>0.0</td>\n",
              "      <td>1.0</td>\n",
              "      <td>0.0</td>\n",
              "    </tr>\n",
              "    <tr>\n",
              "      <th>4</th>\n",
              "      <td>1</td>\n",
              "      <td>142590</td>\n",
              "      <td>1</td>\n",
              "      <td>0.0</td>\n",
              "      <td>0.0</td>\n",
              "      <td>0.0</td>\n",
              "      <td>1.0</td>\n",
              "      <td>0.0</td>\n",
              "      <td>0.0</td>\n",
              "      <td>0.0</td>\n",
              "      <td>0.0</td>\n",
              "      <td>0.0</td>\n",
              "      <td>0.0</td>\n",
              "      <td>0.0</td>\n",
              "      <td>1.0</td>\n",
              "      <td>0.0</td>\n",
              "      <td>0.0</td>\n",
              "      <td>0.0</td>\n",
              "      <td>1.0</td>\n",
              "      <td>0.0</td>\n",
              "      <td>0.0</td>\n",
              "      <td>0.0</td>\n",
              "      <td>0.0</td>\n",
              "      <td>0.0</td>\n",
              "      <td>0.0</td>\n",
              "      <td>0.0</td>\n",
              "      <td>1.0</td>\n",
              "      <td>0.0</td>\n",
              "      <td>0.0</td>\n",
              "      <td>0.0</td>\n",
              "      <td>0.0</td>\n",
              "      <td>0.0</td>\n",
              "      <td>0.0</td>\n",
              "      <td>1.0</td>\n",
              "      <td>0.0</td>\n",
              "      <td>0.0</td>\n",
              "      <td>0.0</td>\n",
              "      <td>1.0</td>\n",
              "      <td>0.0</td>\n",
              "      <td>0.0</td>\n",
              "      <td>0.0</td>\n",
              "      <td>0.0</td>\n",
              "      <td>0.0</td>\n",
              "      <td>1.0</td>\n",
              "      <td>0.0</td>\n",
              "    </tr>\n",
              "    <tr>\n",
              "      <th>...</th>\n",
              "      <td>...</td>\n",
              "      <td>...</td>\n",
              "      <td>...</td>\n",
              "      <td>...</td>\n",
              "      <td>...</td>\n",
              "      <td>...</td>\n",
              "      <td>...</td>\n",
              "      <td>...</td>\n",
              "      <td>...</td>\n",
              "      <td>...</td>\n",
              "      <td>...</td>\n",
              "      <td>...</td>\n",
              "      <td>...</td>\n",
              "      <td>...</td>\n",
              "      <td>...</td>\n",
              "      <td>...</td>\n",
              "      <td>...</td>\n",
              "      <td>...</td>\n",
              "      <td>...</td>\n",
              "      <td>...</td>\n",
              "      <td>...</td>\n",
              "      <td>...</td>\n",
              "      <td>...</td>\n",
              "      <td>...</td>\n",
              "      <td>...</td>\n",
              "      <td>...</td>\n",
              "      <td>...</td>\n",
              "      <td>...</td>\n",
              "      <td>...</td>\n",
              "      <td>...</td>\n",
              "      <td>...</td>\n",
              "      <td>...</td>\n",
              "      <td>...</td>\n",
              "      <td>...</td>\n",
              "      <td>...</td>\n",
              "      <td>...</td>\n",
              "      <td>...</td>\n",
              "      <td>...</td>\n",
              "      <td>...</td>\n",
              "      <td>...</td>\n",
              "      <td>...</td>\n",
              "      <td>...</td>\n",
              "      <td>...</td>\n",
              "      <td>...</td>\n",
              "      <td>...</td>\n",
              "    </tr>\n",
              "    <tr>\n",
              "      <th>34294</th>\n",
              "      <td>1</td>\n",
              "      <td>5000</td>\n",
              "      <td>0</td>\n",
              "      <td>0.0</td>\n",
              "      <td>0.0</td>\n",
              "      <td>0.0</td>\n",
              "      <td>0.0</td>\n",
              "      <td>1.0</td>\n",
              "      <td>0.0</td>\n",
              "      <td>0.0</td>\n",
              "      <td>0.0</td>\n",
              "      <td>0.0</td>\n",
              "      <td>0.0</td>\n",
              "      <td>0.0</td>\n",
              "      <td>1.0</td>\n",
              "      <td>0.0</td>\n",
              "      <td>0.0</td>\n",
              "      <td>0.0</td>\n",
              "      <td>1.0</td>\n",
              "      <td>0.0</td>\n",
              "      <td>0.0</td>\n",
              "      <td>0.0</td>\n",
              "      <td>0.0</td>\n",
              "      <td>0.0</td>\n",
              "      <td>0.0</td>\n",
              "      <td>0.0</td>\n",
              "      <td>0.0</td>\n",
              "      <td>0.0</td>\n",
              "      <td>0.0</td>\n",
              "      <td>1.0</td>\n",
              "      <td>1.0</td>\n",
              "      <td>0.0</td>\n",
              "      <td>0.0</td>\n",
              "      <td>0.0</td>\n",
              "      <td>1.0</td>\n",
              "      <td>0.0</td>\n",
              "      <td>0.0</td>\n",
              "      <td>0.0</td>\n",
              "      <td>0.0</td>\n",
              "      <td>0.0</td>\n",
              "      <td>0.0</td>\n",
              "      <td>0.0</td>\n",
              "      <td>0.0</td>\n",
              "      <td>1.0</td>\n",
              "      <td>0.0</td>\n",
              "    </tr>\n",
              "    <tr>\n",
              "      <th>34295</th>\n",
              "      <td>1</td>\n",
              "      <td>5000</td>\n",
              "      <td>0</td>\n",
              "      <td>0.0</td>\n",
              "      <td>0.0</td>\n",
              "      <td>0.0</td>\n",
              "      <td>0.0</td>\n",
              "      <td>1.0</td>\n",
              "      <td>0.0</td>\n",
              "      <td>0.0</td>\n",
              "      <td>0.0</td>\n",
              "      <td>0.0</td>\n",
              "      <td>1.0</td>\n",
              "      <td>0.0</td>\n",
              "      <td>0.0</td>\n",
              "      <td>0.0</td>\n",
              "      <td>0.0</td>\n",
              "      <td>0.0</td>\n",
              "      <td>0.0</td>\n",
              "      <td>0.0</td>\n",
              "      <td>0.0</td>\n",
              "      <td>0.0</td>\n",
              "      <td>1.0</td>\n",
              "      <td>0.0</td>\n",
              "      <td>0.0</td>\n",
              "      <td>0.0</td>\n",
              "      <td>0.0</td>\n",
              "      <td>0.0</td>\n",
              "      <td>0.0</td>\n",
              "      <td>1.0</td>\n",
              "      <td>1.0</td>\n",
              "      <td>0.0</td>\n",
              "      <td>0.0</td>\n",
              "      <td>0.0</td>\n",
              "      <td>1.0</td>\n",
              "      <td>0.0</td>\n",
              "      <td>0.0</td>\n",
              "      <td>0.0</td>\n",
              "      <td>0.0</td>\n",
              "      <td>0.0</td>\n",
              "      <td>0.0</td>\n",
              "      <td>0.0</td>\n",
              "      <td>0.0</td>\n",
              "      <td>1.0</td>\n",
              "      <td>0.0</td>\n",
              "    </tr>\n",
              "    <tr>\n",
              "      <th>34296</th>\n",
              "      <td>1</td>\n",
              "      <td>5000</td>\n",
              "      <td>0</td>\n",
              "      <td>0.0</td>\n",
              "      <td>0.0</td>\n",
              "      <td>0.0</td>\n",
              "      <td>1.0</td>\n",
              "      <td>0.0</td>\n",
              "      <td>0.0</td>\n",
              "      <td>0.0</td>\n",
              "      <td>0.0</td>\n",
              "      <td>0.0</td>\n",
              "      <td>1.0</td>\n",
              "      <td>0.0</td>\n",
              "      <td>0.0</td>\n",
              "      <td>0.0</td>\n",
              "      <td>0.0</td>\n",
              "      <td>0.0</td>\n",
              "      <td>0.0</td>\n",
              "      <td>0.0</td>\n",
              "      <td>1.0</td>\n",
              "      <td>0.0</td>\n",
              "      <td>0.0</td>\n",
              "      <td>0.0</td>\n",
              "      <td>0.0</td>\n",
              "      <td>0.0</td>\n",
              "      <td>0.0</td>\n",
              "      <td>0.0</td>\n",
              "      <td>1.0</td>\n",
              "      <td>0.0</td>\n",
              "      <td>1.0</td>\n",
              "      <td>0.0</td>\n",
              "      <td>0.0</td>\n",
              "      <td>0.0</td>\n",
              "      <td>1.0</td>\n",
              "      <td>0.0</td>\n",
              "      <td>0.0</td>\n",
              "      <td>0.0</td>\n",
              "      <td>0.0</td>\n",
              "      <td>0.0</td>\n",
              "      <td>0.0</td>\n",
              "      <td>0.0</td>\n",
              "      <td>0.0</td>\n",
              "      <td>1.0</td>\n",
              "      <td>0.0</td>\n",
              "    </tr>\n",
              "    <tr>\n",
              "      <th>34297</th>\n",
              "      <td>1</td>\n",
              "      <td>5000</td>\n",
              "      <td>1</td>\n",
              "      <td>0.0</td>\n",
              "      <td>0.0</td>\n",
              "      <td>0.0</td>\n",
              "      <td>0.0</td>\n",
              "      <td>0.0</td>\n",
              "      <td>1.0</td>\n",
              "      <td>0.0</td>\n",
              "      <td>0.0</td>\n",
              "      <td>0.0</td>\n",
              "      <td>0.0</td>\n",
              "      <td>0.0</td>\n",
              "      <td>1.0</td>\n",
              "      <td>0.0</td>\n",
              "      <td>0.0</td>\n",
              "      <td>0.0</td>\n",
              "      <td>0.0</td>\n",
              "      <td>0.0</td>\n",
              "      <td>0.0</td>\n",
              "      <td>0.0</td>\n",
              "      <td>1.0</td>\n",
              "      <td>0.0</td>\n",
              "      <td>0.0</td>\n",
              "      <td>0.0</td>\n",
              "      <td>0.0</td>\n",
              "      <td>0.0</td>\n",
              "      <td>0.0</td>\n",
              "      <td>1.0</td>\n",
              "      <td>1.0</td>\n",
              "      <td>0.0</td>\n",
              "      <td>0.0</td>\n",
              "      <td>0.0</td>\n",
              "      <td>1.0</td>\n",
              "      <td>0.0</td>\n",
              "      <td>0.0</td>\n",
              "      <td>0.0</td>\n",
              "      <td>0.0</td>\n",
              "      <td>0.0</td>\n",
              "      <td>0.0</td>\n",
              "      <td>0.0</td>\n",
              "      <td>0.0</td>\n",
              "      <td>1.0</td>\n",
              "      <td>0.0</td>\n",
              "    </tr>\n",
              "    <tr>\n",
              "      <th>34298</th>\n",
              "      <td>1</td>\n",
              "      <td>36500179</td>\n",
              "      <td>0</td>\n",
              "      <td>0.0</td>\n",
              "      <td>0.0</td>\n",
              "      <td>0.0</td>\n",
              "      <td>1.0</td>\n",
              "      <td>0.0</td>\n",
              "      <td>0.0</td>\n",
              "      <td>0.0</td>\n",
              "      <td>0.0</td>\n",
              "      <td>0.0</td>\n",
              "      <td>0.0</td>\n",
              "      <td>0.0</td>\n",
              "      <td>1.0</td>\n",
              "      <td>0.0</td>\n",
              "      <td>0.0</td>\n",
              "      <td>0.0</td>\n",
              "      <td>1.0</td>\n",
              "      <td>0.0</td>\n",
              "      <td>0.0</td>\n",
              "      <td>0.0</td>\n",
              "      <td>0.0</td>\n",
              "      <td>0.0</td>\n",
              "      <td>0.0</td>\n",
              "      <td>0.0</td>\n",
              "      <td>0.0</td>\n",
              "      <td>0.0</td>\n",
              "      <td>1.0</td>\n",
              "      <td>0.0</td>\n",
              "      <td>0.0</td>\n",
              "      <td>1.0</td>\n",
              "      <td>0.0</td>\n",
              "      <td>0.0</td>\n",
              "      <td>0.0</td>\n",
              "      <td>0.0</td>\n",
              "      <td>0.0</td>\n",
              "      <td>0.0</td>\n",
              "      <td>0.0</td>\n",
              "      <td>1.0</td>\n",
              "      <td>0.0</td>\n",
              "      <td>0.0</td>\n",
              "      <td>0.0</td>\n",
              "      <td>1.0</td>\n",
              "      <td>0.0</td>\n",
              "    </tr>\n",
              "  </tbody>\n",
              "</table>\n",
              "<p>34299 rows × 45 columns</p>\n",
              "</div>"
            ],
            "text/plain": [
              "       STATUS   ASK_AMT  ...  SPECIAL_CONSIDERATIONS_N  SPECIAL_CONSIDERATIONS_Y\n",
              "0           1      5000  ...                       1.0                       0.0\n",
              "1           1    108590  ...                       1.0                       0.0\n",
              "2           1      5000  ...                       1.0                       0.0\n",
              "3           1      6692  ...                       1.0                       0.0\n",
              "4           1    142590  ...                       1.0                       0.0\n",
              "...       ...       ...  ...                       ...                       ...\n",
              "34294       1      5000  ...                       1.0                       0.0\n",
              "34295       1      5000  ...                       1.0                       0.0\n",
              "34296       1      5000  ...                       1.0                       0.0\n",
              "34297       1      5000  ...                       1.0                       0.0\n",
              "34298       1  36500179  ...                       1.0                       0.0\n",
              "\n",
              "[34299 rows x 45 columns]"
            ]
          },
          "metadata": {},
          "execution_count": 41
        }
      ]
    },
    {
      "cell_type": "code",
      "metadata": {
        "colab": {
          "base_uri": "https://localhost:8080/"
        },
        "id": "OW9BjjEizcob",
        "outputId": "1f3f5076-7712-4de3-9f92-7e7f0797bb83"
      },
      "source": [
        "application_clean.dtypes"
      ],
      "execution_count": 42,
      "outputs": [
        {
          "output_type": "execute_result",
          "data": {
            "text/plain": [
              "STATUS                            int64\n",
              "ASK_AMT                           int64\n",
              "IS_SUCCESSFUL                     int64\n",
              "APPLICATION_TYPE_Other          float64\n",
              "APPLICATION_TYPE_T10            float64\n",
              "APPLICATION_TYPE_T19            float64\n",
              "APPLICATION_TYPE_T3             float64\n",
              "APPLICATION_TYPE_T4             float64\n",
              "APPLICATION_TYPE_T5             float64\n",
              "APPLICATION_TYPE_T6             float64\n",
              "APPLICATION_TYPE_T7             float64\n",
              "APPLICATION_TYPE_T8             float64\n",
              "AFFILIATION_CompanySponsored    float64\n",
              "AFFILIATION_Family/Parent       float64\n",
              "AFFILIATION_Independent         float64\n",
              "AFFILIATION_National            float64\n",
              "AFFILIATION_Other               float64\n",
              "AFFILIATION_Regional            float64\n",
              "CLASSIFICATION_C1000            float64\n",
              "CLASSIFICATION_C1200            float64\n",
              "CLASSIFICATION_C2000            float64\n",
              "CLASSIFICATION_C2100            float64\n",
              "CLASSIFICATION_C3000            float64\n",
              "CLASSIFICATION_C7000            float64\n",
              "CLASSIFICATION_Other            float64\n",
              "USE_CASE_CommunityServ          float64\n",
              "USE_CASE_Heathcare              float64\n",
              "USE_CASE_Other                  float64\n",
              "USE_CASE_Preservation           float64\n",
              "USE_CASE_ProductDev             float64\n",
              "ORGANIZATION_Association        float64\n",
              "ORGANIZATION_Co-operative       float64\n",
              "ORGANIZATION_Corporation        float64\n",
              "ORGANIZATION_Trust              float64\n",
              "INCOME_AMT_0                    float64\n",
              "INCOME_AMT_1-9999               float64\n",
              "INCOME_AMT_10000-24999          float64\n",
              "INCOME_AMT_100000-499999        float64\n",
              "INCOME_AMT_10M-50M              float64\n",
              "INCOME_AMT_1M-5M                float64\n",
              "INCOME_AMT_25000-99999          float64\n",
              "INCOME_AMT_50M+                 float64\n",
              "INCOME_AMT_5M-10M               float64\n",
              "SPECIAL_CONSIDERATIONS_N        float64\n",
              "SPECIAL_CONSIDERATIONS_Y        float64\n",
              "dtype: object"
            ]
          },
          "metadata": {},
          "execution_count": 42
        }
      ]
    },
    {
      "cell_type": "code",
      "metadata": {
        "id": "woDK1bMwmtBC"
      },
      "source": [
        "# Split our preprocessed data into our features and target arrays\n",
        "y = application_clean.IS_SUCCESSFUL.values\n",
        "X = application_clean.drop('IS_SUCCESSFUL', axis=1).values\n",
        "\n",
        "# Split the preprocessed data into a training and testing dataset\n",
        "X_train, X_test, y_train, y_test = train_test_split(X,y,random_state= 42)"
      ],
      "execution_count": 43,
      "outputs": []
    },
    {
      "cell_type": "code",
      "metadata": {
        "id": "I_poFaeRmtBC"
      },
      "source": [
        "# Create a StandardScaler instances\n",
        "scaler = StandardScaler()\n",
        "\n",
        "# Fit the StandardScaler\n",
        "X_scaler = scaler.fit(X_train)\n",
        "\n",
        "# Scale the data\n",
        "X_train_scaled = X_scaler.transform(X_train)\n",
        "X_test_scaled = X_scaler.transform(X_test)"
      ],
      "execution_count": 44,
      "outputs": []
    },
    {
      "cell_type": "code",
      "metadata": {
        "colab": {
          "base_uri": "https://localhost:8080/"
        },
        "id": "B56A3t768VxD",
        "outputId": "00c47632-0980-4b41-e1bc-436879516c7c"
      },
      "source": [
        "X_train.shape"
      ],
      "execution_count": 45,
      "outputs": [
        {
          "output_type": "execute_result",
          "data": {
            "text/plain": [
              "(25724, 44)"
            ]
          },
          "metadata": {},
          "execution_count": 45
        }
      ]
    },
    {
      "cell_type": "markdown",
      "metadata": {
        "id": "I0QoeD9FmtBD"
      },
      "source": [
        "## Compile, Train and Evaluate the Model"
      ]
    },
    {
      "cell_type": "markdown",
      "metadata": {
        "id": "gaWODXbqH2LB"
      },
      "source": [
        "Model 1"
      ]
    },
    {
      "cell_type": "code",
      "metadata": {
        "id": "4NOEI_uYmtBD",
        "colab": {
          "base_uri": "https://localhost:8080/"
        },
        "outputId": "c298ddf2-5690-48db-f80e-bd320fd06154"
      },
      "source": [
        "# Define the model - deep neural net, i.e., the number of input features and hidden nodes for each layer.\n",
        "number_input_features = len( X_train_scaled[0])\n",
        "hidden_nodes_layer1= 20\n",
        "hidden_nodes_layer2= 40\n",
        "hidden_nodes_layer3= 60\n",
        "\n",
        "nn = tf.keras.models.Sequential()\n",
        "\n",
        "# First hidden layer\n",
        "nn.add(tf.keras.layers.Dense(units=hidden_nodes_layer1, input_dim=number_input_features, activation='relu'))\n",
        "\n",
        "# Second hidden layer\n",
        "nn.add(tf.keras.layers.Dense(units=hidden_nodes_layer2, activation='relu'))\n",
        "\n",
        "# Third hidden layer\n",
        "nn.add(tf.keras.layers.Dense(units=hidden_nodes_layer3, activation='relu'))\n",
        "\n",
        "# Output layer\n",
        "nn.add(tf.keras.layers.Dense(units=1, activation='sigmoid'))\n",
        "\n",
        "# Check the structure of the model\n",
        "nn.summary()"
      ],
      "execution_count": 48,
      "outputs": [
        {
          "output_type": "stream",
          "name": "stdout",
          "text": [
            "Model: \"sequential_2\"\n",
            "_________________________________________________________________\n",
            "Layer (type)                 Output Shape              Param #   \n",
            "=================================================================\n",
            "dense (Dense)                (None, 20)                900       \n",
            "_________________________________________________________________\n",
            "dense_1 (Dense)              (None, 40)                840       \n",
            "_________________________________________________________________\n",
            "dense_2 (Dense)              (None, 60)                2460      \n",
            "_________________________________________________________________\n",
            "dense_3 (Dense)              (None, 1)                 61        \n",
            "=================================================================\n",
            "Total params: 4,261\n",
            "Trainable params: 4,261\n",
            "Non-trainable params: 0\n",
            "_________________________________________________________________\n"
          ]
        }
      ]
    },
    {
      "cell_type": "code",
      "metadata": {
        "id": "Zn6zRs5xmtBE"
      },
      "source": [
        "# Compile the model\n",
        "nn.compile(loss = 'binary_crossentropy', optimizer = 'adam', metrics=['accuracy', tf.keras.metrics.Recall()])"
      ],
      "execution_count": 50,
      "outputs": []
    },
    {
      "cell_type": "code",
      "metadata": {
        "id": "iK60_Mp_mtBF",
        "colab": {
          "base_uri": "https://localhost:8080/"
        },
        "outputId": "91bc2024-d170-45fa-e24d-56690485fef7"
      },
      "source": [
        "# Train the model\n",
        "fit_model = nn.fit(X_train_scaled,y_train,validation_split=0.15, epochs=100)"
      ],
      "execution_count": 51,
      "outputs": [
        {
          "output_type": "stream",
          "name": "stdout",
          "text": [
            "Epoch 1/100\n",
            "684/684 [==============================] - 3s 3ms/step - loss: 0.5834 - accuracy: 0.7040 - recall: 0.7680 - val_loss: 0.5472 - val_accuracy: 0.7359 - val_recall: 0.7845\n",
            "Epoch 2/100\n",
            "684/684 [==============================] - 2s 2ms/step - loss: 0.5574 - accuracy: 0.7262 - recall: 0.7891 - val_loss: 0.5511 - val_accuracy: 0.7380 - val_recall: 0.7576\n",
            "Epoch 3/100\n",
            "684/684 [==============================] - 2s 2ms/step - loss: 0.5539 - accuracy: 0.7290 - recall: 0.7901 - val_loss: 0.5457 - val_accuracy: 0.7326 - val_recall: 0.7969\n",
            "Epoch 4/100\n",
            "684/684 [==============================] - 2s 2ms/step - loss: 0.5516 - accuracy: 0.7290 - recall: 0.7913 - val_loss: 0.5457 - val_accuracy: 0.7349 - val_recall: 0.7641\n",
            "Epoch 5/100\n",
            "684/684 [==============================] - 2s 2ms/step - loss: 0.5498 - accuracy: 0.7298 - recall: 0.7936 - val_loss: 0.5472 - val_accuracy: 0.7349 - val_recall: 0.7835\n",
            "Epoch 6/100\n",
            "684/684 [==============================] - 2s 2ms/step - loss: 0.5495 - accuracy: 0.7302 - recall: 0.7911 - val_loss: 0.5467 - val_accuracy: 0.7370 - val_recall: 0.7561\n",
            "Epoch 7/100\n",
            "684/684 [==============================] - 2s 2ms/step - loss: 0.5482 - accuracy: 0.7311 - recall: 0.7951 - val_loss: 0.5453 - val_accuracy: 0.7365 - val_recall: 0.7641\n",
            "Epoch 8/100\n",
            "684/684 [==============================] - 2s 2ms/step - loss: 0.5476 - accuracy: 0.7316 - recall: 0.7954 - val_loss: 0.5444 - val_accuracy: 0.7315 - val_recall: 0.7984\n",
            "Epoch 9/100\n",
            "684/684 [==============================] - 2s 2ms/step - loss: 0.5464 - accuracy: 0.7312 - recall: 0.7915 - val_loss: 0.5463 - val_accuracy: 0.7344 - val_recall: 0.7735\n",
            "Epoch 10/100\n",
            "684/684 [==============================] - 2s 2ms/step - loss: 0.5458 - accuracy: 0.7331 - recall: 0.7961 - val_loss: 0.5443 - val_accuracy: 0.7302 - val_recall: 0.8029\n",
            "Epoch 11/100\n",
            "684/684 [==============================] - 2s 2ms/step - loss: 0.5460 - accuracy: 0.7325 - recall: 0.7924 - val_loss: 0.5433 - val_accuracy: 0.7352 - val_recall: 0.7715\n",
            "Epoch 12/100\n",
            "684/684 [==============================] - 2s 2ms/step - loss: 0.5460 - accuracy: 0.7320 - recall: 0.7907 - val_loss: 0.5442 - val_accuracy: 0.7344 - val_recall: 0.7929\n",
            "Epoch 13/100\n",
            "684/684 [==============================] - 2s 2ms/step - loss: 0.5450 - accuracy: 0.7331 - recall: 0.7964 - val_loss: 0.5430 - val_accuracy: 0.7346 - val_recall: 0.7885\n",
            "Epoch 14/100\n",
            "684/684 [==============================] - 2s 2ms/step - loss: 0.5444 - accuracy: 0.7328 - recall: 0.7984 - val_loss: 0.5445 - val_accuracy: 0.7318 - val_recall: 0.7646\n",
            "Epoch 15/100\n",
            "684/684 [==============================] - 2s 2ms/step - loss: 0.5442 - accuracy: 0.7343 - recall: 0.8054 - val_loss: 0.5456 - val_accuracy: 0.7308 - val_recall: 0.7616\n",
            "Epoch 16/100\n",
            "684/684 [==============================] - 2s 2ms/step - loss: 0.5440 - accuracy: 0.7343 - recall: 0.7952 - val_loss: 0.5433 - val_accuracy: 0.7336 - val_recall: 0.7576\n",
            "Epoch 17/100\n",
            "684/684 [==============================] - 2s 2ms/step - loss: 0.5439 - accuracy: 0.7339 - recall: 0.7863 - val_loss: 0.5465 - val_accuracy: 0.7349 - val_recall: 0.7820\n",
            "Epoch 18/100\n",
            "684/684 [==============================] - 2s 2ms/step - loss: 0.5439 - accuracy: 0.7330 - recall: 0.7947 - val_loss: 0.5462 - val_accuracy: 0.7341 - val_recall: 0.7800\n",
            "Epoch 19/100\n",
            "684/684 [==============================] - 2s 2ms/step - loss: 0.5432 - accuracy: 0.7352 - recall: 0.7929 - val_loss: 0.5436 - val_accuracy: 0.7326 - val_recall: 0.7730\n",
            "Epoch 20/100\n",
            "684/684 [==============================] - 2s 2ms/step - loss: 0.5430 - accuracy: 0.7331 - recall: 0.7917 - val_loss: 0.5482 - val_accuracy: 0.7341 - val_recall: 0.7670\n",
            "Epoch 21/100\n",
            "684/684 [==============================] - 2s 2ms/step - loss: 0.5426 - accuracy: 0.7351 - recall: 0.7973 - val_loss: 0.5460 - val_accuracy: 0.7341 - val_recall: 0.7775\n",
            "Epoch 22/100\n",
            "684/684 [==============================] - 2s 2ms/step - loss: 0.5430 - accuracy: 0.7335 - recall: 0.7910 - val_loss: 0.5452 - val_accuracy: 0.7339 - val_recall: 0.7695\n",
            "Epoch 23/100\n",
            "684/684 [==============================] - 2s 3ms/step - loss: 0.5423 - accuracy: 0.7352 - recall: 0.7937 - val_loss: 0.5445 - val_accuracy: 0.7344 - val_recall: 0.7730\n",
            "Epoch 24/100\n",
            "684/684 [==============================] - 2s 3ms/step - loss: 0.5421 - accuracy: 0.7348 - recall: 0.7950 - val_loss: 0.5447 - val_accuracy: 0.7323 - val_recall: 0.7631\n",
            "Epoch 25/100\n",
            "684/684 [==============================] - 2s 3ms/step - loss: 0.5416 - accuracy: 0.7359 - recall: 0.7924 - val_loss: 0.5432 - val_accuracy: 0.7349 - val_recall: 0.7621\n",
            "Epoch 26/100\n",
            "684/684 [==============================] - 2s 3ms/step - loss: 0.5416 - accuracy: 0.7343 - recall: 0.7911 - val_loss: 0.5466 - val_accuracy: 0.7321 - val_recall: 0.7402\n",
            "Epoch 27/100\n",
            "684/684 [==============================] - 2s 3ms/step - loss: 0.5422 - accuracy: 0.7350 - recall: 0.7907 - val_loss: 0.5445 - val_accuracy: 0.7331 - val_recall: 0.7601\n",
            "Epoch 28/100\n",
            "684/684 [==============================] - 2s 2ms/step - loss: 0.5410 - accuracy: 0.7360 - recall: 0.7937 - val_loss: 0.5436 - val_accuracy: 0.7344 - val_recall: 0.7661\n",
            "Epoch 29/100\n",
            "684/684 [==============================] - 2s 3ms/step - loss: 0.5409 - accuracy: 0.7354 - recall: 0.7948 - val_loss: 0.5463 - val_accuracy: 0.7287 - val_recall: 0.7865\n",
            "Epoch 30/100\n",
            "684/684 [==============================] - 2s 3ms/step - loss: 0.5406 - accuracy: 0.7358 - recall: 0.7887 - val_loss: 0.5443 - val_accuracy: 0.7339 - val_recall: 0.7735\n",
            "Epoch 31/100\n",
            "684/684 [==============================] - 2s 3ms/step - loss: 0.5407 - accuracy: 0.7368 - recall: 0.7961 - val_loss: 0.5467 - val_accuracy: 0.7334 - val_recall: 0.7651\n",
            "Epoch 32/100\n",
            "684/684 [==============================] - 2s 3ms/step - loss: 0.5402 - accuracy: 0.7364 - recall: 0.7926 - val_loss: 0.5430 - val_accuracy: 0.7362 - val_recall: 0.7581\n",
            "Epoch 33/100\n",
            "684/684 [==============================] - 2s 2ms/step - loss: 0.5404 - accuracy: 0.7362 - recall: 0.7914 - val_loss: 0.5439 - val_accuracy: 0.7339 - val_recall: 0.7641\n",
            "Epoch 34/100\n",
            "684/684 [==============================] - 2s 2ms/step - loss: 0.5402 - accuracy: 0.7363 - recall: 0.7945 - val_loss: 0.5451 - val_accuracy: 0.7339 - val_recall: 0.7596\n",
            "Epoch 35/100\n",
            "684/684 [==============================] - 2s 2ms/step - loss: 0.5399 - accuracy: 0.7362 - recall: 0.7928 - val_loss: 0.5466 - val_accuracy: 0.7331 - val_recall: 0.7680\n",
            "Epoch 36/100\n",
            "684/684 [==============================] - 2s 2ms/step - loss: 0.5400 - accuracy: 0.7359 - recall: 0.7910 - val_loss: 0.5449 - val_accuracy: 0.7349 - val_recall: 0.7680\n",
            "Epoch 37/100\n",
            "684/684 [==============================] - 2s 2ms/step - loss: 0.5398 - accuracy: 0.7366 - recall: 0.7942 - val_loss: 0.5461 - val_accuracy: 0.7331 - val_recall: 0.7651\n",
            "Epoch 38/100\n",
            "684/684 [==============================] - 2s 2ms/step - loss: 0.5397 - accuracy: 0.7370 - recall: 0.7936 - val_loss: 0.5432 - val_accuracy: 0.7344 - val_recall: 0.7476\n",
            "Epoch 39/100\n",
            "684/684 [==============================] - 2s 2ms/step - loss: 0.5396 - accuracy: 0.7375 - recall: 0.7990 - val_loss: 0.5438 - val_accuracy: 0.7359 - val_recall: 0.7765\n",
            "Epoch 40/100\n",
            "684/684 [==============================] - 2s 2ms/step - loss: 0.5390 - accuracy: 0.7371 - recall: 0.7978 - val_loss: 0.5427 - val_accuracy: 0.7362 - val_recall: 0.7765\n",
            "Epoch 41/100\n",
            "684/684 [==============================] - 2s 2ms/step - loss: 0.5396 - accuracy: 0.7367 - recall: 0.7950 - val_loss: 0.5438 - val_accuracy: 0.7344 - val_recall: 0.7606\n",
            "Epoch 42/100\n",
            "684/684 [==============================] - 2s 2ms/step - loss: 0.5393 - accuracy: 0.7382 - recall: 0.7961 - val_loss: 0.5445 - val_accuracy: 0.7328 - val_recall: 0.7631\n",
            "Epoch 43/100\n",
            "684/684 [==============================] - 2s 2ms/step - loss: 0.5393 - accuracy: 0.7368 - recall: 0.7931 - val_loss: 0.5433 - val_accuracy: 0.7328 - val_recall: 0.7651\n",
            "Epoch 44/100\n",
            "684/684 [==============================] - 2s 2ms/step - loss: 0.5391 - accuracy: 0.7378 - recall: 0.7937 - val_loss: 0.5463 - val_accuracy: 0.7331 - val_recall: 0.7631\n",
            "Epoch 45/100\n",
            "684/684 [==============================] - 2s 2ms/step - loss: 0.5389 - accuracy: 0.7373 - recall: 0.7942 - val_loss: 0.5447 - val_accuracy: 0.7328 - val_recall: 0.7536\n",
            "Epoch 46/100\n",
            "684/684 [==============================] - 2s 2ms/step - loss: 0.5389 - accuracy: 0.7381 - recall: 0.7992 - val_loss: 0.5445 - val_accuracy: 0.7336 - val_recall: 0.7651\n",
            "Epoch 47/100\n",
            "684/684 [==============================] - 2s 2ms/step - loss: 0.5385 - accuracy: 0.7374 - recall: 0.7948 - val_loss: 0.5447 - val_accuracy: 0.7344 - val_recall: 0.7591\n",
            "Epoch 48/100\n",
            "684/684 [==============================] - 2s 2ms/step - loss: 0.5382 - accuracy: 0.7373 - recall: 0.7942 - val_loss: 0.5467 - val_accuracy: 0.7339 - val_recall: 0.7526\n",
            "Epoch 49/100\n",
            "684/684 [==============================] - 2s 2ms/step - loss: 0.5385 - accuracy: 0.7377 - recall: 0.7967 - val_loss: 0.5441 - val_accuracy: 0.7331 - val_recall: 0.7670\n",
            "Epoch 50/100\n",
            "684/684 [==============================] - 2s 2ms/step - loss: 0.5382 - accuracy: 0.7373 - recall: 0.7963 - val_loss: 0.5449 - val_accuracy: 0.7323 - val_recall: 0.7601\n",
            "Epoch 51/100\n",
            "684/684 [==============================] - 2s 3ms/step - loss: 0.5377 - accuracy: 0.7383 - recall: 0.7979 - val_loss: 0.5458 - val_accuracy: 0.7336 - val_recall: 0.7636\n",
            "Epoch 52/100\n",
            "684/684 [==============================] - 2s 2ms/step - loss: 0.5380 - accuracy: 0.7385 - recall: 0.7966 - val_loss: 0.5450 - val_accuracy: 0.7357 - val_recall: 0.7680\n",
            "Epoch 53/100\n",
            "684/684 [==============================] - 2s 2ms/step - loss: 0.5379 - accuracy: 0.7383 - recall: 0.7955 - val_loss: 0.5460 - val_accuracy: 0.7354 - val_recall: 0.7685\n",
            "Epoch 54/100\n",
            "684/684 [==============================] - 2s 2ms/step - loss: 0.5379 - accuracy: 0.7383 - recall: 0.7963 - val_loss: 0.5438 - val_accuracy: 0.7341 - val_recall: 0.7695\n",
            "Epoch 55/100\n",
            "684/684 [==============================] - 1s 2ms/step - loss: 0.5376 - accuracy: 0.7388 - recall: 0.7986 - val_loss: 0.5442 - val_accuracy: 0.7357 - val_recall: 0.7770\n",
            "Epoch 56/100\n",
            "684/684 [==============================] - 2s 2ms/step - loss: 0.5377 - accuracy: 0.7382 - recall: 0.7972 - val_loss: 0.5427 - val_accuracy: 0.7367 - val_recall: 0.7760\n",
            "Epoch 57/100\n",
            "684/684 [==============================] - 2s 2ms/step - loss: 0.5373 - accuracy: 0.7383 - recall: 0.8032 - val_loss: 0.5442 - val_accuracy: 0.7344 - val_recall: 0.7656\n",
            "Epoch 58/100\n",
            "684/684 [==============================] - 2s 2ms/step - loss: 0.5373 - accuracy: 0.7368 - recall: 0.7929 - val_loss: 0.5450 - val_accuracy: 0.7352 - val_recall: 0.7715\n",
            "Epoch 59/100\n",
            "684/684 [==============================] - 2s 2ms/step - loss: 0.5374 - accuracy: 0.7386 - recall: 0.7988 - val_loss: 0.5427 - val_accuracy: 0.7378 - val_recall: 0.7855\n",
            "Epoch 60/100\n",
            "684/684 [==============================] - 2s 2ms/step - loss: 0.5372 - accuracy: 0.7394 - recall: 0.7972 - val_loss: 0.5444 - val_accuracy: 0.7346 - val_recall: 0.7785\n",
            "Epoch 61/100\n",
            "684/684 [==============================] - 2s 3ms/step - loss: 0.5371 - accuracy: 0.7378 - recall: 0.7955 - val_loss: 0.5456 - val_accuracy: 0.7341 - val_recall: 0.7715\n",
            "Epoch 62/100\n",
            "684/684 [==============================] - 2s 2ms/step - loss: 0.5367 - accuracy: 0.7389 - recall: 0.7998 - val_loss: 0.5471 - val_accuracy: 0.7339 - val_recall: 0.7576\n",
            "Epoch 63/100\n",
            "684/684 [==============================] - 2s 2ms/step - loss: 0.5372 - accuracy: 0.7389 - recall: 0.7968 - val_loss: 0.5447 - val_accuracy: 0.7357 - val_recall: 0.7720\n",
            "Epoch 64/100\n",
            "684/684 [==============================] - 2s 2ms/step - loss: 0.5373 - accuracy: 0.7388 - recall: 0.7961 - val_loss: 0.5459 - val_accuracy: 0.7334 - val_recall: 0.7685\n",
            "Epoch 65/100\n",
            "684/684 [==============================] - 2s 3ms/step - loss: 0.5366 - accuracy: 0.7384 - recall: 0.7943 - val_loss: 0.5487 - val_accuracy: 0.7336 - val_recall: 0.7651\n",
            "Epoch 66/100\n",
            "684/684 [==============================] - 2s 3ms/step - loss: 0.5366 - accuracy: 0.7392 - recall: 0.7955 - val_loss: 0.5459 - val_accuracy: 0.7365 - val_recall: 0.7695\n",
            "Epoch 67/100\n",
            "684/684 [==============================] - 2s 3ms/step - loss: 0.5365 - accuracy: 0.7370 - recall: 0.7997 - val_loss: 0.5456 - val_accuracy: 0.7352 - val_recall: 0.7561\n",
            "Epoch 68/100\n",
            "684/684 [==============================] - 2s 3ms/step - loss: 0.5364 - accuracy: 0.7392 - recall: 0.7970 - val_loss: 0.5470 - val_accuracy: 0.7344 - val_recall: 0.7680\n",
            "Epoch 69/100\n",
            "684/684 [==============================] - 2s 3ms/step - loss: 0.5364 - accuracy: 0.7383 - recall: 0.7961 - val_loss: 0.5442 - val_accuracy: 0.7344 - val_recall: 0.7666\n",
            "Epoch 70/100\n",
            "684/684 [==============================] - 2s 3ms/step - loss: 0.5365 - accuracy: 0.7390 - recall: 0.7983 - val_loss: 0.5438 - val_accuracy: 0.7352 - val_recall: 0.7626\n",
            "Epoch 71/100\n",
            "684/684 [==============================] - 2s 3ms/step - loss: 0.5365 - accuracy: 0.7395 - recall: 0.7976 - val_loss: 0.5478 - val_accuracy: 0.7344 - val_recall: 0.7661\n",
            "Epoch 72/100\n",
            "684/684 [==============================] - 2s 2ms/step - loss: 0.5365 - accuracy: 0.7393 - recall: 0.8032 - val_loss: 0.5449 - val_accuracy: 0.7328 - val_recall: 0.7606\n",
            "Epoch 73/100\n",
            "684/684 [==============================] - 2s 2ms/step - loss: 0.5365 - accuracy: 0.7383 - recall: 0.7954 - val_loss: 0.5449 - val_accuracy: 0.7341 - val_recall: 0.7651\n",
            "Epoch 74/100\n",
            "684/684 [==============================] - 2s 2ms/step - loss: 0.5362 - accuracy: 0.7389 - recall: 0.7962 - val_loss: 0.5472 - val_accuracy: 0.7334 - val_recall: 0.7621\n",
            "Epoch 75/100\n",
            "684/684 [==============================] - 2s 2ms/step - loss: 0.5365 - accuracy: 0.7389 - recall: 0.7979 - val_loss: 0.5452 - val_accuracy: 0.7349 - val_recall: 0.7715\n",
            "Epoch 76/100\n",
            "684/684 [==============================] - 2s 3ms/step - loss: 0.5362 - accuracy: 0.7396 - recall: 0.7950 - val_loss: 0.5443 - val_accuracy: 0.7336 - val_recall: 0.7680\n",
            "Epoch 77/100\n",
            "684/684 [==============================] - 2s 2ms/step - loss: 0.5360 - accuracy: 0.7385 - recall: 0.7974 - val_loss: 0.5480 - val_accuracy: 0.7323 - val_recall: 0.7601\n",
            "Epoch 78/100\n",
            "684/684 [==============================] - 2s 2ms/step - loss: 0.5358 - accuracy: 0.7390 - recall: 0.8064 - val_loss: 0.5450 - val_accuracy: 0.7326 - val_recall: 0.7626\n",
            "Epoch 79/100\n",
            "684/684 [==============================] - 2s 2ms/step - loss: 0.5363 - accuracy: 0.7398 - recall: 0.7949 - val_loss: 0.5469 - val_accuracy: 0.7339 - val_recall: 0.7805\n",
            "Epoch 80/100\n",
            "684/684 [==============================] - 2s 2ms/step - loss: 0.5358 - accuracy: 0.7389 - recall: 0.7979 - val_loss: 0.5453 - val_accuracy: 0.7326 - val_recall: 0.7611\n",
            "Epoch 81/100\n",
            "684/684 [==============================] - 2s 2ms/step - loss: 0.5356 - accuracy: 0.7389 - recall: 0.7965 - val_loss: 0.5476 - val_accuracy: 0.7318 - val_recall: 0.7611\n",
            "Epoch 82/100\n",
            "684/684 [==============================] - 2s 2ms/step - loss: 0.5356 - accuracy: 0.7402 - recall: 0.7986 - val_loss: 0.5445 - val_accuracy: 0.7362 - val_recall: 0.7775\n",
            "Epoch 83/100\n",
            "684/684 [==============================] - 2s 2ms/step - loss: 0.5359 - accuracy: 0.7389 - recall: 0.7985 - val_loss: 0.5444 - val_accuracy: 0.7334 - val_recall: 0.7641\n",
            "Epoch 84/100\n",
            "684/684 [==============================] - 2s 2ms/step - loss: 0.5354 - accuracy: 0.7398 - recall: 0.8017 - val_loss: 0.5437 - val_accuracy: 0.7352 - val_recall: 0.7715\n",
            "Epoch 85/100\n",
            "684/684 [==============================] - 2s 3ms/step - loss: 0.5354 - accuracy: 0.7386 - recall: 0.8000 - val_loss: 0.5497 - val_accuracy: 0.7297 - val_recall: 0.7904\n",
            "Epoch 86/100\n",
            "684/684 [==============================] - 2s 2ms/step - loss: 0.5355 - accuracy: 0.7390 - recall: 0.7959 - val_loss: 0.5443 - val_accuracy: 0.7328 - val_recall: 0.7626\n",
            "Epoch 87/100\n",
            "684/684 [==============================] - 2s 2ms/step - loss: 0.5355 - accuracy: 0.7394 - recall: 0.7996 - val_loss: 0.5475 - val_accuracy: 0.7339 - val_recall: 0.7651\n",
            "Epoch 88/100\n",
            "684/684 [==============================] - 2s 2ms/step - loss: 0.5351 - accuracy: 0.7391 - recall: 0.7963 - val_loss: 0.5467 - val_accuracy: 0.7334 - val_recall: 0.7636\n",
            "Epoch 89/100\n",
            "684/684 [==============================] - 2s 2ms/step - loss: 0.5354 - accuracy: 0.7393 - recall: 0.7970 - val_loss: 0.5493 - val_accuracy: 0.7323 - val_recall: 0.7964\n",
            "Epoch 90/100\n",
            "684/684 [==============================] - 2s 2ms/step - loss: 0.5350 - accuracy: 0.7396 - recall: 0.7995 - val_loss: 0.5491 - val_accuracy: 0.7354 - val_recall: 0.7661\n",
            "Epoch 91/100\n",
            "684/684 [==============================] - 2s 2ms/step - loss: 0.5351 - accuracy: 0.7402 - recall: 0.7991 - val_loss: 0.5456 - val_accuracy: 0.7341 - val_recall: 0.7760\n",
            "Epoch 92/100\n",
            "684/684 [==============================] - 2s 2ms/step - loss: 0.5350 - accuracy: 0.7393 - recall: 0.7944 - val_loss: 0.5467 - val_accuracy: 0.7341 - val_recall: 0.7685\n",
            "Epoch 93/100\n",
            "684/684 [==============================] - 2s 2ms/step - loss: 0.5348 - accuracy: 0.7399 - recall: 0.7976 - val_loss: 0.5478 - val_accuracy: 0.7331 - val_recall: 0.7616\n",
            "Epoch 94/100\n",
            "684/684 [==============================] - 2s 2ms/step - loss: 0.5353 - accuracy: 0.7387 - recall: 0.7975 - val_loss: 0.5480 - val_accuracy: 0.7331 - val_recall: 0.7586\n",
            "Epoch 95/100\n",
            "684/684 [==============================] - 2s 3ms/step - loss: 0.5349 - accuracy: 0.7387 - recall: 0.7946 - val_loss: 0.5459 - val_accuracy: 0.7341 - val_recall: 0.7680\n",
            "Epoch 96/100\n",
            "684/684 [==============================] - 2s 3ms/step - loss: 0.5349 - accuracy: 0.7395 - recall: 0.7973 - val_loss: 0.5458 - val_accuracy: 0.7321 - val_recall: 0.7641\n",
            "Epoch 97/100\n",
            "684/684 [==============================] - 2s 3ms/step - loss: 0.5346 - accuracy: 0.7394 - recall: 0.7956 - val_loss: 0.5468 - val_accuracy: 0.7331 - val_recall: 0.7666\n",
            "Epoch 98/100\n",
            "684/684 [==============================] - 2s 2ms/step - loss: 0.5345 - accuracy: 0.7394 - recall: 0.7975 - val_loss: 0.5458 - val_accuracy: 0.7341 - val_recall: 0.7636\n",
            "Epoch 99/100\n",
            "684/684 [==============================] - 2s 3ms/step - loss: 0.5344 - accuracy: 0.7399 - recall: 0.7961 - val_loss: 0.5469 - val_accuracy: 0.7365 - val_recall: 0.7765\n",
            "Epoch 100/100\n",
            "684/684 [==============================] - 2s 2ms/step - loss: 0.5345 - accuracy: 0.7395 - recall: 0.7989 - val_loss: 0.5493 - val_accuracy: 0.7341 - val_recall: 0.7591\n"
          ]
        }
      ]
    },
    {
      "cell_type": "code",
      "metadata": {
        "id": "vQhCtav7mtBF",
        "colab": {
          "base_uri": "https://localhost:8080/"
        },
        "outputId": "459a2a81-deb0-4b22-a76b-95fb718709fa"
      },
      "source": [
        "# Evaluate the model using the test data\n",
        "model_loss, model_accuracy, Recall = nn.evaluate(X_test_scaled,y_test,verbose=2)\n",
        "print(f\"Loss: {model_loss}, Accuracy: {model_accuracy}, Recall: {Recall}\" )"
      ],
      "execution_count": 54,
      "outputs": [
        {
          "output_type": "stream",
          "name": "stdout",
          "text": [
            "268/268 - 0s - loss: 0.5649 - accuracy: 0.7240 - recall: 0.7726\n",
            "Loss: 0.5649186372756958, Accuracy: 0.7239649891853333, Recall: 0.7725883722305298\n"
          ]
        }
      ]
    },
    {
      "cell_type": "code",
      "metadata": {
        "colab": {
          "base_uri": "https://localhost:8080/",
          "height": 295
        },
        "id": "xfFqBisXEsWc",
        "outputId": "3d6b4cf6-1a9b-4ea7-88dd-691521ed6c81"
      },
      "source": [
        "import matplotlib.pyplot as plt\n",
        "plt.plot(fit_model.history['accuracy'], 'palevioletred', label='Training Accuracy')\n",
        "plt.plot(fit_model.history['val_accuracy'], 'blue',label='Validation Accuracy')\n",
        "plt.xlabel('Number of Epochs')\n",
        "plt.ylabel('Loss')\n",
        "plt.title('Accuracy')\n",
        "plt.legend()\n",
        "plt.show()"
      ],
      "execution_count": 60,
      "outputs": [
        {
          "output_type": "display_data",
          "data": {
            "image/png": "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\n",
            "text/plain": [
              "<Figure size 432x288 with 1 Axes>"
            ]
          },
          "metadata": {
            "needs_background": "light"
          }
        }
      ]
    },
    {
      "cell_type": "code",
      "metadata": {
        "colab": {
          "base_uri": "https://localhost:8080/",
          "height": 300
        },
        "id": "4SbvmIREGSF7",
        "outputId": "4ba6ca22-4d25-4be5-b9ba-0350b38ef76b"
      },
      "source": [
        "plt.title('Loss',fontsize=20)\n",
        "plt.plot(fit_model.history['loss'], 'palevioletred', label='Training Loss')\n",
        "plt.plot(fit_model.history['val_loss'],'blue', label='Validation Loss')\n",
        "plt.xlabel('Number of Epochs')\n",
        "plt.ylabel('Loss')\n",
        "plt.legend()\n",
        "plt.show()"
      ],
      "execution_count": 61,
      "outputs": [
        {
          "output_type": "display_data",
          "data": {
            "image/png": "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\n",
            "text/plain": [
              "<Figure size 432x288 with 1 Axes>"
            ]
          },
          "metadata": {
            "needs_background": "light"
          }
        }
      ]
    },
    {
      "cell_type": "code",
      "metadata": {
        "id": "iu44_iGImtBG",
        "colab": {
          "base_uri": "https://localhost:8080/",
          "height": 17
        },
        "outputId": "f12fb3cb-459a-47cd-e520-be9f14386322"
      },
      "source": [
        "# Export our model to HDF5 file\n",
        "from google.colab import files\n",
        "\n",
        "nn.save('/content/ModelOne.h5')\n",
        "files.download('/content/ModelOne.h5')"
      ],
      "execution_count": 62,
      "outputs": [
        {
          "output_type": "display_data",
          "data": {
            "application/javascript": [
              "\n",
              "    async function download(id, filename, size) {\n",
              "      if (!google.colab.kernel.accessAllowed) {\n",
              "        return;\n",
              "      }\n",
              "      const div = document.createElement('div');\n",
              "      const label = document.createElement('label');\n",
              "      label.textContent = `Downloading \"${filename}\": `;\n",
              "      div.appendChild(label);\n",
              "      const progress = document.createElement('progress');\n",
              "      progress.max = size;\n",
              "      div.appendChild(progress);\n",
              "      document.body.appendChild(div);\n",
              "\n",
              "      const buffers = [];\n",
              "      let downloaded = 0;\n",
              "\n",
              "      const channel = await google.colab.kernel.comms.open(id);\n",
              "      // Send a message to notify the kernel that we're ready.\n",
              "      channel.send({})\n",
              "\n",
              "      for await (const message of channel.messages) {\n",
              "        // Send a message to notify the kernel that we're ready.\n",
              "        channel.send({})\n",
              "        if (message.buffers) {\n",
              "          for (const buffer of message.buffers) {\n",
              "            buffers.push(buffer);\n",
              "            downloaded += buffer.byteLength;\n",
              "            progress.value = downloaded;\n",
              "          }\n",
              "        }\n",
              "      }\n",
              "      const blob = new Blob(buffers, {type: 'application/binary'});\n",
              "      const a = document.createElement('a');\n",
              "      a.href = window.URL.createObjectURL(blob);\n",
              "      a.download = filename;\n",
              "      div.appendChild(a);\n",
              "      a.click();\n",
              "      div.remove();\n",
              "    }\n",
              "  "
            ],
            "text/plain": [
              "<IPython.core.display.Javascript object>"
            ]
          },
          "metadata": {}
        },
        {
          "output_type": "display_data",
          "data": {
            "application/javascript": [
              "download(\"download_80935e06-7f3a-4c11-8089-4fa663f7861c\", \"ModelOne.h5\", 88976)"
            ],
            "text/plain": [
              "<IPython.core.display.Javascript object>"
            ]
          },
          "metadata": {}
        }
      ]
    }
  ]
>>>>>>> 8c2af790a724f1c72878ec128ef7b65fd877f37a
}